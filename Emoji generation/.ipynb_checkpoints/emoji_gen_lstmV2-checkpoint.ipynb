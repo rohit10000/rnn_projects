{
 "cells": [
  {
   "cell_type": "markdown",
   "metadata": {},
   "source": [
    "# Emoji generation using LSTM"
   ]
  },
  {
   "cell_type": "code",
   "execution_count": 20,
   "metadata": {},
   "outputs": [],
   "source": [
    "import numpy as np\n",
    "from emo_utils import *\n",
    "np.random.seed(0)\n",
    "from keras.models import Model\n",
    "from keras.layers import Dense, Input, Dropout, LSTM, Activation, Reshape, Lambda\n",
    "from keras.layers.embeddings import Embedding\n",
    "from keras.preprocessing import sequence\n",
    "from keras.initializers import glorot_uniform\n",
    "from keras.optimizers import Adam\n",
    "np.random.seed(1)"
   ]
  },
  {
   "cell_type": "code",
   "execution_count": 3,
   "metadata": {},
   "outputs": [],
   "source": [
    "def read_glove_vecs(glove_file):\n",
    "    with open(glove_file, 'r', encoding=\"utf8\") as f:\n",
    "        words = set()\n",
    "        word_to_vec_map = {}\n",
    "        for line in f:\n",
    "            line = line.strip().split()\n",
    "            curr_word = line[0]\n",
    "            words.add(curr_word)\n",
    "            word_to_vec_map[curr_word] = np.array(line[1:], dtype=np.float64)\n",
    "        \n",
    "        i = 1\n",
    "        words_to_index = {}\n",
    "        index_to_words = {}\n",
    "        for w in sorted(words):\n",
    "            words_to_index[w] = i\n",
    "            index_to_words[i] = w\n",
    "            i = i + 1\n",
    "    return words_to_index, index_to_words, word_to_vec_map"
   ]
  },
  {
   "cell_type": "code",
   "execution_count": 4,
   "metadata": {},
   "outputs": [],
   "source": [
    "word_to_index, index_to_word, word_to_vec_map = read_glove_vecs('data/glove.6B.50d.txt')"
   ]
  },
  {
   "cell_type": "code",
   "execution_count": 5,
   "metadata": {},
   "outputs": [],
   "source": [
    "def sentences_to_indices(X, word_to_index, max_len):\n",
    " \n",
    "    m = X.shape[0]                                   \n",
    "    X_indices = np.zeros((m, max_len))\n",
    "    for i in range(m):                               \n",
    "        \n",
    "        sentence_words = X[i].lower().split()\n",
    "        j = 0\n",
    "        \n",
    "        for w in sentence_words:\n",
    "            X_indices[i, j] = word_to_index[w] \n",
    "            j = j + 1\n",
    "    \n",
    "    return X_indices"
   ]
  },
  {
   "cell_type": "code",
   "execution_count": 6,
   "metadata": {},
   "outputs": [
    {
     "name": "stdout",
     "output_type": "stream",
     "text": [
      "X1 = ['funny lol' 'lets play baseball' 'food is ready for you']\n",
      "X1_indices = [[155345. 225122.      0.      0.      0.]\n",
      " [220930. 286375.  69714.      0.      0.]\n",
      " [151204. 192973. 302254. 151349. 394475.]]\n"
     ]
    }
   ],
   "source": [
    "X1 = np.array([\"funny lol\", \"lets play baseball\", \"food is ready for you\"])\n",
    "X1_indices = sentences_to_indices(X1,word_to_index, max_len = 5)\n",
    "print(\"X1 =\", X1)\n",
    "print(\"X1_indices =\", X1_indices)"
   ]
  },
  {
   "cell_type": "code",
   "execution_count": 7,
   "metadata": {},
   "outputs": [],
   "source": [
    "X_train, Y_train = read_csv('data/train_emoji.csv')\n",
    "X_test, Y_test = read_csv('data/tesss.csv')"
   ]
  },
  {
   "cell_type": "code",
   "execution_count": 9,
   "metadata": {},
   "outputs": [],
   "source": [
    "maxLen = len(max(X_train, key=len).split())"
   ]
  },
  {
   "cell_type": "code",
   "execution_count": 10,
   "metadata": {},
   "outputs": [
    {
     "name": "stdout",
     "output_type": "stream",
     "text": [
      "(132, 10)\n"
     ]
    },
    {
     "data": {
      "text/plain": [
       "(132, 10)"
      ]
     },
     "execution_count": 10,
     "metadata": {},
     "output_type": "execute_result"
    }
   ],
   "source": [
    "X_train_indices = sentences_to_indices(X_train, word_to_index, maxLen)\n",
    "Y_train_oh = convert_to_one_hot(Y_train, C = 5)\n",
    "print(X_train_indices.shape)\n",
    "X_train_indices.shape"
   ]
  },
  {
   "cell_type": "code",
   "execution_count": 11,
   "metadata": {},
   "outputs": [],
   "source": [
    "def pretrained_embedding_layer(word_to_vec_map, word_to_index):\n",
    "\n",
    "    vocab_len = len(word_to_index) + 1                  \n",
    "    emb_dim = word_to_vec_map[\"cucumber\"].shape[0]\n",
    "    \n",
    "    emb_matrix = np.zeros((vocab_len, emb_dim))\n",
    "    \n",
    "    for word, index in word_to_index.items():\n",
    "        emb_matrix[index, :] = word_to_vec_map[word]\n",
    "\n",
    "    embedding_layer = Embedding(vocab_len, emb_dim, trainable = False)\n",
    "\n",
    "    embedding_layer.build((None,))\n",
    "    embedding_layer.set_weights([emb_matrix])\n",
    "    \n",
    "    return embedding_layer"
   ]
  },
  {
   "cell_type": "code",
   "execution_count": 12,
   "metadata": {},
   "outputs": [
    {
     "name": "stdout",
     "output_type": "stream",
     "text": [
      "weights[0][1][3] = (400001, 50)\n"
     ]
    }
   ],
   "source": [
    "embedding_layer = pretrained_embedding_layer(word_to_vec_map, word_to_index)\n",
    "print(\"weights[0][1][3] =\", embedding_layer.get_weights()[0].shape)"
   ]
  },
  {
   "cell_type": "code",
   "execution_count": 13,
   "metadata": {},
   "outputs": [],
   "source": [
    "n_a = 128\n",
    "n_values = 5"
   ]
  },
  {
   "cell_type": "code",
   "execution_count": 43,
   "metadata": {},
   "outputs": [],
   "source": [
    "reshapor = Reshape((1, 50))                        # Used in Step 2.B of djmodel(), below\n",
    "LSTM_cell = LSTM(n_a, return_state = True)         # Used in Step 2.C\n",
    "densor = Dense(n_values, activation='softmax')     # Used in Step 2.D"
   ]
  },
  {
   "cell_type": "code",
   "execution_count": 44,
   "metadata": {},
   "outputs": [],
   "source": [
    "def Emojify_V2(input_shape, word_to_vec_map, word_to_index, n_a):\n",
    "\n",
    "    sentence_indices = Input(shape = input_shape, dtype = 'int32')\n",
    "    \n",
    "    embedding_layer = pretrained_embedding_layer(word_to_vec_map, word_to_index)\n",
    "    \n",
    "    # Propagate sentence_indices through your embedding layer, you get back the embeddings\n",
    "    embeddings = embedding_layer(sentence_indices)\n",
    "    X = embeddings\n",
    "    print(\"Shape of embeddings: \", embeddings.shape)\n",
    "    n_value = embeddings.shape[2]\n",
    "    Tx = embeddings.shape[1]\n",
    "    \n",
    "    a0 = Input(shape=(n_a,), name='a0')\n",
    "    c0 = Input(shape=(n_a,), name='c0')\n",
    "    a = a0\n",
    "    c = c0\n",
    "    \n",
    "    for t in range(Tx-1):\n",
    "        \n",
    "        x = Lambda(lambda x: X[:,t,:])(X)\n",
    "        x = reshapor(x)\n",
    "        a, _, c = LSTM_cell(x, initial_state=[a, c])\n",
    "    \n",
    "    x = Lambda(lambda x: X[:,t,:])(X)\n",
    "    x = reshapor(x)\n",
    "    a, _, c = LSTM_cell(x, initial_state=[a, c])\n",
    "    out = densor(a)\n",
    "    \n",
    "    model = Model(inputs = [sentence_indices, a0, c0], outputs = out)\n",
    "    \n",
    "    return model"
   ]
  },
  {
   "cell_type": "code",
   "execution_count": 45,
   "metadata": {},
   "outputs": [
    {
     "name": "stdout",
     "output_type": "stream",
     "text": [
      "Shape of embeddings:  (?, 10, 50)\n"
     ]
    }
   ],
   "source": [
    "model = Emojify_V2((maxLen,), word_to_vec_map, word_to_index, n_a)"
   ]
  },
  {
   "cell_type": "code",
   "execution_count": 46,
   "metadata": {},
   "outputs": [],
   "source": [
    "opt = Adam(lr=0.01, beta_1=0.9, beta_2=0.999, decay=0.01)\n",
    "\n",
    "model.compile(optimizer=opt, loss='categorical_crossentropy', metrics=['accuracy'])"
   ]
  },
  {
   "cell_type": "code",
   "execution_count": 47,
   "metadata": {},
   "outputs": [],
   "source": [
    "m = 132\n",
    "a0 = np.zeros((m, n_a))\n",
    "c0 = np.zeros((m, n_a))"
   ]
  },
  {
   "cell_type": "code",
   "execution_count": 48,
   "metadata": {},
   "outputs": [
    {
     "name": "stdout",
     "output_type": "stream",
     "text": [
      "Epoch 1/100\n",
      "132/132 [==============================] - 15s 111ms/step - loss: 1.5319 - acc: 0.3182\n",
      "Epoch 2/100\n",
      "132/132 [==============================] - 0s 2ms/step - loss: 1.2632 - acc: 0.4167\n",
      "Epoch 3/100\n",
      "132/132 [==============================] - 0s 2ms/step - loss: 0.9739 - acc: 0.5682\n",
      "Epoch 4/100\n",
      "132/132 [==============================] - 0s 2ms/step - loss: 1.0863 - acc: 0.6439\n",
      "Epoch 5/100\n",
      "132/132 [==============================] - 0s 2ms/step - loss: 0.9796 - acc: 0.5455\n",
      "Epoch 6/100\n",
      "132/132 [==============================] - 0s 2ms/step - loss: 0.7139 - acc: 0.6970\n",
      "Epoch 7/100\n",
      "132/132 [==============================] - 0s 2ms/step - loss: 0.7459 - acc: 0.7197\n",
      "Epoch 8/100\n",
      "132/132 [==============================] - 0s 2ms/step - loss: 0.6392 - acc: 0.7348\n",
      "Epoch 9/100\n",
      "132/132 [==============================] - 0s 2ms/step - loss: 0.6019 - acc: 0.7273\n",
      "Epoch 10/100\n",
      "132/132 [==============================] - 0s 1ms/step - loss: 0.5604 - acc: 0.7727\n",
      "Epoch 11/100\n",
      "132/132 [==============================] - 0s 1ms/step - loss: 0.4927 - acc: 0.7727\n",
      "Epoch 12/100\n",
      "132/132 [==============================] - 0s 1ms/step - loss: 0.3835 - acc: 0.8939\n",
      "Epoch 13/100\n",
      "132/132 [==============================] - 0s 1ms/step - loss: 0.4943 - acc: 0.8258\n",
      "Epoch 14/100\n",
      "132/132 [==============================] - 0s 1ms/step - loss: 0.3022 - acc: 0.9091\n",
      "Epoch 15/100\n",
      "132/132 [==============================] - 0s 1ms/step - loss: 0.3409 - acc: 0.8485\n",
      "Epoch 16/100\n",
      "132/132 [==============================] - 0s 1ms/step - loss: 0.5168 - acc: 0.8485\n",
      "Epoch 17/100\n",
      "132/132 [==============================] - 0s 1ms/step - loss: 0.6241 - acc: 0.7576\n",
      "Epoch 18/100\n",
      "132/132 [==============================] - 0s 1ms/step - loss: 0.3392 - acc: 0.8712\n",
      "Epoch 19/100\n",
      "132/132 [==============================] - 0s 1ms/step - loss: 0.3062 - acc: 0.9015\n",
      "Epoch 20/100\n",
      "132/132 [==============================] - 0s 1ms/step - loss: 0.2514 - acc: 0.9394\n",
      "Epoch 21/100\n",
      "132/132 [==============================] - 0s 1ms/step - loss: 0.2282 - acc: 0.9318\n",
      "Epoch 22/100\n",
      "132/132 [==============================] - 0s 1ms/step - loss: 0.1621 - acc: 0.9242\n",
      "Epoch 23/100\n",
      "132/132 [==============================] - 0s 1ms/step - loss: 0.1104 - acc: 0.9697\n",
      "Epoch 24/100\n",
      "132/132 [==============================] - 0s 1ms/step - loss: 0.0725 - acc: 0.9697\n",
      "Epoch 25/100\n",
      "132/132 [==============================] - 0s 993us/step - loss: 0.0563 - acc: 0.9848\n",
      "Epoch 26/100\n",
      "132/132 [==============================] - 0s 1ms/step - loss: 0.0335 - acc: 0.9924\n",
      "Epoch 27/100\n",
      "132/132 [==============================] - 0s 993us/step - loss: 0.0383 - acc: 0.9924\n",
      "Epoch 28/100\n",
      "132/132 [==============================] - 0s 940us/step - loss: 0.1353 - acc: 0.9697\n",
      "Epoch 29/100\n",
      "132/132 [==============================] - 0s 910us/step - loss: 0.1442 - acc: 0.9545\n",
      "Epoch 30/100\n",
      "132/132 [==============================] - 0s 902us/step - loss: 0.2403 - acc: 0.9318\n",
      "Epoch 31/100\n",
      "132/132 [==============================] - 0s 872us/step - loss: 0.2557 - acc: 0.9091\n",
      "Epoch 32/100\n",
      "132/132 [==============================] - 0s 925us/step - loss: 0.1186 - acc: 0.9545\n",
      "Epoch 33/100\n",
      "132/132 [==============================] - 0s 895us/step - loss: 0.1190 - acc: 0.9848\n",
      "Epoch 34/100\n",
      "132/132 [==============================] - 0s 857us/step - loss: 0.0830 - acc: 1.0000\n",
      "Epoch 35/100\n",
      "132/132 [==============================] - 0s 864us/step - loss: 0.0611 - acc: 0.9924\n",
      "Epoch 36/100\n",
      "132/132 [==============================] - 0s 887us/step - loss: 0.0444 - acc: 0.9924\n",
      "Epoch 37/100\n",
      "132/132 [==============================] - 0s 879us/step - loss: 0.0392 - acc: 0.9924\n",
      "Epoch 38/100\n",
      "132/132 [==============================] - 0s 796us/step - loss: 0.0483 - acc: 0.9848\n",
      "Epoch 39/100\n",
      "132/132 [==============================] - 0s 751us/step - loss: 0.0356 - acc: 0.9924\n",
      "Epoch 40/100\n",
      "132/132 [==============================] - 0s 751us/step - loss: 0.0224 - acc: 1.0000\n",
      "Epoch 41/100\n",
      "132/132 [==============================] - 0s 857us/step - loss: 0.0253 - acc: 0.9924\n",
      "Epoch 42/100\n",
      "132/132 [==============================] - 0s 864us/step - loss: 0.0179 - acc: 0.9924\n",
      "Epoch 43/100\n",
      "132/132 [==============================] - 0s 788us/step - loss: 0.0098 - acc: 1.0000\n",
      "Epoch 44/100\n",
      "132/132 [==============================] - 0s 591us/step - loss: 0.0099 - acc: 1.0000\n",
      "Epoch 45/100\n",
      "132/132 [==============================] - 0s 622us/step - loss: 0.0089 - acc: 1.0000\n",
      "Epoch 46/100\n",
      "132/132 [==============================] - 0s 629us/step - loss: 0.0072 - acc: 1.0000\n",
      "Epoch 47/100\n",
      "132/132 [==============================] - 0s 644us/step - loss: 0.0058 - acc: 1.0000\n",
      "Epoch 48/100\n",
      "132/132 [==============================] - 0s 637us/step - loss: 0.0051 - acc: 1.0000\n",
      "Epoch 49/100\n",
      "132/132 [==============================] - 0s 652us/step - loss: 0.0047 - acc: 1.0000\n",
      "Epoch 50/100\n",
      "132/132 [==============================] - 0s 629us/step - loss: 0.0042 - acc: 1.0000\n",
      "Epoch 51/100\n",
      "132/132 [==============================] - 0s 660us/step - loss: 0.0040 - acc: 1.0000\n",
      "Epoch 52/100\n",
      "132/132 [==============================] - 0s 690us/step - loss: 0.0037 - acc: 1.0000\n",
      "Epoch 53/100\n",
      "132/132 [==============================] - 0s 644us/step - loss: 0.0034 - acc: 1.0000\n",
      "Epoch 54/100\n",
      "132/132 [==============================] - 0s 660us/step - loss: 0.0033 - acc: 1.0000\n",
      "Epoch 55/100\n",
      "132/132 [==============================] - 0s 644us/step - loss: 0.0031 - acc: 1.0000\n",
      "Epoch 56/100\n",
      "132/132 [==============================] - 0s 599us/step - loss: 0.0029 - acc: 1.0000\n",
      "Epoch 57/100\n",
      "132/132 [==============================] - 0s 584us/step - loss: 0.0028 - acc: 1.0000\n",
      "Epoch 58/100\n",
      "132/132 [==============================] - 0s 584us/step - loss: 0.0026 - acc: 1.0000\n",
      "Epoch 59/100\n",
      "132/132 [==============================] - 0s 675us/step - loss: 0.0025 - acc: 1.0000\n",
      "Epoch 60/100\n",
      "132/132 [==============================] - 0s 667us/step - loss: 0.0024 - acc: 1.0000\n",
      "Epoch 61/100\n",
      "132/132 [==============================] - 0s 622us/step - loss: 0.0023 - acc: 1.0000\n",
      "Epoch 62/100\n",
      "132/132 [==============================] - 0s 667us/step - loss: 0.0022 - acc: 1.0000\n",
      "Epoch 63/100\n",
      "132/132 [==============================] - 0s 652us/step - loss: 0.0021 - acc: 1.0000\n",
      "Epoch 64/100\n",
      "132/132 [==============================] - 0s 614us/step - loss: 0.0020 - acc: 1.0000\n",
      "Epoch 65/100\n",
      "132/132 [==============================] - 0s 629us/step - loss: 0.0020 - acc: 1.0000\n",
      "Epoch 66/100\n",
      "132/132 [==============================] - 0s 735us/step - loss: 0.0019 - acc: 1.0000\n",
      "Epoch 67/100\n",
      "132/132 [==============================] - 0s 622us/step - loss: 0.0018 - acc: 1.0000\n",
      "Epoch 68/100\n",
      "132/132 [==============================] - 0s 591us/step - loss: 0.0018 - acc: 1.0000\n",
      "Epoch 69/100\n",
      "132/132 [==============================] - 0s 591us/step - loss: 0.0017 - acc: 1.0000\n",
      "Epoch 70/100\n",
      "132/132 [==============================] - 0s 591us/step - loss: 0.0016 - acc: 1.0000\n",
      "Epoch 71/100\n",
      "132/132 [==============================] - 0s 591us/step - loss: 0.0016 - acc: 1.0000\n",
      "Epoch 72/100\n",
      "132/132 [==============================] - 0s 584us/step - loss: 0.0015 - acc: 1.0000\n",
      "Epoch 73/100\n",
      "132/132 [==============================] - 0s 591us/step - loss: 0.0015 - acc: 1.0000\n",
      "Epoch 74/100\n",
      "132/132 [==============================] - 0s 644us/step - loss: 0.0015 - acc: 1.0000\n",
      "Epoch 75/100\n",
      "132/132 [==============================] - 0s 637us/step - loss: 0.0014 - acc: 1.0000\n",
      "Epoch 76/100\n",
      "132/132 [==============================] - 0s 591us/step - loss: 0.0013 - acc: 1.0000\n",
      "Epoch 77/100\n",
      "132/132 [==============================] - 0s 697us/step - loss: 0.0013 - acc: 1.0000\n",
      "Epoch 78/100\n",
      "132/132 [==============================] - 0s 591us/step - loss: 0.0013 - acc: 1.0000\n",
      "Epoch 79/100\n",
      "132/132 [==============================] - 0s 637us/step - loss: 0.0012 - acc: 1.0000\n",
      "Epoch 80/100\n",
      "132/132 [==============================] - 0s 637us/step - loss: 0.0012 - acc: 1.0000\n",
      "Epoch 81/100\n",
      "132/132 [==============================] - 0s 591us/step - loss: 0.0012 - acc: 1.0000\n",
      "Epoch 82/100\n",
      "132/132 [==============================] - 0s 591us/step - loss: 0.0011 - acc: 1.0000\n",
      "Epoch 83/100\n",
      "132/132 [==============================] - 0s 576us/step - loss: 0.0011 - acc: 1.0000\n",
      "Epoch 84/100\n"
     ]
    },
    {
     "name": "stdout",
     "output_type": "stream",
     "text": [
      "132/132 [==============================] - 0s 599us/step - loss: 0.0011 - acc: 1.0000\n",
      "Epoch 85/100\n",
      "132/132 [==============================] - 0s 561us/step - loss: 0.0010 - acc: 1.0000\n",
      "Epoch 86/100\n",
      "132/132 [==============================] - 0s 569us/step - loss: 0.0010 - acc: 1.0000\n",
      "Epoch 87/100\n",
      "132/132 [==============================] - 0s 584us/step - loss: 0.0010 - acc: 1.0000\n",
      "Epoch 88/100\n",
      "132/132 [==============================] - 0s 591us/step - loss: 9.8478e-04 - acc: 1.0000\n",
      "Epoch 89/100\n",
      "132/132 [==============================] - 0s 720us/step - loss: 9.6502e-04 - acc: 1.0000\n",
      "Epoch 90/100\n",
      "132/132 [==============================] - 0s 705us/step - loss: 9.4342e-04 - acc: 1.0000\n",
      "Epoch 91/100\n",
      "132/132 [==============================] - 0s 644us/step - loss: 9.2669e-04 - acc: 1.0000\n",
      "Epoch 92/100\n",
      "132/132 [==============================] - 0s 675us/step - loss: 9.0527e-04 - acc: 1.0000\n",
      "Epoch 93/100\n",
      "132/132 [==============================] - 0s 667us/step - loss: 8.8808e-04 - acc: 1.0000\n",
      "Epoch 94/100\n",
      "132/132 [==============================] - 0s 652us/step - loss: 8.6879e-04 - acc: 1.0000\n",
      "Epoch 95/100\n",
      "132/132 [==============================] - 0s 652us/step - loss: 8.5275e-04 - acc: 1.0000\n",
      "Epoch 96/100\n",
      "132/132 [==============================] - 0s 675us/step - loss: 8.3083e-04 - acc: 1.0000\n",
      "Epoch 97/100\n",
      "132/132 [==============================] - 0s 697us/step - loss: 8.1433e-04 - acc: 1.0000\n",
      "Epoch 98/100\n",
      "132/132 [==============================] - 0s 698us/step - loss: 8.0051e-04 - acc: 1.0000\n",
      "Epoch 99/100\n",
      "132/132 [==============================] - 0s 713us/step - loss: 7.8462e-04 - acc: 1.0000\n",
      "Epoch 100/100\n",
      "132/132 [==============================] - 0s 660us/step - loss: 7.7038e-04 - acc: 1.0000\n"
     ]
    },
    {
     "data": {
      "text/plain": [
       "<keras.callbacks.History at 0xf193a56588>"
      ]
     },
     "execution_count": 48,
     "metadata": {},
     "output_type": "execute_result"
    }
   ],
   "source": [
    "model.fit([X_train_indices, a0, c0], Y_train_oh, epochs=100)"
   ]
  },
  {
   "cell_type": "code",
   "execution_count": 53,
   "metadata": {},
   "outputs": [],
   "source": [
    "def emoji_inference_model(LSTM_cell, densor, input_shape, word_to_vec_map, word_to_index, n_a):\n",
    "\n",
    "    sentence_indices = Input(shape = input_shape, dtype = 'int32')\n",
    "    \n",
    "    embedding_layer = pretrained_embedding_layer(word_to_vec_map, word_to_index)\n",
    "    \n",
    "    # Propagate sentence_indices through your embedding layer, you get back the embeddings\n",
    "    embeddings = embedding_layer(sentence_indices)\n",
    "    X = embeddings\n",
    "    print(\"Shape of embeddings: \", embeddings.shape)\n",
    "    n_value = embeddings.shape[2]\n",
    "    Tx = embeddings.shape[1]\n",
    "    \n",
    "    a0 = Input(shape=(n_a,), name='a0')\n",
    "    c0 = Input(shape=(n_a,), name='c0')\n",
    "    a = a0\n",
    "    c = c0\n",
    "    \n",
    "    for t in range(Tx-1):\n",
    "        \n",
    "        x = Lambda(lambda x: X[:,t,:])(X)\n",
    "        x = reshapor(x)\n",
    "        a, _, c = LSTM_cell(x, initial_state=[a, c])\n",
    "    \n",
    "    x = Lambda(lambda x: X[:,t,:])(X)\n",
    "    x = reshapor(x)\n",
    "    a, _, c = LSTM_cell(x, initial_state=[a, c])\n",
    "    out = densor(a)\n",
    "    \n",
    "    model = Model(inputs = [sentence_indices, a0, c0], outputs = out)\n",
    "    \n",
    "    return model"
   ]
  },
  {
   "cell_type": "code",
   "execution_count": 54,
   "metadata": {},
   "outputs": [
    {
     "name": "stdout",
     "output_type": "stream",
     "text": [
      "Shape of embeddings:  (?, 10, 50)\n"
     ]
    }
   ],
   "source": [
    "inference_model = emoji_inference_model(LSTM_cell, densor, (maxLen,), word_to_vec_map, word_to_index, n_a)"
   ]
  },
  {
   "cell_type": "code",
   "execution_count": 56,
   "metadata": {},
   "outputs": [],
   "source": [
    "X_test_indices = sentences_to_indices(X_test, word_to_index, max_len = maxLen)\n",
    "Y_test_oh = convert_to_one_hot(Y_test, C = 5)"
   ]
  },
  {
   "cell_type": "code",
   "execution_count": 58,
   "metadata": {},
   "outputs": [],
   "source": [
    "m = X_test.shape[0]\n",
    "a_initializer = np.zeros((m, n_a))\n",
    "c_initializer = np.zeros((m, n_a))"
   ]
  },
  {
   "cell_type": "code",
   "execution_count": 66,
   "metadata": {},
   "outputs": [],
   "source": [
    "def predict_and_evaluate(inference_model, x_initializer, a_initializer, c_initializer, Y_test_oh):\n",
    "\n",
    "    eval_ = model.evaluate([X_test_indices, a0, c0], Y_test_oh)\n",
    "    \n",
    "    pred = inference_model.predict([x_initializer, a_initializer, c_initializer])\n",
    "    \n",
    "    for i in range(len(X_test)):\n",
    "        num = np.argmax(pred[i])\n",
    "        if(num != Y_test[i]):\n",
    "            print('Expected emoji:'+ label_to_emoji(Y_test[i]) + ' prediction: '+ X_test[i] + label_to_emoji(num).strip())\n",
    "\n",
    "    return eval_[0], eval_[1]"
   ]
  },
  {
   "cell_type": "code",
   "execution_count": 67,
   "metadata": {},
   "outputs": [
    {
     "name": "stdout",
     "output_type": "stream",
     "text": [
      "56/56 [==============================] - 0s 661us/step\n",
      "Expected emoji:😄 prediction: he got a very nice raise\t❤️\n",
      "Expected emoji:😄 prediction: she got me a nice present\t❤️\n",
      "Expected emoji:😞 prediction: work is hard\t❤️\n",
      "Expected emoji:😞 prediction: This girl is messing with me\t❤️\n",
      "Expected emoji:😞 prediction: work is horrible\t❤️\n",
      "Expected emoji:❤️ prediction: I love taking breaks\t😞\n",
      "Expected emoji:😄 prediction: you brighten my day\t❤️\n",
      "Expected emoji:😞 prediction: she is a bully\t❤️\n",
      "Expected emoji:😞 prediction: My life is so boring\t❤️\n",
      "Expected emoji:😄 prediction: will you be my valentine\t❤️\n",
      "Expected emoji:⚾ prediction: he can pitch really well\t😄\n",
      "Expected emoji:❤️ prediction: family is all I have\t😞\n",
      "Accuracy:  0.7857142771993365\n"
     ]
    }
   ],
   "source": [
    "loss, acc = predict_and_evaluate(inference_model, X_test_indices, a_initializer, c_initializer, Y_test_oh)\n",
    "print(\"Accuracy: \", acc)"
   ]
  },
  {
   "cell_type": "code",
   "execution_count": 40,
   "metadata": {},
   "outputs": [
    {
     "name": "stdout",
     "output_type": "stream",
     "text": [
      "56/56 [==============================] - 2s 40ms/step\n"
     ]
    }
   ],
   "source": [
    "loss, acc = model.evaluate([X_test_indices, a0, c0], Y_test_oh)"
   ]
  },
  {
   "cell_type": "code",
   "execution_count": 41,
   "metadata": {},
   "outputs": [
    {
     "name": "stdout",
     "output_type": "stream",
     "text": [
      "Accuracy:  0.8035714370863778\n"
     ]
    }
   ],
   "source": [
    "print(\"Accuracy: \", acc)"
   ]
  },
  {
   "cell_type": "code",
   "execution_count": 42,
   "metadata": {},
   "outputs": [
    {
     "name": "stdout",
     "output_type": "stream",
     "text": [
      "Expected emoji:😄 prediction: he got a very nice raise\t❤️\n",
      "Expected emoji:😄 prediction: she got me a nice present\t❤️\n",
      "Expected emoji:😄 prediction: he is a good friend\t❤️\n",
      "Expected emoji:😄 prediction: We had such a lovely dinner tonight\t❤️\n",
      "Expected emoji:😞 prediction: work is hard\t😄\n",
      "Expected emoji:😞 prediction: This girl is messing with me\t❤️\n",
      "Expected emoji:😞 prediction: work is horrible\t😄\n",
      "Expected emoji:😄 prediction: you brighten my day\t❤️\n",
      "Expected emoji:😞 prediction: she is a bully\t❤️\n",
      "Expected emoji:😄 prediction: will you be my valentine\t❤️\n",
      "Expected emoji:⚾ prediction: he can pitch really well\t😞\n"
     ]
    }
   ],
   "source": [
    "C = 5\n",
    "y_test_oh = np.eye(C)[Y_test.reshape(-1)]\n",
    "X_test_indices = sentences_to_indices(X_test, word_to_index, maxLen)\n",
    "pred = model.predict([X_test_indices, a0, c0])\n",
    "for i in range(len(X_test)):\n",
    "    x = X_test_indices\n",
    "    num = np.argmax(pred[i])\n",
    "    if(num != Y_test[i]):\n",
    "        print('Expected emoji:'+ label_to_emoji(Y_test[i]) + ' prediction: '+ X_test[i] + label_to_emoji(num).strip())"
   ]
  },
  {
   "cell_type": "code",
   "execution_count": 69,
   "metadata": {
    "scrolled": true
   },
   "outputs": [
    {
     "ename": "ValueError",
     "evalue": "Error when checking model input: the list of Numpy arrays that you are passing to your model is not the size the model expected. Expected to see 3 array(s), but instead got the following list of 1 arrays: [array([[185457., 383068., 360915., 132701.,      0.,      0.,      0.,\n             0.,      0.,      0.],\n       [175199., 123517., 264550.,  56160.,      0.,      0.,      0.,\n             0.,     ...",
     "output_type": "error",
     "traceback": [
      "\u001b[1;31m---------------------------------------------------------------------------\u001b[0m",
      "\u001b[1;31mValueError\u001b[0m                                Traceback (most recent call last)",
      "\u001b[1;32m<ipython-input-69-74521ed1522c>\u001b[0m in \u001b[0;36m<module>\u001b[1;34m()\u001b[0m\n\u001b[0;32m      3\u001b[0m \u001b[0my_test_oh\u001b[0m \u001b[1;33m=\u001b[0m \u001b[0mnp\u001b[0m\u001b[1;33m.\u001b[0m\u001b[0meye\u001b[0m\u001b[1;33m(\u001b[0m\u001b[0mC\u001b[0m\u001b[1;33m)\u001b[0m\u001b[1;33m[\u001b[0m\u001b[0mY_test\u001b[0m\u001b[1;33m.\u001b[0m\u001b[0mreshape\u001b[0m\u001b[1;33m(\u001b[0m\u001b[1;33m-\u001b[0m\u001b[1;36m1\u001b[0m\u001b[1;33m)\u001b[0m\u001b[1;33m]\u001b[0m\u001b[1;33m\u001b[0m\u001b[0m\n\u001b[0;32m      4\u001b[0m \u001b[0mX_test_indices\u001b[0m \u001b[1;33m=\u001b[0m \u001b[0msentences_to_indices\u001b[0m\u001b[1;33m(\u001b[0m\u001b[0mX_test\u001b[0m\u001b[1;33m,\u001b[0m \u001b[0mword_to_index\u001b[0m\u001b[1;33m,\u001b[0m \u001b[0mmaxLen\u001b[0m\u001b[1;33m)\u001b[0m\u001b[1;33m\u001b[0m\u001b[0m\n\u001b[1;32m----> 5\u001b[1;33m \u001b[0mpred\u001b[0m \u001b[1;33m=\u001b[0m \u001b[0mmodel\u001b[0m\u001b[1;33m.\u001b[0m\u001b[0mpredict\u001b[0m\u001b[1;33m(\u001b[0m\u001b[0mX_test_indices\u001b[0m\u001b[1;33m)\u001b[0m\u001b[1;33m\u001b[0m\u001b[0m\n\u001b[0m\u001b[0;32m      6\u001b[0m \u001b[1;32mfor\u001b[0m \u001b[0mi\u001b[0m \u001b[1;32min\u001b[0m \u001b[0mrange\u001b[0m\u001b[1;33m(\u001b[0m\u001b[0mlen\u001b[0m\u001b[1;33m(\u001b[0m\u001b[0mX_test\u001b[0m\u001b[1;33m)\u001b[0m\u001b[1;33m)\u001b[0m\u001b[1;33m:\u001b[0m\u001b[1;33m\u001b[0m\u001b[0m\n\u001b[0;32m      7\u001b[0m     \u001b[0mx\u001b[0m \u001b[1;33m=\u001b[0m \u001b[0mX_test_indices\u001b[0m\u001b[1;33m\u001b[0m\u001b[0m\n",
      "\u001b[1;32mC:\\Python3.5\\lib\\site-packages\\keras\\engine\\training.py\u001b[0m in \u001b[0;36mpredict\u001b[1;34m(self, x, batch_size, verbose, steps)\u001b[0m\n\u001b[0;32m   1145\u001b[0m                              'argument.')\n\u001b[0;32m   1146\u001b[0m         \u001b[1;31m# Validate user data.\u001b[0m\u001b[1;33m\u001b[0m\u001b[1;33m\u001b[0m\u001b[0m\n\u001b[1;32m-> 1147\u001b[1;33m         \u001b[0mx\u001b[0m\u001b[1;33m,\u001b[0m \u001b[0m_\u001b[0m\u001b[1;33m,\u001b[0m \u001b[0m_\u001b[0m \u001b[1;33m=\u001b[0m \u001b[0mself\u001b[0m\u001b[1;33m.\u001b[0m\u001b[0m_standardize_user_data\u001b[0m\u001b[1;33m(\u001b[0m\u001b[0mx\u001b[0m\u001b[1;33m)\u001b[0m\u001b[1;33m\u001b[0m\u001b[0m\n\u001b[0m\u001b[0;32m   1148\u001b[0m         \u001b[1;32mif\u001b[0m \u001b[0mself\u001b[0m\u001b[1;33m.\u001b[0m\u001b[0mstateful\u001b[0m\u001b[1;33m:\u001b[0m\u001b[1;33m\u001b[0m\u001b[0m\n\u001b[0;32m   1149\u001b[0m             \u001b[1;32mif\u001b[0m \u001b[0mx\u001b[0m\u001b[1;33m[\u001b[0m\u001b[1;36m0\u001b[0m\u001b[1;33m]\u001b[0m\u001b[1;33m.\u001b[0m\u001b[0mshape\u001b[0m\u001b[1;33m[\u001b[0m\u001b[1;36m0\u001b[0m\u001b[1;33m]\u001b[0m \u001b[1;33m>\u001b[0m \u001b[0mbatch_size\u001b[0m \u001b[1;32mand\u001b[0m \u001b[0mx\u001b[0m\u001b[1;33m[\u001b[0m\u001b[1;36m0\u001b[0m\u001b[1;33m]\u001b[0m\u001b[1;33m.\u001b[0m\u001b[0mshape\u001b[0m\u001b[1;33m[\u001b[0m\u001b[1;36m0\u001b[0m\u001b[1;33m]\u001b[0m \u001b[1;33m%\u001b[0m \u001b[0mbatch_size\u001b[0m \u001b[1;33m!=\u001b[0m \u001b[1;36m0\u001b[0m\u001b[1;33m:\u001b[0m\u001b[1;33m\u001b[0m\u001b[0m\n",
      "\u001b[1;32mC:\\Python3.5\\lib\\site-packages\\keras\\engine\\training.py\u001b[0m in \u001b[0;36m_standardize_user_data\u001b[1;34m(self, x, y, sample_weight, class_weight, check_array_lengths, batch_size)\u001b[0m\n\u001b[0;32m    747\u001b[0m             \u001b[0mfeed_input_shapes\u001b[0m\u001b[1;33m,\u001b[0m\u001b[1;33m\u001b[0m\u001b[0m\n\u001b[0;32m    748\u001b[0m             \u001b[0mcheck_batch_axis\u001b[0m\u001b[1;33m=\u001b[0m\u001b[1;32mFalse\u001b[0m\u001b[1;33m,\u001b[0m  \u001b[1;31m# Don't enforce the batch size.\u001b[0m\u001b[1;33m\u001b[0m\u001b[0m\n\u001b[1;32m--> 749\u001b[1;33m             exception_prefix='input')\n\u001b[0m\u001b[0;32m    750\u001b[0m \u001b[1;33m\u001b[0m\u001b[0m\n\u001b[0;32m    751\u001b[0m         \u001b[1;32mif\u001b[0m \u001b[0my\u001b[0m \u001b[1;32mis\u001b[0m \u001b[1;32mnot\u001b[0m \u001b[1;32mNone\u001b[0m\u001b[1;33m:\u001b[0m\u001b[1;33m\u001b[0m\u001b[0m\n",
      "\u001b[1;32mC:\\Python3.5\\lib\\site-packages\\keras\\engine\\training_utils.py\u001b[0m in \u001b[0;36mstandardize_input_data\u001b[1;34m(data, names, shapes, check_batch_axis, exception_prefix)\u001b[0m\n\u001b[0;32m     99\u001b[0m                 \u001b[1;34m'Expected to see '\u001b[0m \u001b[1;33m+\u001b[0m \u001b[0mstr\u001b[0m\u001b[1;33m(\u001b[0m\u001b[0mlen\u001b[0m\u001b[1;33m(\u001b[0m\u001b[0mnames\u001b[0m\u001b[1;33m)\u001b[0m\u001b[1;33m)\u001b[0m \u001b[1;33m+\u001b[0m \u001b[1;34m' array(s), '\u001b[0m\u001b[1;33m\u001b[0m\u001b[0m\n\u001b[0;32m    100\u001b[0m                 \u001b[1;34m'but instead got the following list of '\u001b[0m \u001b[1;33m+\u001b[0m\u001b[1;33m\u001b[0m\u001b[0m\n\u001b[1;32m--> 101\u001b[1;33m                 str(len(data)) + ' arrays: ' + str(data)[:200] + '...')\n\u001b[0m\u001b[0;32m    102\u001b[0m         \u001b[1;32melif\u001b[0m \u001b[0mlen\u001b[0m\u001b[1;33m(\u001b[0m\u001b[0mnames\u001b[0m\u001b[1;33m)\u001b[0m \u001b[1;33m>\u001b[0m \u001b[1;36m1\u001b[0m\u001b[1;33m:\u001b[0m\u001b[1;33m\u001b[0m\u001b[0m\n\u001b[0;32m    103\u001b[0m             raise ValueError(\n",
      "\u001b[1;31mValueError\u001b[0m: Error when checking model input: the list of Numpy arrays that you are passing to your model is not the size the model expected. Expected to see 3 array(s), but instead got the following list of 1 arrays: [array([[185457., 383068., 360915., 132701.,      0.,      0.,      0.,\n             0.,      0.,      0.],\n       [175199., 123517., 264550.,  56160.,      0.,      0.,      0.,\n             0.,     ..."
     ]
    }
   ],
   "source": [
    "# This code allows you to see the mislabelled examples\n",
    "C = 5\n",
    "y_test_oh = np.eye(C)[Y_test.reshape(-1)]\n",
    "X_test_indices = sentences_to_indices(X_test, word_to_index, maxLen)\n",
    "pred = model.predict(X_test_indices)\n",
    "for i in range(len(X_test)):\n",
    "    x = X_test_indices\n",
    "    num = np.argmax(pred[i])\n",
    "    if(num != Y_test[i]):\n",
    "        print('Expected emoji:'+ label_to_emoji(Y_test[i]) + ' prediction: '+ X_test[i] + label_to_emoji(num).strip())"
   ]
  },
  {
   "cell_type": "code",
   "execution_count": 25,
   "metadata": {},
   "outputs": [
    {
     "name": "stdout",
     "output_type": "stream",
     "text": [
      "not feeling happy 😞\n"
     ]
    }
   ],
   "source": [
    "# Change the sentence below to see your prediction. Make sure all the words are in the Glove embeddings.  \n",
    "x_test = np.array(['not feeling happy'])\n",
    "X_test_indices = sentences_to_indices(x_test, word_to_index, maxLen)\n",
    "print(x_test[0] +' '+  label_to_emoji(np.argmax(model.predict(X_test_indices))))"
   ]
  },
  {
   "cell_type": "code",
   "execution_count": null,
   "metadata": {},
   "outputs": [],
   "source": []
  }
 ],
 "metadata": {
  "kernelspec": {
   "display_name": "Python 3",
   "language": "python",
   "name": "python3"
  },
  "language_info": {
   "codemirror_mode": {
    "name": "ipython",
    "version": 3
   },
   "file_extension": ".py",
   "mimetype": "text/x-python",
   "name": "python",
   "nbconvert_exporter": "python",
   "pygments_lexer": "ipython3",
   "version": "3.5.0"
  }
 },
 "nbformat": 4,
 "nbformat_minor": 2
}
