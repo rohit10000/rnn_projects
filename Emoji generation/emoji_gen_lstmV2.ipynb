{
 "cells": [
  {
   "cell_type": "markdown",
   "metadata": {},
   "source": [
    "# Emoji generation using LSTM"
   ]
  },
  {
   "cell_type": "code",
   "execution_count": 127,
   "metadata": {},
   "outputs": [],
   "source": [
    "import numpy as np\n",
    "from emo_utils import *\n",
    "np.random.seed(0)\n",
    "from keras.models import Model\n",
    "from keras.layers import Dense, Input, Dropout, LSTM, Activation, Reshape, Lambda\n",
    "from keras.layers.embeddings import Embedding\n",
    "from keras.preprocessing import sequence\n",
    "from keras.initializers import glorot_uniform\n",
    "from keras.optimizers import Adam\n",
    "np.random.seed(1)"
   ]
  },
  {
   "cell_type": "code",
   "execution_count": 128,
   "metadata": {},
   "outputs": [],
   "source": [
    "def read_glove_vecs(glove_file):\n",
    "    with open(glove_file, 'r', encoding=\"utf8\") as f:\n",
    "        words = set()\n",
    "        word_to_vec_map = {}\n",
    "        for line in f:\n",
    "            line = line.strip().split()\n",
    "            curr_word = line[0]\n",
    "            words.add(curr_word)\n",
    "            word_to_vec_map[curr_word] = np.array(line[1:], dtype=np.float64)\n",
    "        \n",
    "        i = 1\n",
    "        words_to_index = {}\n",
    "        index_to_words = {}\n",
    "        for w in sorted(words):\n",
    "            words_to_index[w] = i\n",
    "            index_to_words[i] = w\n",
    "            i = i + 1\n",
    "    return words_to_index, index_to_words, word_to_vec_map"
   ]
  },
  {
   "cell_type": "code",
   "execution_count": 129,
   "metadata": {},
   "outputs": [
    {
     "name": "stdout",
     "output_type": "stream",
     "text": [
      "food is life 🍴\n"
     ]
    }
   ],
   "source": [
    "index = 4\n",
    "print(X_train[index], label_to_emoji(Y_train[index]))"
   ]
  },
  {
   "cell_type": "code",
   "execution_count": 121,
   "metadata": {},
   "outputs": [],
   "source": [
    "word_to_index, index_to_word, word_to_vec_map = read_glove_vecs('data/glove.6B.50d.txt')"
   ]
  },
  {
   "cell_type": "code",
   "execution_count": 86,
   "metadata": {},
   "outputs": [],
   "source": [
    "def sentences_to_indices(X, word_to_index, max_len):\n",
    " \n",
    "    m = X.shape[0]                                   \n",
    "    X_indices = np.zeros((m, max_len))\n",
    "    for i in range(m):                               \n",
    "        \n",
    "        sentence_words = X[i].lower().split()\n",
    "        j = 0\n",
    "        \n",
    "        for w in sentence_words:\n",
    "            X_indices[i, j] = word_to_index[w] \n",
    "            j = j + 1\n",
    "    \n",
    "    return X_indices"
   ]
  },
  {
   "cell_type": "code",
   "execution_count": 87,
   "metadata": {},
   "outputs": [
    {
     "name": "stdout",
     "output_type": "stream",
     "text": [
      "X1 = ['funny lol' 'lets play baseball' 'food is ready for you']\n",
      "X1_indices = [[155345. 225122.      0.      0.      0.]\n",
      " [220930. 286375.  69714.      0.      0.]\n",
      " [151204. 192973. 302254. 151349. 394475.]]\n"
     ]
    }
   ],
   "source": [
    "X1 = np.array([\"funny lol\", \"lets play baseball\", \"food is ready for you\"])\n",
    "X1_indices = sentences_to_indices(X1,word_to_index, max_len = 5)\n",
    "print(\"X1 =\", X1)\n",
    "print(\"X1_indices =\", X1_indices)"
   ]
  },
  {
   "cell_type": "code",
   "execution_count": 88,
   "metadata": {},
   "outputs": [],
   "source": [
    "X_train, Y_train = read_csv('data/train_emoji.csv')\n",
    "X_test, Y_test = read_csv('data/tesss.csv')"
   ]
  },
  {
   "cell_type": "code",
   "execution_count": 110,
   "metadata": {},
   "outputs": [],
   "source": [
    "maxLen = len(max(X_train, key=len).split())"
   ]
  },
  {
   "cell_type": "code",
   "execution_count": 90,
   "metadata": {},
   "outputs": [
    {
     "name": "stdout",
     "output_type": "stream",
     "text": [
      "(132, 10)\n"
     ]
    },
    {
     "data": {
      "text/plain": [
       "(132, 10)"
      ]
     },
     "execution_count": 90,
     "metadata": {},
     "output_type": "execute_result"
    }
   ],
   "source": [
    "X_train_indices = sentences_to_indices(X_train, word_to_index, maxLen)\n",
    "Y_train_oh = convert_to_one_hot(Y_train, C = 5)\n",
    "print(X_train_indices.shape)\n",
    "X_train_indices.shape"
   ]
  },
  {
   "cell_type": "code",
   "execution_count": 91,
   "metadata": {},
   "outputs": [],
   "source": [
    "def pretrained_embedding_layer(word_to_vec_map, word_to_index):\n",
    "\n",
    "    vocab_len = len(word_to_index) + 1                  \n",
    "    emb_dim = word_to_vec_map[\"cucumber\"].shape[0]\n",
    "    \n",
    "    emb_matrix = np.zeros((vocab_len, emb_dim))\n",
    "    \n",
    "    for word, index in word_to_index.items():\n",
    "        emb_matrix[index, :] = word_to_vec_map[word]\n",
    "\n",
    "    embedding_layer = Embedding(vocab_len, emb_dim, trainable = False)\n",
    "\n",
    "    embedding_layer.build((None,))\n",
    "    embedding_layer.set_weights([emb_matrix])\n",
    "    \n",
    "    return embedding_layer"
   ]
  },
  {
   "cell_type": "code",
   "execution_count": 92,
   "metadata": {},
   "outputs": [
    {
     "name": "stdout",
     "output_type": "stream",
     "text": [
      "weights[0][1][3] = (400001, 50)\n"
     ]
    }
   ],
   "source": [
    "embedding_layer = pretrained_embedding_layer(word_to_vec_map, word_to_index)\n",
    "print(\"weights[0][1][3] =\", embedding_layer.get_weights()[0].shape)"
   ]
  },
  {
   "cell_type": "code",
   "execution_count": 93,
   "metadata": {},
   "outputs": [],
   "source": [
    "n_a = 128\n",
    "n_values = 5"
   ]
  },
  {
   "cell_type": "code",
   "execution_count": 94,
   "metadata": {},
   "outputs": [],
   "source": [
    "reshapor = Reshape((1, 50))                        # Used in Step 2.B of djmodel(), below\n",
    "LSTM_cell = LSTM(n_a, return_state = True)         # Used in Step 2.C\n",
    "densor = Dense(n_values, activation='softmax')     # Used in Step 2.D"
   ]
  },
  {
   "cell_type": "code",
   "execution_count": 95,
   "metadata": {},
   "outputs": [],
   "source": [
    "global_a0 =np.zeros((X_train.shape[0], n_a))\n",
    "global_c0 =np.zeros((X_train.shape[0], n_a))"
   ]
  },
  {
   "cell_type": "code",
   "execution_count": 96,
   "metadata": {},
   "outputs": [],
   "source": [
    "def Emojify_V2(input_shape, word_to_vec_map, word_to_index, n_a):\n",
    "\n",
    "    sentence_indices = Input(shape = input_shape, dtype = 'int32')\n",
    "    \n",
    "    embedding_layer = pretrained_embedding_layer(word_to_vec_map, word_to_index)\n",
    "    \n",
    "    # Propagate sentence_indices through your embedding layer, you get back the embeddings\n",
    "    embeddings = embedding_layer(sentence_indices)\n",
    "    X = embeddings\n",
    "    print(\"Shape of embeddings: \", embeddings.shape)\n",
    "    n_value = embeddings.shape[2]\n",
    "    Tx = embeddings.shape[1]\n",
    "    \n",
    "    a0 = Input(shape=(n_a,), name='a0')\n",
    "    c0 = Input(shape=(n_a,), name='c0')\n",
    "    a = a0\n",
    "    c = c0\n",
    "    \n",
    "    for t in range(Tx-1):\n",
    "        \n",
    "        x = Lambda(lambda x: X[:,t,:])(X)\n",
    "        x = reshapor(x)\n",
    "        a, _, c = LSTM_cell(x, initial_state=[a, c])\n",
    "    \n",
    "    x = Lambda(lambda x: X[:,t,:])(X)\n",
    "    x = reshapor(x)\n",
    "    a, _, c = LSTM_cell(x, initial_state=[a, c])\n",
    "    out = densor(a)\n",
    "    \n",
    "    model = Model(inputs = [sentence_indices, a0, c0], outputs = out)\n",
    "    \n",
    "    return model"
   ]
  },
  {
   "cell_type": "code",
   "execution_count": 97,
   "metadata": {},
   "outputs": [
    {
     "name": "stdout",
     "output_type": "stream",
     "text": [
      "Shape of embeddings:  (?, 10, 50)\n"
     ]
    }
   ],
   "source": [
    "model = Emojify_V2((maxLen,), word_to_vec_map, word_to_index, n_a)"
   ]
  },
  {
   "cell_type": "code",
   "execution_count": 98,
   "metadata": {},
   "outputs": [],
   "source": [
    "opt = Adam(lr=0.01, beta_1=0.9, beta_2=0.999, decay=0.01)\n",
    "\n",
    "model.compile(optimizer=opt, loss='categorical_crossentropy', metrics=['accuracy'])"
   ]
  },
  {
   "cell_type": "code",
   "execution_count": 99,
   "metadata": {},
   "outputs": [],
   "source": [
    "m = X_train.shape[0]\n",
    "a0 = np.zeros((m, n_a))\n",
    "c0 = np.zeros((m, n_a))"
   ]
  },
  {
   "cell_type": "code",
   "execution_count": 100,
   "metadata": {},
   "outputs": [
    {
     "name": "stdout",
     "output_type": "stream",
     "text": [
      "Epoch 1/100\n",
      "132/132 [==============================] - 20s 152ms/step - loss: 1.6650 - acc: 0.3409\n",
      "Epoch 2/100\n",
      "132/132 [==============================] - 0s 2ms/step - loss: 1.2873 - acc: 0.5227\n",
      "Epoch 3/100\n",
      "132/132 [==============================] - 0s 3ms/step - loss: 1.2015 - acc: 0.5152\n",
      "Epoch 4/100\n",
      "132/132 [==============================] - 0s 2ms/step - loss: 0.8470 - acc: 0.6667\n",
      "Epoch 5/100\n",
      "132/132 [==============================] - 0s 2ms/step - loss: 0.8715 - acc: 0.6591\n",
      "Epoch 6/100\n",
      "132/132 [==============================] - 0s 2ms/step - loss: 0.7226 - acc: 0.7121\n",
      "Epoch 7/100\n",
      "132/132 [==============================] - 0s 2ms/step - loss: 0.6642 - acc: 0.7273\n",
      "Epoch 8/100\n",
      "132/132 [==============================] - 0s 2ms/step - loss: 0.6558 - acc: 0.7500\n",
      "Epoch 9/100\n",
      "132/132 [==============================] - 0s 2ms/step - loss: 0.5753 - acc: 0.7955\n",
      "Epoch 10/100\n",
      "132/132 [==============================] - 0s 1ms/step - loss: 0.5119 - acc: 0.8106\n",
      "Epoch 11/100\n",
      "132/132 [==============================] - 0s 1ms/step - loss: 0.4739 - acc: 0.8333\n",
      "Epoch 12/100\n",
      "132/132 [==============================] - 0s 1ms/step - loss: 0.3359 - acc: 0.8864\n",
      "Epoch 13/100\n",
      "132/132 [==============================] - 0s 1ms/step - loss: 0.3814 - acc: 0.8409\n",
      "Epoch 14/100\n",
      "132/132 [==============================] - 0s 2ms/step - loss: 0.2813 - acc: 0.9015\n",
      "Epoch 15/100\n",
      "132/132 [==============================] - 0s 1ms/step - loss: 0.2840 - acc: 0.9167\n",
      "Epoch 16/100\n",
      "132/132 [==============================] - 0s 1ms/step - loss: 0.1919 - acc: 0.9318\n",
      "Epoch 17/100\n",
      "132/132 [==============================] - 0s 1ms/step - loss: 0.1612 - acc: 0.9394\n",
      "Epoch 18/100\n",
      "132/132 [==============================] - 0s 1ms/step - loss: 0.1601 - acc: 0.9394\n",
      "Epoch 19/100\n",
      "132/132 [==============================] - 0s 1ms/step - loss: 0.1123 - acc: 0.9773\n",
      "Epoch 20/100\n",
      "132/132 [==============================] - 0s 1ms/step - loss: 0.0689 - acc: 0.9848\n",
      "Epoch 21/100\n",
      "132/132 [==============================] - 0s 1ms/step - loss: 0.0554 - acc: 0.9848\n",
      "Epoch 22/100\n",
      "132/132 [==============================] - 0s 1ms/step - loss: 0.0473 - acc: 0.9924\n",
      "Epoch 23/100\n",
      "132/132 [==============================] - 0s 1ms/step - loss: 0.0171 - acc: 1.0000\n",
      "Epoch 24/100\n",
      "132/132 [==============================] - 0s 1ms/step - loss: 0.0206 - acc: 0.9924\n",
      "Epoch 25/100\n",
      "132/132 [==============================] - 0s 925us/step - loss: 0.0208 - acc: 0.9924\n",
      "Epoch 26/100\n",
      "132/132 [==============================] - 0s 925us/step - loss: 0.0058 - acc: 1.0000\n",
      "Epoch 27/100\n",
      "132/132 [==============================] - 0s 1ms/step - loss: 0.0073 - acc: 1.0000\n",
      "Epoch 28/100\n",
      "132/132 [==============================] - 0s 1ms/step - loss: 0.0030 - acc: 1.0000\n",
      "Epoch 29/100\n",
      "132/132 [==============================] - 0s 1ms/step - loss: 0.0028 - acc: 1.0000\n",
      "Epoch 30/100\n",
      "132/132 [==============================] - 0s 1ms/step - loss: 0.0030 - acc: 1.0000\n",
      "Epoch 31/100\n",
      "132/132 [==============================] - 0s 1ms/step - loss: 0.0021 - acc: 1.0000\n",
      "Epoch 32/100\n",
      "132/132 [==============================] - 0s 902us/step - loss: 0.0019 - acc: 1.0000\n",
      "Epoch 33/100\n",
      "132/132 [==============================] - 0s 879us/step - loss: 0.0018 - acc: 1.0000\n",
      "Epoch 34/100\n",
      "132/132 [==============================] - 0s 826us/step - loss: 0.0017 - acc: 1.0000\n",
      "Epoch 35/100\n",
      "132/132 [==============================] - 0s 834us/step - loss: 0.0016 - acc: 1.0000\n",
      "Epoch 36/100\n",
      "132/132 [==============================] - 0s 834us/step - loss: 0.0014 - acc: 1.0000\n",
      "Epoch 37/100\n",
      "132/132 [==============================] - 0s 849us/step - loss: 0.0014 - acc: 1.0000\n",
      "Epoch 38/100\n",
      "132/132 [==============================] - 0s 682us/step - loss: 0.0013 - acc: 1.0000\n",
      "Epoch 39/100\n",
      "132/132 [==============================] - 0s 652us/step - loss: 0.0012 - acc: 1.0000\n",
      "Epoch 40/100\n",
      "132/132 [==============================] - 0s 682us/step - loss: 0.0012 - acc: 1.0000\n",
      "Epoch 41/100\n",
      "132/132 [==============================] - 0s 697us/step - loss: 0.0011 - acc: 1.0000\n",
      "Epoch 42/100\n",
      "132/132 [==============================] - 0s 728us/step - loss: 0.0011 - acc: 1.0000\n",
      "Epoch 43/100\n",
      "132/132 [==============================] - 0s 766us/step - loss: 0.0010 - acc: 1.0000\n",
      "Epoch 44/100\n",
      "132/132 [==============================] - 0s 751us/step - loss: 9.8013e-04 - acc: 1.0000\n",
      "Epoch 45/100\n",
      "132/132 [==============================] - 0s 796us/step - loss: 9.4363e-04 - acc: 1.0000\n",
      "Epoch 46/100\n",
      "132/132 [==============================] - 0s 811us/step - loss: 9.1302e-04 - acc: 1.0000\n",
      "Epoch 47/100\n",
      "132/132 [==============================] - 0s 758us/step - loss: 8.8179e-04 - acc: 1.0000\n",
      "Epoch 48/100\n",
      "132/132 [==============================] - 0s 690us/step - loss: 8.5153e-04 - acc: 1.0000\n",
      "Epoch 49/100\n",
      "132/132 [==============================] - 0s 864us/step - loss: 8.2486e-04 - acc: 1.0000\n",
      "Epoch 50/100\n",
      "132/132 [==============================] - 0s 751us/step - loss: 7.9729e-04 - acc: 1.0000\n",
      "Epoch 51/100\n",
      "132/132 [==============================] - 0s 675us/step - loss: 7.7439e-04 - acc: 1.0000\n",
      "Epoch 52/100\n",
      "132/132 [==============================] - 0s 660us/step - loss: 7.5082e-04 - acc: 1.0000\n",
      "Epoch 53/100\n",
      "132/132 [==============================] - 0s 720us/step - loss: 7.2853e-04 - acc: 1.0000\n",
      "Epoch 54/100\n",
      "132/132 [==============================] - 0s 788us/step - loss: 7.1009e-04 - acc: 1.0000\n",
      "Epoch 55/100\n",
      "132/132 [==============================] - 0s 796us/step - loss: 6.8969e-04 - acc: 1.0000\n",
      "Epoch 56/100\n",
      "132/132 [==============================] - 0s 758us/step - loss: 6.7022e-04 - acc: 1.0000\n",
      "Epoch 57/100\n",
      "132/132 [==============================] - 0s 758us/step - loss: 6.5390e-04 - acc: 1.0000\n",
      "Epoch 58/100\n",
      "132/132 [==============================] - 0s 720us/step - loss: 6.3623e-04 - acc: 1.0000\n",
      "Epoch 59/100\n",
      "132/132 [==============================] - 0s 697us/step - loss: 6.2160e-04 - acc: 1.0000\n",
      "Epoch 60/100\n",
      "132/132 [==============================] - 0s 743us/step - loss: 6.0724e-04 - acc: 1.0000\n",
      "Epoch 61/100\n",
      "132/132 [==============================] - 0s 720us/step - loss: 5.9213e-04 - acc: 1.0000\n",
      "Epoch 62/100\n",
      "132/132 [==============================] - 0s 857us/step - loss: 5.7720e-04 - acc: 1.0000\n",
      "Epoch 63/100\n",
      "132/132 [==============================] - 0s 804us/step - loss: 5.6567e-04 - acc: 1.0000\n",
      "Epoch 64/100\n",
      "132/132 [==============================] - 0s 735us/step - loss: 5.5418e-04 - acc: 1.0000\n",
      "Epoch 65/100\n",
      "132/132 [==============================] - 0s 720us/step - loss: 5.4110e-04 - acc: 1.0000\n",
      "Epoch 66/100\n",
      "132/132 [==============================] - 0s 735us/step - loss: 5.3021e-04 - acc: 1.0000\n",
      "Epoch 67/100\n",
      "132/132 [==============================] - 0s 743us/step - loss: 5.1957e-04 - acc: 1.0000\n",
      "Epoch 68/100\n",
      "132/132 [==============================] - 0s 705us/step - loss: 5.0852e-04 - acc: 1.0000\n",
      "Epoch 69/100\n",
      "132/132 [==============================] - 0s 751us/step - loss: 4.9747e-04 - acc: 1.0000\n",
      "Epoch 70/100\n",
      "132/132 [==============================] - 0s 788us/step - loss: 4.8673e-04 - acc: 1.0000\n",
      "Epoch 71/100\n",
      "132/132 [==============================] - 0s 758us/step - loss: 4.7409e-04 - acc: 1.0000\n",
      "Epoch 72/100\n",
      "132/132 [==============================] - 0s 713us/step - loss: 4.6449e-04 - acc: 1.0000\n",
      "Epoch 73/100\n",
      "132/132 [==============================] - 0s 705us/step - loss: 4.5519e-04 - acc: 1.0000\n",
      "Epoch 74/100\n",
      "132/132 [==============================] - 0s 728us/step - loss: 4.4605e-04 - acc: 1.0000\n",
      "Epoch 75/100\n",
      "132/132 [==============================] - 0s 728us/step - loss: 4.3659e-04 - acc: 1.0000\n",
      "Epoch 76/100\n",
      "132/132 [==============================] - 0s 728us/step - loss: 4.2949e-04 - acc: 1.0000\n",
      "Epoch 77/100\n",
      "132/132 [==============================] - 0s 705us/step - loss: 4.2149e-04 - acc: 1.0000\n",
      "Epoch 78/100\n",
      "132/132 [==============================] - 0s 697us/step - loss: 4.1508e-04 - acc: 1.0000\n",
      "Epoch 79/100\n",
      "132/132 [==============================] - 0s 728us/step - loss: 4.0896e-04 - acc: 1.0000\n",
      "Epoch 80/100\n",
      "132/132 [==============================] - 0s 735us/step - loss: 4.0166e-04 - acc: 1.0000\n",
      "Epoch 81/100\n",
      "132/132 [==============================] - 0s 713us/step - loss: 3.9443e-04 - acc: 1.0000\n",
      "Epoch 82/100\n"
     ]
    },
    {
     "name": "stdout",
     "output_type": "stream",
     "text": [
      "132/132 [==============================] - 0s 720us/step - loss: 3.8744e-04 - acc: 1.0000\n",
      "Epoch 83/100\n",
      "132/132 [==============================] - 0s 735us/step - loss: 3.8227e-04 - acc: 1.0000\n",
      "Epoch 84/100\n",
      "132/132 [==============================] - 0s 773us/step - loss: 3.7597e-04 - acc: 1.0000\n",
      "Epoch 85/100\n",
      "132/132 [==============================] - 0s 758us/step - loss: 3.6908e-04 - acc: 1.0000\n",
      "Epoch 86/100\n",
      "132/132 [==============================] - 0s 720us/step - loss: 3.6346e-04 - acc: 1.0000\n",
      "Epoch 87/100\n",
      "132/132 [==============================] - 0s 728us/step - loss: 3.5845e-04 - acc: 1.0000\n",
      "Epoch 88/100\n",
      "132/132 [==============================] - 0s 735us/step - loss: 3.5293e-04 - acc: 1.0000\n",
      "Epoch 89/100\n",
      "132/132 [==============================] - 0s 811us/step - loss: 3.4833e-04 - acc: 1.0000\n",
      "Epoch 90/100\n",
      "132/132 [==============================] - 0s 826us/step - loss: 3.4393e-04 - acc: 1.0000\n",
      "Epoch 91/100\n",
      "132/132 [==============================] - 0s 788us/step - loss: 3.3913e-04 - acc: 1.0000\n",
      "Epoch 92/100\n",
      "132/132 [==============================] - 0s 743us/step - loss: 3.3463e-04 - acc: 1.0000\n",
      "Epoch 93/100\n",
      "132/132 [==============================] - 0s 788us/step - loss: 3.2998e-04 - acc: 1.0000\n",
      "Epoch 94/100\n",
      "132/132 [==============================] - 0s 842us/step - loss: 3.2608e-04 - acc: 1.0000\n",
      "Epoch 95/100\n",
      "132/132 [==============================] - 0s 781us/step - loss: 3.2203e-04 - acc: 1.0000\n",
      "Epoch 96/100\n",
      "132/132 [==============================] - 0s 811us/step - loss: 3.1829e-04 - acc: 1.0000\n",
      "Epoch 97/100\n",
      "132/132 [==============================] - 0s 751us/step - loss: 3.1456e-04 - acc: 1.0000\n",
      "Epoch 98/100\n",
      "132/132 [==============================] - 0s 713us/step - loss: 3.1030e-04 - acc: 1.0000\n",
      "Epoch 99/100\n",
      "132/132 [==============================] - 0s 720us/step - loss: 3.0643e-04 - acc: 1.0000\n",
      "Epoch 100/100\n",
      "132/132 [==============================] - 0s 728us/step - loss: 3.0227e-04 - acc: 1.0000\n"
     ]
    },
    {
     "data": {
      "text/plain": [
       "<keras.callbacks.History at 0xf1d0884a58>"
      ]
     },
     "execution_count": 100,
     "metadata": {},
     "output_type": "execute_result"
    }
   ],
   "source": [
    "model.fit([X_train_indices, a0, c0], Y_train_oh, epochs=100)"
   ]
  },
  {
   "cell_type": "code",
   "execution_count": 101,
   "metadata": {},
   "outputs": [],
   "source": [
    "def emoji_inference_model(LSTM_cell, densor, input_shape, word_to_vec_map, word_to_index, n_a):\n",
    "\n",
    "    sentence_indices = Input(shape = input_shape, dtype = 'int32')\n",
    "    \n",
    "    embedding_layer = pretrained_embedding_layer(word_to_vec_map, word_to_index)\n",
    "    \n",
    "    # Propagate sentence_indices through your embedding layer, you get back the embeddings\n",
    "    embeddings = embedding_layer(sentence_indices)\n",
    "    X = embeddings\n",
    "    print(\"Shape of embeddings: \", embeddings.shape)\n",
    "    n_value = embeddings.shape[2]\n",
    "    Tx = embeddings.shape[1]\n",
    "    \n",
    "    a0 = Input(shape=(n_a,), name='a0')\n",
    "    c0 = Input(shape=(n_a,), name='c0')\n",
    "    a = a0\n",
    "    c = c0\n",
    "    \n",
    "    for t in range(Tx-1):\n",
    "        \n",
    "        x = Lambda(lambda x: X[:,t,:])(X)\n",
    "        x = reshapor(x)\n",
    "        a, _, c = LSTM_cell(x, initial_state=[a, c])\n",
    "    \n",
    "    x = Lambda(lambda x: X[:,t,:])(X)\n",
    "    x = reshapor(x)\n",
    "    a, _, c = LSTM_cell(x, initial_state=[a, c])\n",
    "    out = densor(a)\n",
    "    \n",
    "    model = Model(inputs = [sentence_indices, a0, c0], outputs = out)\n",
    "    \n",
    "    return model"
   ]
  },
  {
   "cell_type": "code",
   "execution_count": 102,
   "metadata": {},
   "outputs": [
    {
     "name": "stdout",
     "output_type": "stream",
     "text": [
      "Shape of embeddings:  (?, 10, 50)\n"
     ]
    }
   ],
   "source": [
    "inference_model = emoji_inference_model(LSTM_cell, densor, (maxLen,), word_to_vec_map, word_to_index, n_a)"
   ]
  },
  {
   "cell_type": "code",
   "execution_count": 103,
   "metadata": {},
   "outputs": [],
   "source": [
    "X_test_indices = sentences_to_indices(X_test, word_to_index, max_len = maxLen)\n",
    "Y_test_oh = convert_to_one_hot(Y_test, C = 5)"
   ]
  },
  {
   "cell_type": "code",
   "execution_count": 104,
   "metadata": {},
   "outputs": [],
   "source": [
    "m = X_test.shape[0]\n",
    "a_initializer = np.zeros((m, n_a))\n",
    "c_initializer = np.zeros((m, n_a))"
   ]
  },
  {
   "cell_type": "code",
   "execution_count": 108,
   "metadata": {},
   "outputs": [],
   "source": [
    "def predict_and_evaluate(inference_model, x_initializer, a_initializer, c_initializer, Y_test_oh):\n",
    "\n",
    "    eval_ = model.evaluate([X_test_indices, a_initializer, c_initializer], Y_test_oh)\n",
    "    \n",
    "    pred = inference_model.predict([x_initializer, a_initializer, c_initializer])\n",
    "    \n",
    "    for i in range(len(X_test)):\n",
    "        num = np.argmax(pred[i])\n",
    "        if(num != Y_test[i]):\n",
    "            print('Expected emoji:'+ label_to_emoji(Y_test[i]) + ' prediction: '+ X_test[i] + label_to_emoji(num).strip())\n",
    "\n",
    "    return eval_[0], eval_[1]"
   ]
  },
  {
   "cell_type": "code",
   "execution_count": 109,
   "metadata": {},
   "outputs": [
    {
     "name": "stdout",
     "output_type": "stream",
     "text": [
      "56/56 [==============================] - 5s 82ms/step\n",
      "Expected emoji:😄 prediction: he got a very nice raise\t❤️\n",
      "Expected emoji:😄 prediction: she got me a nice present\t❤️\n",
      "Expected emoji:😞 prediction: This girl is messing with me\t❤️\n",
      "Expected emoji:😄 prediction: you brighten my day\t❤️\n",
      "Expected emoji:😞 prediction: she is a bully\t❤️\n",
      "Expected emoji:😞 prediction: My life is so boring\t❤️\n",
      "Expected emoji:😄 prediction: will you be my valentine\t❤️\n",
      "Expected emoji:⚾ prediction: he can pitch really well\t❤️\n",
      "Expected emoji:❤️ prediction: family is all I have\t😞\n",
      "Accuracy:  0.839285705770765\n"
     ]
    }
   ],
   "source": [
    "loss, acc = predict_and_evaluate(inference_model, X_test_indices, a_initializer, c_initializer, Y_test_oh)\n",
    "print(\"Accuracy: \", acc)"
   ]
  }
 ],
 "metadata": {
  "kernelspec": {
   "display_name": "Python 3",
   "language": "python",
   "name": "python3"
  },
  "language_info": {
   "codemirror_mode": {
    "name": "ipython",
    "version": 3
   },
   "file_extension": ".py",
   "mimetype": "text/x-python",
   "name": "python",
   "nbconvert_exporter": "python",
   "pygments_lexer": "ipython3",
   "version": "3.5.0"
  }
 },
 "nbformat": 4,
 "nbformat_minor": 2
}
