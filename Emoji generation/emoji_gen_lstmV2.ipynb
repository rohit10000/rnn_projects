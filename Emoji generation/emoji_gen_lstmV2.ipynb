{
 "cells": [
  {
   "cell_type": "markdown",
   "metadata": {},
   "source": [
    "# Emoji generation using LSTM \n",
    "\n",
    "<i>This is the same model as \"emoji_gen_lstm_V2\" but instead of using LSTM layer directlty in the model function we have defined the layers objects as global and used it accordingly. Have a look:</i>"
   ]
  },
  {
   "cell_type": "markdown",
   "metadata": {},
   "source": [
    "<b><i>Importing python libraries</i></b>"
   ]
  },
  {
   "cell_type": "code",
   "execution_count": 2,
   "metadata": {},
   "outputs": [
    {
     "name": "stderr",
     "output_type": "stream",
     "text": [
      "Using TensorFlow backend.\n"
     ]
    }
   ],
   "source": [
    "import numpy as np\n",
    "from emo_utils import *\n",
    "np.random.seed(0)\n",
    "from keras.models import Model\n",
    "from keras.layers import Dense, Input, Dropout, LSTM, Activation, Reshape, Lambda\n",
    "from keras.layers.embeddings import Embedding\n",
    "from keras.preprocessing import sequence\n",
    "from keras.initializers import glorot_uniform\n",
    "from keras.optimizers import Adam\n",
    "np.random.seed(1)"
   ]
  },
  {
   "cell_type": "markdown",
   "metadata": {},
   "source": [
    "<b><i>Reading dataset in train and test varibles</i></b>"
   ]
  },
  {
   "cell_type": "code",
   "execution_count": 3,
   "metadata": {},
   "outputs": [],
   "source": [
    "X_train, Y_train = read_csv('data/train_emoji.csv')\n",
    "X_test, Y_test = read_csv('data/tesss.csv')"
   ]
  },
  {
   "cell_type": "markdown",
   "metadata": {},
   "source": [
    "<b><i>Maximum length of the longest sentence in the dataset</i></b>"
   ]
  },
  {
   "cell_type": "code",
   "execution_count": 4,
   "metadata": {},
   "outputs": [],
   "source": [
    "maxLen = len(max(X_train, key=len).split())"
   ]
  },
  {
   "cell_type": "markdown",
   "metadata": {},
   "source": [
    "<b><i>Converting the train and test label to their one hot vector form matrix</i></b>"
   ]
  },
  {
   "cell_type": "code",
   "execution_count": 6,
   "metadata": {},
   "outputs": [
    {
     "name": "stdout",
     "output_type": "stream",
     "text": [
      "(132, 5)\n"
     ]
    }
   ],
   "source": [
    "Y_oh_train = convert_to_one_hot(Y_train, C = 5)\n",
    "Y_oh_test = convert_to_one_hot(Y_test, C = 5)\n",
    "print(Y_oh_train.shape)"
   ]
  },
  {
   "cell_type": "markdown",
   "metadata": {},
   "source": [
    "<b><i>Function to read and store the glove embedding matrix</i></b>"
   ]
  },
  {
   "cell_type": "code",
   "execution_count": 7,
   "metadata": {},
   "outputs": [],
   "source": [
    "def read_glove_vecs(glove_file):\n",
    "    with open(glove_file, 'r', encoding=\"utf8\") as f:\n",
    "        words = set()\n",
    "        word_to_vec_map = {}\n",
    "        for line in f:\n",
    "            line = line.strip().split()\n",
    "            curr_word = line[0]\n",
    "            words.add(curr_word)\n",
    "            word_to_vec_map[curr_word] = np.array(line[1:], dtype=np.float64)\n",
    "        \n",
    "        i = 1\n",
    "        words_to_index = {}\n",
    "        index_to_words = {}\n",
    "        for w in sorted(words):\n",
    "            words_to_index[w] = i\n",
    "            index_to_words[i] = w\n",
    "            i = i + 1\n",
    "    return words_to_index, index_to_words, word_to_vec_map"
   ]
  },
  {
   "cell_type": "code",
   "execution_count": 9,
   "metadata": {},
   "outputs": [],
   "source": [
    "word_to_index, index_to_word, word_to_vec_map = read_glove_vecs('data/glove.6B.50d.txt')"
   ]
  },
  {
   "cell_type": "markdown",
   "metadata": {},
   "source": [
    "<b><i>Function convert every sentence to its corresponding indices vector using word_to_index dictionary; it also pads zero if incase the sentence vector is less than the max length of the sentence </i></b>"
   ]
  },
  {
   "cell_type": "code",
   "execution_count": 10,
   "metadata": {},
   "outputs": [],
   "source": [
    "def sentences_to_indices(X, word_to_index, max_len):\n",
    " \n",
    "    m = X.shape[0]                                   \n",
    "    X_indices = np.zeros((m, max_len))\n",
    "    for i in range(m):                               \n",
    "        \n",
    "        sentence_words = X[i].lower().split()\n",
    "        j = 0\n",
    "        \n",
    "        for w in sentence_words:\n",
    "            X_indices[i, j] = word_to_index[w] \n",
    "            j = j + 1\n",
    "    \n",
    "    return X_indices"
   ]
  },
  {
   "cell_type": "markdown",
   "metadata": {},
   "source": [
    "<b><i>Converting our train data to trainable form</i></b>"
   ]
  },
  {
   "cell_type": "code",
   "execution_count": 11,
   "metadata": {},
   "outputs": [
    {
     "data": {
      "text/plain": [
       "(132, 10)"
      ]
     },
     "execution_count": 11,
     "metadata": {},
     "output_type": "execute_result"
    }
   ],
   "source": [
    "X_train_indices = sentences_to_indices(X_train, word_to_index, maxLen)\n",
    "Y_train_oh = convert_to_one_hot(Y_train, C = 5)\n",
    "X_train_indices.shape"
   ]
  },
  {
   "cell_type": "markdown",
   "metadata": {},
   "source": [
    "<b><i>Function builds the <u>Embedding()</u> layer in Keras. After this layer is built, we can pass the output of <u>sentences_to_indices()</u> to it as an input, and the Embedding() layer will return the word embeddings for that sentence.</i></b>"
   ]
  },
  {
   "cell_type": "code",
   "execution_count": 12,
   "metadata": {},
   "outputs": [],
   "source": [
    "def pretrained_embedding_layer(word_to_vec_map, word_to_index):\n",
    "\n",
    "    vocab_len = len(word_to_index) + 1                  \n",
    "    emb_dim = word_to_vec_map[\"cucumber\"].shape[0]\n",
    "    \n",
    "    emb_matrix = np.zeros((vocab_len, emb_dim))\n",
    "    \n",
    "    for word, index in word_to_index.items():\n",
    "        emb_matrix[index, :] = word_to_vec_map[word]\n",
    "\n",
    "    embedding_layer = Embedding(vocab_len, emb_dim, trainable = False)\n",
    "\n",
    "    embedding_layer.build((None,))\n",
    "    embedding_layer.set_weights([emb_matrix])\n",
    "    \n",
    "    return embedding_layer"
   ]
  },
  {
   "cell_type": "markdown",
   "metadata": {},
   "source": [
    "<b><i>Initializing parameters used in layers objects</i></b>"
   ]
  },
  {
   "cell_type": "code",
   "execution_count": 15,
   "metadata": {},
   "outputs": [],
   "source": [
    "n_a = 128\n",
    "n_values = 5"
   ]
  },
  {
   "cell_type": "markdown",
   "metadata": {},
   "source": [
    "<b><i>Defined the layers objects we need, as global variables</i></b>"
   ]
  },
  {
   "cell_type": "code",
   "execution_count": 14,
   "metadata": {},
   "outputs": [],
   "source": [
    "reshapor = Reshape((1, 50))                        \n",
    "LSTM_cell = LSTM(n_a, return_state = True)         \n",
    "densor = Dense(n_values, activation='softmax')"
   ]
  },
  {
   "cell_type": "markdown",
   "metadata": {},
   "source": [
    "<b><i>Model function</i></b>"
   ]
  },
  {
   "cell_type": "code",
   "execution_count": 16,
   "metadata": {},
   "outputs": [],
   "source": [
    "def Emojify_V2(input_shape, word_to_vec_map, word_to_index, n_a):\n",
    "\n",
    "    sentence_indices = Input(shape = input_shape, dtype = 'int32')\n",
    "    \n",
    "    embedding_layer = pretrained_embedding_layer(word_to_vec_map, word_to_index)\n",
    "    \n",
    "    # Propagate sentence_indices through your embedding layer, you get back the embeddings\n",
    "    embeddings = embedding_layer(sentence_indices)\n",
    "    X = embeddings\n",
    "    print(\"Shape of embeddings: \", embeddings.shape)\n",
    "    n_value = embeddings.shape[2]\n",
    "    Tx = embeddings.shape[1]\n",
    "    \n",
    "    a0 = Input(shape=(n_a,), name='a0')\n",
    "    c0 = Input(shape=(n_a,), name='c0')\n",
    "    a = a0\n",
    "    c = c0\n",
    "    \n",
    "    for t in range(Tx-1):\n",
    "        \n",
    "        x = Lambda(lambda x: X[:,t,:])(X)\n",
    "        x = reshapor(x)\n",
    "        a, _, c = LSTM_cell(x, initial_state=[a, c])\n",
    "    \n",
    "    x = Lambda(lambda x: X[:,t,:])(X)\n",
    "    x = reshapor(x)\n",
    "    a, _, c = LSTM_cell(x, initial_state=[a, c])\n",
    "    out = densor(a)\n",
    "    \n",
    "    model = Model(inputs = [sentence_indices, a0, c0], outputs = out)\n",
    "    \n",
    "    return model"
   ]
  },
  {
   "cell_type": "markdown",
   "metadata": {},
   "source": [
    "<b><i>Calling the Model Function</i></b>"
   ]
  },
  {
   "cell_type": "code",
   "execution_count": 17,
   "metadata": {},
   "outputs": [
    {
     "name": "stdout",
     "output_type": "stream",
     "text": [
      "Shape of embeddings:  (?, 10, 50)\n"
     ]
    }
   ],
   "source": [
    "model = Emojify_V2((maxLen,), word_to_vec_map, word_to_index, n_a)"
   ]
  },
  {
   "cell_type": "markdown",
   "metadata": {},
   "source": [
    "<b><i>Compiling the model</i></b>"
   ]
  },
  {
   "cell_type": "code",
   "execution_count": 18,
   "metadata": {},
   "outputs": [],
   "source": [
    "opt = Adam(lr=0.01, beta_1=0.9, beta_2=0.999, decay=0.01)\n",
    "\n",
    "model.compile(optimizer=opt, loss='categorical_crossentropy', metrics=['accuracy'])"
   ]
  },
  {
   "cell_type": "markdown",
   "metadata": {},
   "source": [
    "<b><i>Assigning the values to be passed into the model for training</i></b>"
   ]
  },
  {
   "cell_type": "code",
   "execution_count": 19,
   "metadata": {},
   "outputs": [],
   "source": [
    "m = X_train.shape[0]\n",
    "a0 = np.zeros((m, n_a))\n",
    "c0 = np.zeros((m, n_a))"
   ]
  },
  {
   "cell_type": "markdown",
   "metadata": {},
   "source": [
    "<b><i>Fitting our training data to the compiled model</i></b>"
   ]
  },
  {
   "cell_type": "code",
   "execution_count": 20,
   "metadata": {},
   "outputs": [
    {
     "name": "stdout",
     "output_type": "stream",
     "text": [
      "Epoch 1/100\n",
      "132/132 [==============================] - 12s 93ms/step - loss: 1.6059 - acc: 0.2727\n",
      "Epoch 2/100\n",
      "132/132 [==============================] - 0s 2ms/step - loss: 1.3175 - acc: 0.5303\n",
      "Epoch 3/100\n",
      "132/132 [==============================] - 0s 2ms/step - loss: 1.0387 - acc: 0.6970\n",
      "Epoch 4/100\n",
      "132/132 [==============================] - 0s 2ms/step - loss: 0.8233 - acc: 0.6667\n",
      "Epoch 5/100\n",
      "132/132 [==============================] - 0s 2ms/step - loss: 0.6276 - acc: 0.7500\n",
      "Epoch 6/100\n",
      "132/132 [==============================] - 0s 2ms/step - loss: 0.5297 - acc: 0.8182\n",
      "Epoch 7/100\n",
      "132/132 [==============================] - 0s 2ms/step - loss: 0.4672 - acc: 0.8106\n",
      "Epoch 8/100\n",
      "132/132 [==============================] - 0s 1ms/step - loss: 0.4568 - acc: 0.8258\n",
      "Epoch 9/100\n",
      "132/132 [==============================] - 0s 1ms/step - loss: 0.2726 - acc: 0.9091\n",
      "Epoch 10/100\n",
      "132/132 [==============================] - ETA: 0s - loss: 0.4558 - acc: 0.875 - 0s 1ms/step - loss: 0.5368 - acc: 0.8182\n",
      "Epoch 11/100\n",
      "132/132 [==============================] - 0s 1ms/step - loss: 0.1908 - acc: 0.9470\n",
      "Epoch 12/100\n",
      "132/132 [==============================] - 0s 1ms/step - loss: 0.1745 - acc: 0.9394\n",
      "Epoch 13/100\n",
      "132/132 [==============================] - 0s 1ms/step - loss: 0.1965 - acc: 0.9318\n",
      "Epoch 14/100\n",
      "132/132 [==============================] - 0s 1ms/step - loss: 0.1305 - acc: 0.9697\n",
      "Epoch 15/100\n",
      "132/132 [==============================] - 0s 1ms/step - loss: 0.0904 - acc: 0.9848\n",
      "Epoch 16/100\n",
      "132/132 [==============================] - 0s 1ms/step - loss: 0.2329 - acc: 0.9015\n",
      "Epoch 17/100\n",
      "132/132 [==============================] - 0s 1ms/step - loss: 0.3034 - acc: 0.9318\n",
      "Epoch 18/100\n",
      "132/132 [==============================] - 0s 1ms/step - loss: 0.2147 - acc: 0.9394\n",
      "Epoch 19/100\n",
      "132/132 [==============================] - 0s 1ms/step - loss: 0.1978 - acc: 0.9318\n",
      "Epoch 20/100\n",
      "132/132 [==============================] - 0s 1ms/step - loss: 0.1168 - acc: 0.9697\n",
      "Epoch 21/100\n",
      "132/132 [==============================] - 0s 963us/step - loss: 0.0683 - acc: 0.9848\n",
      "Epoch 22/100\n",
      "132/132 [==============================] - 0s 970us/step - loss: 0.0515 - acc: 0.9848\n",
      "Epoch 23/100\n",
      "132/132 [==============================] - 0s 1ms/step - loss: 0.0436 - acc: 0.9924\n",
      "Epoch 24/100\n",
      "132/132 [==============================] - 0s 963us/step - loss: 0.0349 - acc: 0.9924\n",
      "Epoch 25/100\n",
      "132/132 [==============================] - 0s 940us/step - loss: 0.0285 - acc: 0.9924\n",
      "Epoch 26/100\n",
      "132/132 [==============================] - 0s 925us/step - loss: 0.0256 - acc: 0.9924\n",
      "Epoch 27/100\n",
      "132/132 [==============================] - 0s 872us/step - loss: 0.0201 - acc: 0.9924\n",
      "Epoch 28/100\n",
      "132/132 [==============================] - 0s 849us/step - loss: 0.0174 - acc: 0.9924\n",
      "Epoch 29/100\n",
      "132/132 [==============================] - 0s 842us/step - loss: 0.0377 - acc: 0.9848\n",
      "Epoch 30/100\n",
      "132/132 [==============================] - 0s 849us/step - loss: 0.3086 - acc: 0.9242\n",
      "Epoch 31/100\n",
      "132/132 [==============================] - 0s 788us/step - loss: 0.0716 - acc: 0.9545\n",
      "Epoch 32/100\n",
      "132/132 [==============================] - 0s 781us/step - loss: 0.1362 - acc: 0.9470\n",
      "Epoch 33/100\n",
      "132/132 [==============================] - 0s 826us/step - loss: 0.0572 - acc: 0.9848\n",
      "Epoch 34/100\n",
      "132/132 [==============================] - 0s 804us/step - loss: 0.0389 - acc: 1.0000\n",
      "Epoch 35/100\n",
      "132/132 [==============================] - 0s 811us/step - loss: 0.0272 - acc: 1.0000\n",
      "Epoch 36/100\n",
      "132/132 [==============================] - 0s 766us/step - loss: 0.0187 - acc: 1.0000\n",
      "Epoch 37/100\n",
      "132/132 [==============================] - 0s 735us/step - loss: 0.0124 - acc: 1.0000\n",
      "Epoch 38/100\n",
      "132/132 [==============================] - 0s 796us/step - loss: 0.0093 - acc: 1.0000 0s - loss: 0.0095 - acc: 1.000\n",
      "Epoch 39/100\n",
      "132/132 [==============================] - 0s 819us/step - loss: 0.0068 - acc: 1.0000\n",
      "Epoch 40/100\n",
      "132/132 [==============================] - 0s 788us/step - loss: 0.0057 - acc: 1.0000\n",
      "Epoch 41/100\n",
      "132/132 [==============================] - 0s 766us/step - loss: 0.0046 - acc: 1.0000\n",
      "Epoch 42/100\n",
      "132/132 [==============================] - 0s 751us/step - loss: 0.0041 - acc: 1.0000\n",
      "Epoch 43/100\n",
      "132/132 [==============================] - 0s 773us/step - loss: 0.0036 - acc: 1.0000\n",
      "Epoch 44/100\n",
      "132/132 [==============================] - 0s 728us/step - loss: 0.0032 - acc: 1.0000\n",
      "Epoch 45/100\n",
      "132/132 [==============================] - 0s 713us/step - loss: 0.0029 - acc: 1.0000\n",
      "Epoch 46/100\n",
      "132/132 [==============================] - 0s 705us/step - loss: 0.0027 - acc: 1.0000\n",
      "Epoch 47/100\n",
      "132/132 [==============================] - 0s 644us/step - loss: 0.0025 - acc: 1.0000\n",
      "Epoch 48/100\n",
      "132/132 [==============================] - 0s 697us/step - loss: 0.0023 - acc: 1.0000\n",
      "Epoch 49/100\n",
      "132/132 [==============================] - 0s 538us/step - loss: 0.0022 - acc: 1.0000\n",
      "Epoch 50/100\n",
      "132/132 [==============================] - 0s 622us/step - loss: 0.0021 - acc: 1.0000\n",
      "Epoch 51/100\n",
      "132/132 [==============================] - 0s 629us/step - loss: 0.0019 - acc: 1.0000\n",
      "Epoch 52/100\n",
      "132/132 [==============================] - 0s 576us/step - loss: 0.0018 - acc: 1.0000\n",
      "Epoch 53/100\n",
      "132/132 [==============================] - 0s 591us/step - loss: 0.0017 - acc: 1.0000\n",
      "Epoch 54/100\n",
      "132/132 [==============================] - 0s 561us/step - loss: 0.0016 - acc: 1.0000\n",
      "Epoch 55/100\n",
      "132/132 [==============================] - 0s 523us/step - loss: 0.0016 - acc: 1.0000\n",
      "Epoch 56/100\n",
      "132/132 [==============================] - 0s 576us/step - loss: 0.0015 - acc: 1.0000\n",
      "Epoch 57/100\n",
      "132/132 [==============================] - 0s 546us/step - loss: 0.0014 - acc: 1.0000\n",
      "Epoch 58/100\n",
      "132/132 [==============================] - 0s 523us/step - loss: 0.0013 - acc: 1.0000\n",
      "Epoch 59/100\n",
      "132/132 [==============================] - 0s 576us/step - loss: 0.0013 - acc: 1.0000\n",
      "Epoch 60/100\n",
      "132/132 [==============================] - 0s 553us/step - loss: 0.0012 - acc: 1.0000\n",
      "Epoch 61/100\n",
      "132/132 [==============================] - 0s 584us/step - loss: 0.0012 - acc: 1.0000\n",
      "Epoch 62/100\n",
      "132/132 [==============================] - 0s 606us/step - loss: 0.0011 - acc: 1.0000\n",
      "Epoch 63/100\n",
      "132/132 [==============================] - 0s 599us/step - loss: 0.0011 - acc: 1.0000\n",
      "Epoch 64/100\n",
      "132/132 [==============================] - 0s 614us/step - loss: 0.0011 - acc: 1.0000\n",
      "Epoch 65/100\n",
      "132/132 [==============================] - 0s 523us/step - loss: 0.0010 - acc: 1.0000\n",
      "Epoch 66/100\n",
      "132/132 [==============================] - 0s 584us/step - loss: 9.9463e-04 - acc: 1.0000\n",
      "Epoch 67/100\n",
      "132/132 [==============================] - 0s 523us/step - loss: 9.6231e-04 - acc: 1.0000\n",
      "Epoch 68/100\n",
      "132/132 [==============================] - 0s 606us/step - loss: 9.3727e-04 - acc: 1.0000\n",
      "Epoch 69/100\n",
      "132/132 [==============================] - 0s 569us/step - loss: 9.0870e-04 - acc: 1.0000\n",
      "Epoch 70/100\n",
      "132/132 [==============================] - 0s 516us/step - loss: 8.7224e-04 - acc: 1.0000\n",
      "Epoch 71/100\n",
      "132/132 [==============================] - 0s 553us/step - loss: 8.4720e-04 - acc: 1.0000\n",
      "Epoch 72/100\n",
      "132/132 [==============================] - 0s 561us/step - loss: 8.2848e-04 - acc: 1.0000\n",
      "Epoch 73/100\n",
      "132/132 [==============================] - 0s 622us/step - loss: 8.0646e-04 - acc: 1.0000\n",
      "Epoch 74/100\n",
      "132/132 [==============================] - 0s 569us/step - loss: 7.8986e-04 - acc: 1.0000\n",
      "Epoch 75/100\n",
      "132/132 [==============================] - 0s 591us/step - loss: 7.7214e-04 - acc: 1.0000\n",
      "Epoch 76/100\n",
      "132/132 [==============================] - 0s 614us/step - loss: 7.5138e-04 - acc: 1.0000\n",
      "Epoch 77/100\n",
      "132/132 [==============================] - 0s 584us/step - loss: 7.3561e-04 - acc: 1.0000\n",
      "Epoch 78/100\n",
      "132/132 [==============================] - 0s 584us/step - loss: 7.1984e-04 - acc: 1.0000\n",
      "Epoch 79/100\n",
      "132/132 [==============================] - 0s 569us/step - loss: 7.0144e-04 - acc: 1.0000\n",
      "Epoch 80/100\n",
      "132/132 [==============================] - 0s 569us/step - loss: 6.8260e-04 - acc: 1.0000\n",
      "Epoch 81/100\n",
      "132/132 [==============================] - 0s 523us/step - loss: 6.6705e-04 - acc: 1.0000\n",
      "Epoch 82/100\n"
     ]
    },
    {
     "name": "stdout",
     "output_type": "stream",
     "text": [
      "132/132 [==============================] - 0s 561us/step - loss: 6.5205e-04 - acc: 1.0000\n",
      "Epoch 83/100\n",
      "132/132 [==============================] - 0s 569us/step - loss: 6.3728e-04 - acc: 1.0000\n",
      "Epoch 84/100\n",
      "132/132 [==============================] - 0s 516us/step - loss: 6.2377e-04 - acc: 1.0000\n",
      "Epoch 85/100\n",
      "132/132 [==============================] - 0s 622us/step - loss: 6.1263e-04 - acc: 1.0000\n",
      "Epoch 86/100\n",
      "132/132 [==============================] - 0s 584us/step - loss: 5.9931e-04 - acc: 1.0000\n",
      "Epoch 87/100\n",
      "132/132 [==============================] - 0s 576us/step - loss: 5.8822e-04 - acc: 1.0000\n",
      "Epoch 88/100\n",
      "132/132 [==============================] - 0s 576us/step - loss: 5.7747e-04 - acc: 1.0000\n",
      "Epoch 89/100\n",
      "132/132 [==============================] - 0s 569us/step - loss: 5.6717e-04 - acc: 1.0000\n",
      "Epoch 90/100\n",
      "132/132 [==============================] - 0s 569us/step - loss: 5.5833e-04 - acc: 1.0000\n",
      "Epoch 91/100\n",
      "132/132 [==============================] - 0s 576us/step - loss: 5.4953e-04 - acc: 1.0000\n",
      "Epoch 92/100\n",
      "132/132 [==============================] - 0s 576us/step - loss: 5.4016e-04 - acc: 1.0000\n",
      "Epoch 93/100\n",
      "132/132 [==============================] - 0s 569us/step - loss: 5.3086e-04 - acc: 1.0000\n",
      "Epoch 94/100\n",
      "132/132 [==============================] - 0s 637us/step - loss: 5.2352e-04 - acc: 1.0000\n",
      "Epoch 95/100\n",
      "132/132 [==============================] - 0s 660us/step - loss: 5.1520e-04 - acc: 1.0000\n",
      "Epoch 96/100\n",
      "132/132 [==============================] - 0s 652us/step - loss: 5.0728e-04 - acc: 1.0000\n",
      "Epoch 97/100\n",
      "132/132 [==============================] - 0s 675us/step - loss: 4.9827e-04 - acc: 1.0000\n",
      "Epoch 98/100\n",
      "132/132 [==============================] - 0s 599us/step - loss: 4.8948e-04 - acc: 1.0000\n",
      "Epoch 99/100\n",
      "132/132 [==============================] - 0s 606us/step - loss: 4.8183e-04 - acc: 1.0000\n",
      "Epoch 100/100\n",
      "132/132 [==============================] - 0s 705us/step - loss: 4.7458e-04 - acc: 1.0000\n"
     ]
    },
    {
     "data": {
      "text/plain": [
       "<keras.callbacks.History at 0x89bb5e3588>"
      ]
     },
     "execution_count": 20,
     "metadata": {},
     "output_type": "execute_result"
    }
   ],
   "source": [
    "model.fit([X_train_indices, a0, c0], Y_train_oh, epochs=100)"
   ]
  },
  {
   "cell_type": "markdown",
   "metadata": {},
   "source": [
    "<b><i>Inference_model for predicting the output from the trained lstm_cell. Here, LSTM_cell and densor layers passed as parameter are the trained cell</i></b>"
   ]
  },
  {
   "cell_type": "code",
   "execution_count": 21,
   "metadata": {},
   "outputs": [],
   "source": [
    "def emoji_inference_model(LSTM_cell, densor, input_shape, word_to_vec_map, word_to_index, n_a):\n",
    "\n",
    "    sentence_indices = Input(shape = input_shape, dtype = 'int32')\n",
    "    \n",
    "    embedding_layer = pretrained_embedding_layer(word_to_vec_map, word_to_index)\n",
    "    \n",
    "    # Propagate sentence_indices through your embedding layer, you get back the embeddings\n",
    "    embeddings = embedding_layer(sentence_indices)\n",
    "    X = embeddings\n",
    "    print(\"Shape of embeddings: \", embeddings.shape)\n",
    "    n_value = embeddings.shape[2]\n",
    "    Tx = embeddings.shape[1]\n",
    "    \n",
    "    a0 = Input(shape=(n_a,), name='a0')\n",
    "    c0 = Input(shape=(n_a,), name='c0')\n",
    "    a = a0\n",
    "    c = c0\n",
    "    \n",
    "    for t in range(Tx-1):\n",
    "        \n",
    "        x = Lambda(lambda x: X[:,t,:])(X)\n",
    "        x = reshapor(x)\n",
    "        a, _, c = LSTM_cell(x, initial_state=[a, c])\n",
    "    \n",
    "    x = Lambda(lambda x: X[:,t,:])(X)\n",
    "    x = reshapor(x)\n",
    "    a, _, c = LSTM_cell(x, initial_state=[a, c])\n",
    "    out = densor(a)\n",
    "    \n",
    "    model = Model(inputs = [sentence_indices, a0, c0], outputs = out)\n",
    "    \n",
    "    return model"
   ]
  },
  {
   "cell_type": "markdown",
   "metadata": {},
   "source": [
    "<b><i>Calling the inference model</i></b>"
   ]
  },
  {
   "cell_type": "code",
   "execution_count": 22,
   "metadata": {},
   "outputs": [
    {
     "name": "stdout",
     "output_type": "stream",
     "text": [
      "Shape of embeddings:  (?, 10, 50)\n"
     ]
    }
   ],
   "source": [
    "inference_model = emoji_inference_model(LSTM_cell, densor, (maxLen,), word_to_vec_map, word_to_index, n_a)"
   ]
  },
  {
   "cell_type": "markdown",
   "metadata": {},
   "source": [
    "<b><i>Converting our test data to testable form</i></b>"
   ]
  },
  {
   "cell_type": "code",
   "execution_count": 23,
   "metadata": {},
   "outputs": [],
   "source": [
    "X_test_indices = sentences_to_indices(X_test, word_to_index, max_len = maxLen)\n",
    "Y_test_oh = convert_to_one_hot(Y_test, C = 5)"
   ]
  },
  {
   "cell_type": "markdown",
   "metadata": {},
   "source": [
    "<b><i>Assigning and initializing the values to be passed into the inference_model for testing</i></b>"
   ]
  },
  {
   "cell_type": "code",
   "execution_count": 24,
   "metadata": {},
   "outputs": [],
   "source": [
    "m = X_test.shape[0]\n",
    "a_initializer = np.zeros((m, n_a))\n",
    "c_initializer = np.zeros((m, n_a))"
   ]
  },
  {
   "cell_type": "markdown",
   "metadata": {},
   "source": [
    "<b><i>Simple predictor function that predict the text's emoji using inference model and evaluates he accuracy from original model for training. </i></b>"
   ]
  },
  {
   "cell_type": "code",
   "execution_count": 25,
   "metadata": {},
   "outputs": [],
   "source": [
    "def predict_and_evaluate(inference_model, x_initializer, a_initializer, c_initializer, Y_test_oh):\n",
    "\n",
    "    eval_ = model.evaluate([X_test_indices, a_initializer, c_initializer], Y_test_oh)\n",
    "    \n",
    "    pred = inference_model.predict([x_initializer, a_initializer, c_initializer])\n",
    "    \n",
    "    for i in range(len(X_test)):\n",
    "        num = np.argmax(pred[i])\n",
    "        if(num != Y_test[i]):\n",
    "            print('Expected emoji:'+ label_to_emoji(Y_test[i]) + ' prediction: '+ X_test[i] + label_to_emoji(num).strip())\n",
    "\n",
    "    return eval_[0], eval_[1]"
   ]
  },
  {
   "cell_type": "markdown",
   "metadata": {},
   "source": [
    "<b><i>Here's the accuracy. happy!</i></b>"
   ]
  },
  {
   "cell_type": "code",
   "execution_count": 26,
   "metadata": {},
   "outputs": [
    {
     "name": "stdout",
     "output_type": "stream",
     "text": [
      "56/56 [==============================] - 2s 35ms/step\n",
      "Expected emoji:😄 prediction: he got a very nice raise\t❤️\n",
      "Expected emoji:😄 prediction: she got me a nice present\t❤️\n",
      "Expected emoji:😄 prediction: We had such a lovely dinner tonight\t🍴\n",
      "Expected emoji:😞 prediction: This girl is messing with me\t❤️\n",
      "Expected emoji:😄 prediction: you brighten my day\t❤️\n",
      "Expected emoji:😞 prediction: she is a bully\t❤️\n",
      "Expected emoji:😞 prediction: My life is so boring\t😄\n",
      "Expected emoji:😄 prediction: will you be my valentine\t❤️\n",
      "Expected emoji:⚾ prediction: he can pitch really well\t😄\n",
      "Expected emoji:❤️ prediction: family is all I have\t😞\n",
      "Accuracy:  0.8214285629136222\n"
     ]
    }
   ],
   "source": [
    "loss, acc = predict_and_evaluate(inference_model, X_test_indices, a_initializer, c_initializer, Y_test_oh)\n",
    "print(\"Accuracy: \", acc)"
   ]
  },
  {
   "cell_type": "code",
   "execution_count": null,
   "metadata": {},
   "outputs": [],
   "source": []
  }
 ],
 "metadata": {
  "kernelspec": {
   "display_name": "Python 3",
   "language": "python",
   "name": "python3"
  },
  "language_info": {
   "codemirror_mode": {
    "name": "ipython",
    "version": 3
   },
   "file_extension": ".py",
   "mimetype": "text/x-python",
   "name": "python",
   "nbconvert_exporter": "python",
   "pygments_lexer": "ipython3",
   "version": "3.5.0"
  }
 },
 "nbformat": 4,
 "nbformat_minor": 2
}
