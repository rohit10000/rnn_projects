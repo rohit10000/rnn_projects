{
 "cells": [
  {
   "cell_type": "markdown",
   "metadata": {
    "colab_type": "text",
    "id": "t8xZIrEu_rFx"
   },
   "source": [
    "# Image description generation using LSTM and DNN"
   ]
  },
  {
   "cell_type": "markdown",
   "metadata": {
    "colab_type": "text",
    "id": "_pFT6A4-fDl2"
   },
   "source": [
    "This project completely illustrates the usage of sequential model and deep convolutional neural networks. In this project, we have trained a sequential model such that when given an image feature vector as input to the model, it gives the best suited caption relating to that image. \n",
    "\n",
    "We have divided the complete process into 6 parts, they are:\n",
    "- Dataset Selection\n",
    "- Prepare Photo Data\n",
    "- Prepare Text Data\n",
    "- Develop and train a Deep Learning Model\n",
    "- Evaluate Model\n",
    "- Generate captions given an image"
   ]
  },
  {
   "cell_type": "markdown",
   "metadata": {
    "colab_type": "text",
    "id": "ycj0zlSBfDl5"
   },
   "source": [
    "The complete idea of this project is to first pass the image to a Deep CNN VGG16 model pretrained on imagenet dataset and get a featured vector corresponding to each image. We do so with the help of transfer learning where we discard the softmax layer from the original VGG16 model and insteads gives an output vector of 4096 values that completely represents the image.\n",
    "\n",
    "Then, the featured image vector is passed through a dense map of neural network which is then converted to a vector of 128 values. Then, the featured vector serves as a previous activation and memory value for the first LSTM cell."
   ]
  },
  {
   "cell_type": "markdown",
   "metadata": {
    "colab_type": "text",
    "id": "KcJWnyzdfDl9"
   },
   "source": [
    "While training, my input will be the original caption while my output label will be the same input text shifted left by one word."
   ]
  },
  {
   "cell_type": "markdown",
   "metadata": {
    "colab_type": "text",
    "id": "5bb5GJZ6sZSU"
   },
   "source": [
    "<b><i>Importing Libraries</i></b>"
   ]
  },
  {
   "cell_type": "code",
   "execution_count": 0,
   "metadata": {
    "colab": {},
    "colab_type": "code",
    "id": "a-aw2_eJsZSZ"
   },
   "outputs": [],
   "source": [
    "from os import listdir\n",
    "from pickle import dump\n",
    "from keras.preprocessing.image import load_img\n",
    "from keras.preprocessing.image import img_to_array\n",
    "from keras.applications.vgg16 import preprocess_input\n",
    "from keras.utils import to_categorical\n",
    "from nltk.translate.bleu_score import corpus_bleu\n",
    "from pickle import load\n",
    "import matplotlib.pyplot as plt\n",
    "\n",
    "import tensorflow as tf\n",
    "\n",
    "import os\n",
    "from PIL import Image\n",
    "\n",
    "import matplotlib.pyplot as plt\n",
    "import matplotlib.image as mpimg\n",
    "\n",
    "from tensorflow.python.keras import backend as K\n",
    "from tensorflow.python.keras.models import Model\n",
    "from tensorflow.python.keras.layers import Input, Dense, GRU, Embedding, Dropout, LSTM, add, Reshape, Lambda, RepeatVector\n",
    "from tensorflow.python.keras.applications import VGG16\n",
    "from tensorflow.python.keras.optimizers import RMSprop\n",
    "from tensorflow.python.keras.callbacks import ModelCheckpoint, TensorBoard\n",
    "from tensorflow.python.keras.preprocessing.text import Tokenizer\n",
    "from tensorflow.python.keras.preprocessing.sequence import pad_sequences\n",
    "from keras.utils.vis_utils import plot_model\n",
    "from keras.applications.vgg16 import decode_predictions\n",
    "from tensorflow.python.keras.optimizers import Adam\n",
    "from tqdm import tqdm\n",
    "import cv2\n",
    "import PIL\n",
    "import numpy as np"
   ]
  },
  {
   "cell_type": "markdown",
   "metadata": {
    "colab_type": "text",
    "id": "TKLdPAaPfDmR"
   },
   "source": [
    "**Dataset Selection**\n",
    "\n",
    "We took Flickr8K dataset for our model building and evaluation. The reason is because it is realistic and relatively small and can be trained on the workstation using CPU.\n",
    "\n",
    "We took 6K datapoints for training and 1K as development set and 1K as test set."
   ]
  },
  {
   "cell_type": "markdown",
   "metadata": {
    "colab_type": "text",
    "id": "ZiqgD4IyfDmU"
   },
   "source": [
    "<strong>Prepare Photo Data</strong>\n",
    "\n",
    "We can load the VGG16 model in keras using VGG class. We will remove the last layer from the loaded model, as this is the model has extracted from the photo. Before passing images through the VGG16 model we reshaped them to other size of (224, 224, 3).\n",
    "\n",
    "The file named <b><i>extract_features.py</i></b> consists of the code for feature extraction and saving it to the filenamed <b><i>features.pkl</i></b> and all the image names in <b><i>image_names.txt</i></b>. Then we split the image feature into train, test and dev sets and save them in the <b><i>train_features.pkl</i></b>, <b><i>dev_features.pkl</i></b> and <b><i>test_features.pkl</i></b> respectively.\n"
   ]
  },
  {
   "cell_type": "markdown",
   "metadata": {
    "colab_type": "text",
    "id": "gJ4PMeHLfDmX"
   },
   "source": [
    "<b><i>Loading the saved photo feature</i></b>"
   ]
  },
  {
   "cell_type": "code",
   "execution_count": 0,
   "metadata": {
    "colab": {},
    "colab_type": "code",
    "id": "mNPn5OVSsZSt"
   },
   "outputs": [],
   "source": [
    "train_features = load(open('data/train/train_features.pkl', 'rb'))"
   ]
  },
  {
   "cell_type": "code",
   "execution_count": 60,
   "metadata": {
    "colab": {
     "base_uri": "https://localhost:8080/",
     "height": 34
    },
    "colab_type": "code",
    "id": "KqInH-o0sZS2",
    "outputId": "88d074d7-deeb-4b86-9bcd-28bcd3d0a5d3"
   },
   "outputs": [
    {
     "data": {
      "text/plain": [
       "6000"
      ]
     },
     "execution_count": 60,
     "metadata": {
      "tags": []
     },
     "output_type": "execute_result"
    }
   ],
   "source": [
    "len(train_features)"
   ]
  },
  {
   "cell_type": "markdown",
   "metadata": {
    "colab_type": "text",
    "id": "eN_wzfRyfDmx"
   },
   "source": [
    "\n",
    "<strong>Prepare Text Data</strong>\n",
    "\n",
    "The dataset contains multiple descriptions for each photograph and the text of the descriptions required some minimal cleaning.\n",
    "By using the <b><i>text_preprocessing.py</i></b>. We have cleaned the text data and stored the corresponding train, dev and test descriptiontext to <b><i>train_descriptions.txt</i></b>, <b><i>dev_descriptions.txt</i></b> and <b><i>test_descriptions.txt</i></b> respectively.\n",
    "\n",
    "In the preprocessing of the text before we give input text to the model first the text should be converted to token form and then to one-hot vector form. This was done by <b><i>tokenizer()</i></b> object in the keras and one-hot function respectively. Once the text is preprocessed we get the matrix corresponding to the descriptions of size <b><i>(m, max_length(description), vocab_size)</i></b>.\n",
    "\n",
    "Similarly for the image we have a feature matrix of (m, 1, 4096). Once the text and images got processed. Now, its time to build the model. So, let's go:"
   ]
  },
  {
   "cell_type": "markdown",
   "metadata": {
    "colab_type": "text",
    "id": "87mtEiW0fDm0"
   },
   "source": [
    "<b><i>load doc into memory</i></b>"
   ]
  },
  {
   "cell_type": "code",
   "execution_count": 0,
   "metadata": {
    "colab": {},
    "colab_type": "code",
    "id": "5xlzInCusZTD"
   },
   "outputs": [],
   "source": [
    "def load_doc(filename):\n",
    "    # open the file as read only\n",
    "    file = open(filename, 'r',encoding = \"ISO-8859-1\")\n",
    "    # read all text\n",
    "    text = file.read()\n",
    "    # close the file\n",
    "    file.close()\n",
    "    return text"
   ]
  },
  {
   "cell_type": "markdown",
   "metadata": {
    "colab_type": "text",
    "id": "nYPcRiUwfDnD"
   },
   "source": [
    "<b><i>extract descriptions for images</i></b>"
   ]
  },
  {
   "cell_type": "code",
   "execution_count": 0,
   "metadata": {
    "colab": {},
    "colab_type": "code",
    "id": "xgQ9glhcsZTS"
   },
   "outputs": [],
   "source": [
    "def load_descriptions(doc):\n",
    "    mapping = dict()\n",
    "    # process lines\n",
    "    for line in doc.split('\\n'):\n",
    "        # split line by white space\n",
    "        tokens = line.split()\n",
    "        if len(line) < 2:\n",
    "            continue\n",
    "        # take the first token as the image id, the rest as the description\n",
    "        image_id, image_desc = tokens[0], tokens[1:]\n",
    "        # remove filename from image id\n",
    "        image_id = image_id.split('.')[0]\n",
    "        # convert description tokens back to string\n",
    "        image_desc = ' '.join(image_desc)\n",
    "        # create the list if needed\n",
    "        if image_id not in mapping:\n",
    "            mapping[image_id] = list()\n",
    "        # store description\n",
    "        mapping[image_id].append(image_desc)\n",
    "    return mapping"
   ]
  },
  {
   "cell_type": "markdown",
   "metadata": {
    "colab_type": "text",
    "id": "X1JIEEzVfDnQ"
   },
   "source": [
    "<b><i>Loading the train description</i></b>"
   ]
  },
  {
   "cell_type": "code",
   "execution_count": 0,
   "metadata": {
    "colab": {},
    "colab_type": "code",
    "id": "-wv93dM9sZTc"
   },
   "outputs": [],
   "source": [
    "filename='data/train/train_descriptions.txt'\n",
    "doc = load_doc(filename)\n",
    "train_descriptions = load_descriptions(doc)"
   ]
  },
  {
   "cell_type": "code",
   "execution_count": 62,
   "metadata": {
    "colab": {
     "base_uri": "https://localhost:8080/",
     "height": 52
    },
    "colab_type": "code",
    "id": "GoXmJyBUsZTl",
    "outputId": "ff9fed88-01a3-48e4-b2cb-598ec6b32053"
   },
   "outputs": [
    {
     "name": "stdout",
     "output_type": "stream",
     "text": [
      "6000\n",
      "6000\n"
     ]
    }
   ],
   "source": [
    "print(len(train_features))\n",
    "print(len(train_descriptions))"
   ]
  },
  {
   "cell_type": "markdown",
   "metadata": {
    "colab_type": "text",
    "id": "tJ4nLN4rfDn3"
   },
   "source": [
    "<b><i>convert a dictionary of clean descriptions to a list of descriptions</i></b>"
   ]
  },
  {
   "cell_type": "code",
   "execution_count": 0,
   "metadata": {
    "colab": {},
    "colab_type": "code",
    "id": "HIzEwo7IsZTy"
   },
   "outputs": [],
   "source": [
    "def to_lines(descriptions):\n",
    "    all_desc = list()\n",
    "    for key in descriptions.keys():\n",
    "        [all_desc.append(d) for d in descriptions[key]]\n",
    "    return all_desc"
   ]
  },
  {
   "cell_type": "markdown",
   "metadata": {
    "colab_type": "text",
    "id": "SzuvWhQ0fDoF"
   },
   "source": [
    "<b><i>fit a tokenizer given caption descriptions</i></b>"
   ]
  },
  {
   "cell_type": "code",
   "execution_count": 0,
   "metadata": {
    "colab": {},
    "colab_type": "code",
    "id": "Jp3xxnbyfDoM"
   },
   "outputs": [],
   "source": [
    "def create_tokenizer(descriptions):\n",
    "    lines = to_lines(descriptions)\n",
    "    print(len(lines))\n",
    "    tokenizer = Tokenizer()\n",
    "    tokenizer.fit_on_texts(lines)\n",
    "    return tokenizer"
   ]
  },
  {
   "cell_type": "markdown",
   "metadata": {
    "colab_type": "text",
    "id": "4RGnak89fDoW"
   },
   "source": [
    "<b><i>prepare tokenizer</i></b>"
   ]
  },
  {
   "cell_type": "code",
   "execution_count": 15,
   "metadata": {
    "colab": {
     "base_uri": "https://localhost:8080/",
     "height": 52
    },
    "colab_type": "code",
    "id": "wHuuKq8AsZT6",
    "outputId": "ab19cb0f-09bd-45c1-c00a-8a4932c0efab"
   },
   "outputs": [
    {
     "name": "stdout",
     "output_type": "stream",
     "text": [
      "5000\n",
      "Vocabulary Size: 3890\n"
     ]
    }
   ],
   "source": [
    "tokenizer = create_tokenizer(train_descriptions)\n",
    "word_to_seq = tokenizer.word_index\n",
    "vocab_size = len(word_to_seq) + 1\n",
    "print('Vocabulary Size: %d' % vocab_size)"
   ]
  },
  {
   "cell_type": "code",
   "execution_count": 0,
   "metadata": {
    "colab": {},
    "colab_type": "code",
    "id": "urw7PCS5sZUF"
   },
   "outputs": [],
   "source": [
    "tokenizer.index_to_word = dict(zip(tokenizer.word_index.values(), tokenizer.word_index.keys()))"
   ]
  },
  {
   "cell_type": "markdown",
   "metadata": {
    "colab_type": "text",
    "id": "Rr8lrdxPfDo2"
   },
   "source": [
    "<b><i>Helper functions</i></b>"
   ]
  },
  {
   "cell_type": "code",
   "execution_count": 0,
   "metadata": {
    "colab": {},
    "colab_type": "code",
    "id": "YiE_41g0sZUQ"
   },
   "outputs": [],
   "source": [
    "def convert_to_one_hot(Y, C):\n",
    "    Y = np.array(Y)\n",
    "    Y = np.eye(C)[Y.reshape(-1)]\n",
    "    return Y"
   ]
  },
  {
   "cell_type": "code",
   "execution_count": 0,
   "metadata": {
    "colab": {},
    "colab_type": "code",
    "id": "BwHktU1GsZUY"
   },
   "outputs": [],
   "source": [
    "def max_length(descriptions):\n",
    "    lines = to_lines(descriptions)\n",
    "    return max(len(d.split()) for d in lines)"
   ]
  },
  {
   "cell_type": "markdown",
   "metadata": {
    "colab_type": "text",
    "id": "Lo9QZ0odfDpM"
   },
   "source": [
    "<b><i>Create texts to one-hot vector</i></b>"
   ]
  },
  {
   "cell_type": "code",
   "execution_count": 0,
   "metadata": {
    "colab": {},
    "colab_type": "code",
    "id": "XKyKlNYysZUh"
   },
   "outputs": [],
   "source": [
    "def create_sequences(tokenizer, max_length, descriptions, photos, vocab_size):\n",
    "    a0, X, y = list(), list(), list()\n",
    "    # walk through each image identifier\n",
    "    for key, desc_list in descriptions.items():\n",
    "        # walk through each description for the image\n",
    "          break\n",
    "        for desc in desc_list:\n",
    "            # encode the sequence\n",
    "            seq = tokenizer.texts_to_sequences([desc])[0]\n",
    "            seq = pad_sequences([seq], maxlen=max_length, padding='post')[0]\n",
    "            inp =convert_to_one_hot(seq[:-1], vocab_size)\n",
    "            out =convert_to_one_hot(seq[1:], vocab_size)\n",
    "            a0.append(photos[key][0])\n",
    "            X.append(inp)\n",
    "            y.append(out)\n",
    "\n",
    "    return np.array(a0), np.array(X), np.array(y)"
   ]
  },
  {
   "cell_type": "code",
   "execution_count": 20,
   "metadata": {
    "colab": {
     "base_uri": "https://localhost:8080/",
     "height": 70
    },
    "colab_type": "code",
    "id": "72IW0ZbosZUp",
    "outputId": "38008156-8d8b-4380-acde-ef459add7495"
   },
   "outputs": [
    {
     "name": "stdout",
     "output_type": "stream",
     "text": [
      "completed  0 /1000\n",
      "completed  20 /1000\n",
      "completed  40 /1000\n"
     ]
    }
   ],
   "source": [
    "a0_train, X_train, Y_train = create_sequences(tokenizer, max_length(train_descriptions), train_descriptions, train_features, vocab_size)"
   ]
  },
  {
   "cell_type": "markdown",
   "metadata": {
    "colab_type": "text",
    "id": "Y6Rq1bOvfDpi"
   },
   "source": [
    "<b><i>Brief lookup of the model input data</i></b>"
   ]
  },
  {
   "cell_type": "code",
   "execution_count": 21,
   "metadata": {
    "colab": {
     "base_uri": "https://localhost:8080/",
     "height": 34
    },
    "colab_type": "code",
    "id": "Jzqr6jzgsZUy",
    "outputId": "43e9f6fe-eed3-4f67-f472-774367dabb37"
   },
   "outputs": [
    {
     "data": {
      "text/plain": [
       "(255, 4096)"
      ]
     },
     "execution_count": 21,
     "metadata": {
      "tags": []
     },
     "output_type": "execute_result"
    }
   ],
   "source": [
    "a0_train.shape"
   ]
  },
  {
   "cell_type": "code",
   "execution_count": 0,
   "metadata": {
    "colab": {},
    "colab_type": "code",
    "id": "ejA7MJ3PsZU-"
   },
   "outputs": [],
   "source": [
    "X = X_train\n",
    "Y = np.swapaxes(Y_train, 0, 1)"
   ]
  },
  {
   "cell_type": "code",
   "execution_count": 23,
   "metadata": {
    "colab": {
     "base_uri": "https://localhost:8080/",
     "height": 87
    },
    "colab_type": "code",
    "id": "fZyJd_ZYsZVG",
    "outputId": "c1cae00c-8dfd-45cb-a460-39dad50a5a39"
   },
   "outputs": [
    {
     "name": "stdout",
     "output_type": "stream",
     "text": [
      "(255, 46, 3890)\n",
      "(46, 255, 3890)\n",
      "33\n",
      "33\n"
     ]
    }
   ],
   "source": [
    "print(X.shape)\n",
    "print(Y.shape)\n",
    "print(np.argmax(Y[1][2]))\n",
    "print(np.argmax(X[2][2]))"
   ]
  },
  {
   "cell_type": "markdown",
   "metadata": {
    "colab_type": "text",
    "id": "0sCVGRDAfDqB"
   },
   "source": [
    "<strong>Model Training and Development</strong>\n",
    "\n",
    "<img src=\"images/model_train.png\">\n",
    "\n",
    "\n",
    "Figure shows an LSTM model. For that we declared the layer objects like: LSTM_cell, tensor, and reshape layer and accordingly built the model."
   ]
  },
  {
   "cell_type": "code",
   "execution_count": 0,
   "metadata": {
    "colab": {},
    "colab_type": "code",
    "id": "oVZZDk4esZVY"
   },
   "outputs": [],
   "source": [
    "n_a = 128\n",
    "n_values = vocab_size"
   ]
  },
  {
   "cell_type": "markdown",
   "metadata": {
    "colab_type": "text",
    "id": "L9iNfvppfDqL"
   },
   "source": [
    "<b><i>Helper function used in Caption_model</i></b>"
   ]
  },
  {
   "cell_type": "code",
   "execution_count": 0,
   "metadata": {
    "colab": {},
    "colab_type": "code",
    "id": "1EbzkkNEsZVj"
   },
   "outputs": [],
   "source": [
    "\n",
    "def one_hot(x):\n",
    "    x = K.argmax(x)\n",
    "    x = tf.one_hot(x, vocab_size) \n",
    "    x = RepeatVector(1)(x)\n",
    "    return x"
   ]
  },
  {
   "cell_type": "markdown",
   "metadata": {
    "colab_type": "text",
    "id": "5P_klYoFfDqh"
   },
   "source": [
    "<b><i>Declaration of layer object</i></b>"
   ]
  },
  {
   "cell_type": "code",
   "execution_count": 0,
   "metadata": {
    "colab": {},
    "colab_type": "code",
    "id": "IOna1DlRsZVr"
   },
   "outputs": [],
   "source": [
    "reshapor = Reshape((1, n_values))                        \n",
    "LSTM_cell = LSTM(n_a, return_state = True)         \n",
    "densor = Dense(n_values, activation='softmax')\n",
    "transfer_densor = Dense(n_a, activation='tanh')"
   ]
  },
  {
   "cell_type": "markdown",
   "metadata": {
    "colab_type": "text",
    "id": "tpDekUOyfDqw"
   },
   "source": [
    "In this model we first converted the (1, 4096) sized featured vector to (1, 128) using the densed neural network. And then we inject this 128 valued vector to uor lstm model. We inject this vector as the previous layer activation to the first LSTM cellof the model. And inputs the word one-hot vector accordingly.\n",
    "\n",
    "Loss function used here is: categorical_crossentropy.\n",
    "$$CE = -\\sum_{i}^{C}t_{i} log (s_{i})$$"
   ]
  },
  {
   "cell_type": "code",
   "execution_count": 0,
   "metadata": {
    "colab": {},
    "colab_type": "code",
    "id": "M_wVDQI8sZVy"
   },
   "outputs": [],
   "source": [
    "def cap_model(Tx, n_a, n_values):\n",
    "    \n",
    "\n",
    "    X = Input(shape=(Tx, n_values))\n",
    "    \n",
    "    # Define s0, initial hidden state for the decoder LSTM\n",
    "    a0 = Input(shape=(4096,))\n",
    "    a = transfer_densor(a0)\n",
    "    c= a\n",
    "    # Step 2: Loop\n",
    "    outputs = []\n",
    "    for t in range(Tx):\n",
    "        \n",
    "        # Step 2.A: select the \"t\"th time step vector from X. \n",
    "        x = Lambda(lambda x: X[:,t,:])(X)\n",
    "        # Step 2.B: Use reshapor to reshape x to be (1, n_values) (≈1 line)\n",
    "        x = reshapor(x)\n",
    "        # Step 2.C: Perform one step of the LSTM_cell\n",
    "        a, _, c = LSTM_cell(x, initial_state=[a, c])\n",
    "        # Step 2.D: Apply densor to the hidden state output of LSTM_Cell\n",
    "        out = densor(a)\n",
    "        # Step 2.E: add the output to \"outputs\"\n",
    "        outputs.append(out)\n",
    "        \n",
    "    # Step 3: Create model instance\n",
    "    model = Model([X, a0], outputs)\n",
    "    \n",
    "    \n",
    "    return model"
   ]
  },
  {
   "cell_type": "code",
   "execution_count": 28,
   "metadata": {
    "colab": {
     "base_uri": "https://localhost:8080/",
     "height": 90
    },
    "colab_type": "code",
    "id": "FcJfzvYzsZV5",
    "outputId": "46139810-a320-43e0-e47c-d7269cc3d28a"
   },
   "outputs": [
    {
     "name": "stdout",
     "output_type": "stream",
     "text": [
      "WARNING:tensorflow:From /usr/local/lib/python3.6/dist-packages/tensorflow/python/ops/resource_variable_ops.py:435: colocate_with (from tensorflow.python.framework.ops) is deprecated and will be removed in a future version.\n",
      "Instructions for updating:\n",
      "Colocations handled automatically by placer.\n"
     ]
    }
   ],
   "source": [
    "model = cap_model(Tx = 46, n_a = 128, n_values = vocab_size)"
   ]
  },
  {
   "cell_type": "markdown",
   "metadata": {
    "colab_type": "text",
    "id": "9FNcNL7EfDq_"
   },
   "source": [
    "<b><i>Model Compilation</i></b>"
   ]
  },
  {
   "cell_type": "code",
   "execution_count": 0,
   "metadata": {
    "colab": {},
    "colab_type": "code",
    "id": "2AMH6KMLsZWH"
   },
   "outputs": [],
   "source": [
    "opt = Adam(lr=0.01, beta_1=0.9, beta_2=0.999, decay=0.01)\n",
    "\n",
    "model.compile(optimizer=opt, loss='categorical_crossentropy', metrics=['accuracy'])"
   ]
  },
  {
   "cell_type": "code",
   "execution_count": 0,
   "metadata": {
    "colab": {},
    "colab_type": "code",
    "id": "4kFl7indsZWP"
   },
   "outputs": [],
   "source": [
    "a0 = a0_train"
   ]
  },
  {
   "cell_type": "markdown",
   "metadata": {
    "colab_type": "text",
    "id": "Tek9OXz1fDrY"
   },
   "source": [
    "<b><i>Model fitting</i></b>"
   ]
  },
  {
   "cell_type": "code",
   "execution_count": 31,
   "metadata": {
    "colab": {
     "base_uri": "https://localhost:8080/",
     "height": 3663
    },
    "colab_type": "code",
    "id": "R3ia5hGHsZWZ",
    "outputId": "e488624e-2bbd-456a-d4de-86370c6fcd10"
   },
   "outputs": [
    {
     "name": "stdout",
     "output_type": "stream",
     "text": [
      "WARNING:tensorflow:From /usr/local/lib/python3.6/dist-packages/tensorflow/python/ops/math_ops.py:3066: to_int32 (from tensorflow.python.ops.math_ops) is deprecated and will be removed in a future version.\n",
      "Instructions for updating:\n",
      "Use tf.cast instead.\n",
      "Epoch 1/100\n",
      "255/255 [==============================] - 44s 172ms/sample - loss: 227.9739 - dense_loss: 4.1438 - dense_acc: 0.0039 - dense_acc_1: 0.0000e+00 - dense_acc_2: 0.0039 - dense_acc_3: 0.0000e+00 - dense_acc_4: 0.0078 - dense_acc_5: 0.0196 - dense_acc_6: 0.0510 - dense_acc_7: 0.1294 - dense_acc_8: 0.2196 - dense_acc_9: 0.3216 - dense_acc_10: 0.4078 - dense_acc_11: 0.4745 - dense_acc_12: 0.5647 - dense_acc_13: 0.6471 - dense_acc_14: 0.7176 - dense_acc_15: 0.7647 - dense_acc_16: 0.7961 - dense_acc_17: 0.8157 - dense_acc_18: 0.8314 - dense_acc_19: 0.8510 - dense_acc_20: 0.8549 - dense_acc_21: 0.8588 - dense_acc_22: 0.8627 - dense_acc_23: 0.8667 - dense_acc_24: 0.8667 - dense_acc_25: 0.8667 - dense_acc_26: 0.8667 - dense_acc_27: 0.8667 - dense_acc_28: 0.8667 - dense_acc_29: 0.8667 - dense_acc_30: 0.8667 - dense_acc_31: 0.8667 - dense_acc_32: 0.8667 - dense_acc_33: 0.8706 - dense_acc_34: 0.8706 - dense_acc_35: 0.8745 - dense_acc_36: 0.8745 - dense_acc_37: 0.8745 - dense_acc_38: 0.8745 - dense_acc_39: 0.8745 - dense_acc_40: 0.8745 - dense_acc_41: 0.8745 - dense_acc_42: 0.8745 - dense_acc_43: 0.8745 - dense_acc_44: 0.8745 - dense_acc_45: 0.8745\n",
      "Epoch 2/100\n",
      "255/255 [==============================] - 3s 12ms/sample - loss: 88.2428 - dense_loss: 0.0849 - dense_acc: 0.0078 - dense_acc_1: 0.0000e+00 - dense_acc_2: 0.0000e+00 - dense_acc_3: 0.0000e+00 - dense_acc_4: 0.0118 - dense_acc_5: 0.0235 - dense_acc_6: 0.0627 - dense_acc_7: 0.1529 - dense_acc_8: 0.2667 - dense_acc_9: 0.3961 - dense_acc_10: 0.4863 - dense_acc_11: 0.5569 - dense_acc_12: 0.6588 - dense_acc_13: 0.7490 - dense_acc_14: 0.8196 - dense_acc_15: 0.8784 - dense_acc_16: 0.9176 - dense_acc_17: 0.9412 - dense_acc_18: 0.9569 - dense_acc_19: 0.9765 - dense_acc_20: 0.9804 - dense_acc_21: 0.9843 - dense_acc_22: 0.9882 - dense_acc_23: 0.9922 - dense_acc_24: 0.9922 - dense_acc_25: 0.9922 - dense_acc_26: 0.9922 - dense_acc_27: 0.9922 - dense_acc_28: 0.9922 - dense_acc_29: 0.9922 - dense_acc_30: 0.9922 - dense_acc_31: 0.9922 - dense_acc_32: 0.9922 - dense_acc_33: 0.9961 - dense_acc_34: 0.9961 - dense_acc_35: 1.0000 - dense_acc_36: 1.0000 - dense_acc_37: 1.0000 - dense_acc_38: 1.0000 - dense_acc_39: 1.0000 - dense_acc_40: 1.0000 - dense_acc_41: 1.0000 - dense_acc_42: 1.0000 - dense_acc_43: 1.0000 - dense_acc_44: 1.0000 - dense_acc_45: 1.0000\n",
      "Epoch 3/100\n",
      "255/255 [==============================] - 3s 12ms/sample - loss: 72.8643 - dense_loss: 0.0522 - dense_acc: 0.0118 - dense_acc_1: 0.0000e+00 - dense_acc_2: 0.0000e+00 - dense_acc_3: 0.0000e+00 - dense_acc_4: 0.0118 - dense_acc_5: 0.0235 - dense_acc_6: 0.0627 - dense_acc_7: 0.1529 - dense_acc_8: 0.2667 - dense_acc_9: 0.3961 - dense_acc_10: 0.4863 - dense_acc_11: 0.5569 - dense_acc_12: 0.6588 - dense_acc_13: 0.7490 - dense_acc_14: 0.8196 - dense_acc_15: 0.8784 - dense_acc_16: 0.9176 - dense_acc_17: 0.9412 - dense_acc_18: 0.9569 - dense_acc_19: 0.9765 - dense_acc_20: 0.9804 - dense_acc_21: 0.9843 - dense_acc_22: 0.9882 - dense_acc_23: 0.9922 - dense_acc_24: 0.9922 - dense_acc_25: 0.9922 - dense_acc_26: 0.9922 - dense_acc_27: 0.9922 - dense_acc_28: 0.9922 - dense_acc_29: 0.9922 - dense_acc_30: 0.9922 - dense_acc_31: 0.9922 - dense_acc_32: 0.9922 - dense_acc_33: 0.9961 - dense_acc_34: 0.9961 - dense_acc_35: 1.0000 - dense_acc_36: 1.0000 - dense_acc_37: 1.0000 - dense_acc_38: 1.0000 - dense_acc_39: 1.0000 - dense_acc_40: 1.0000 - dense_acc_41: 1.0000 - dense_acc_42: 1.0000 - dense_acc_43: 1.0000 - dense_acc_44: 1.0000 - dense_acc_45: 1.0000\n",
      "Epoch 4/100\n",
      "255/255 [==============================] - 3s 12ms/sample - loss: 69.1156 - dense_loss: 0.0338 - dense_acc: 0.0431 - dense_acc_1: 0.0510 - dense_acc_2: 0.0275 - dense_acc_3: 0.0157 - dense_acc_4: 0.0157 - dense_acc_5: 0.0157 - dense_acc_6: 0.0588 - dense_acc_7: 0.1529 - dense_acc_8: 0.2667 - dense_acc_9: 0.3961 - dense_acc_10: 0.4863 - dense_acc_11: 0.5569 - dense_acc_12: 0.6588 - dense_acc_13: 0.7490 - dense_acc_14: 0.8196 - dense_acc_15: 0.8784 - dense_acc_16: 0.9176 - dense_acc_17: 0.9412 - dense_acc_18: 0.9569 - dense_acc_19: 0.9765 - dense_acc_20: 0.9804 - dense_acc_21: 0.9843 - dense_acc_22: 0.9882 - dense_acc_23: 0.9922 - dense_acc_24: 0.9922 - dense_acc_25: 0.9922 - dense_acc_26: 0.9922 - dense_acc_27: 0.9922 - dense_acc_28: 0.9922 - dense_acc_29: 0.9922 - dense_acc_30: 0.9922 - dense_acc_31: 0.9922 - dense_acc_32: 0.9922 - dense_acc_33: 0.9961 - dense_acc_34: 0.9961 - dense_acc_35: 1.0000 - dense_acc_36: 1.0000 - dense_acc_37: 1.0000 - dense_acc_38: 1.0000 - dense_acc_39: 1.0000 - dense_acc_40: 1.0000 - dense_acc_41: 1.0000 - dense_acc_42: 1.0000 - dense_acc_43: 1.0000 - dense_acc_44: 1.0000 - dense_acc_45: 1.0000\n",
      "Epoch 5/100\n",
      "255/255 [==============================] - 3s 12ms/sample - loss: 66.9094 - dense_loss: 0.0266 - dense_acc: 0.1176 - dense_acc_1: 0.1098 - dense_acc_2: 0.0902 - dense_acc_3: 0.0353 - dense_acc_4: 0.0196 - dense_acc_5: 0.0235 - dense_acc_6: 0.0549 - dense_acc_7: 0.1412 - dense_acc_8: 0.2706 - dense_acc_9: 0.3961 - dense_acc_10: 0.4863 - dense_acc_11: 0.5569 - dense_acc_12: 0.6588 - dense_acc_13: 0.7490 - dense_acc_14: 0.8196 - dense_acc_15: 0.8784 - dense_acc_16: 0.9176 - dense_acc_17: 0.9412 - dense_acc_18: 0.9569 - dense_acc_19: 0.9765 - dense_acc_20: 0.9804 - dense_acc_21: 0.9843 - dense_acc_22: 0.9882 - dense_acc_23: 0.9922 - dense_acc_24: 0.9922 - dense_acc_25: 0.9922 - dense_acc_26: 0.9922 - dense_acc_27: 0.9922 - dense_acc_28: 0.9922 - dense_acc_29: 0.9922 - dense_acc_30: 0.9922 - dense_acc_31: 0.9922 - dense_acc_32: 0.9922 - dense_acc_33: 0.9961 - dense_acc_34: 0.9961 - dense_acc_35: 1.0000 - dense_acc_36: 1.0000 - dense_acc_37: 1.0000 - dense_acc_38: 1.0000 - dense_acc_39: 1.0000 - dense_acc_40: 1.0000 - dense_acc_41: 1.0000 - dense_acc_42: 1.0000 - dense_acc_43: 1.0000 - dense_acc_44: 1.0000 - dense_acc_45: 1.0000\n",
      "Epoch 6/100\n",
      "255/255 [==============================] - 3s 12ms/sample - loss: 65.1495 - dense_loss: 0.0215 - dense_acc: 0.1569 - dense_acc_1: 0.0863 - dense_acc_2: 0.0902 - dense_acc_3: 0.0353 - dense_acc_4: 0.0157 - dense_acc_5: 0.0275 - dense_acc_6: 0.0627 - dense_acc_7: 0.1529 - dense_acc_8: 0.2667 - dense_acc_9: 0.3961 - dense_acc_10: 0.4863 - dense_acc_11: 0.5569 - dense_acc_12: 0.6588 - dense_acc_13: 0.7490 - dense_acc_14: 0.8196 - dense_acc_15: 0.8784 - dense_acc_16: 0.9176 - dense_acc_17: 0.9412 - dense_acc_18: 0.9569 - dense_acc_19: 0.9765 - dense_acc_20: 0.9804 - dense_acc_21: 0.9843 - dense_acc_22: 0.9882 - dense_acc_23: 0.9922 - dense_acc_24: 0.9922 - dense_acc_25: 0.9922 - dense_acc_26: 0.9922 - dense_acc_27: 0.9922 - dense_acc_28: 0.9922 - dense_acc_29: 0.9922 - dense_acc_30: 0.9922 - dense_acc_31: 0.9922 - dense_acc_32: 0.9922 - dense_acc_33: 0.9961 - dense_acc_34: 0.9961 - dense_acc_35: 1.0000 - dense_acc_36: 1.0000 - dense_acc_37: 1.0000 - dense_acc_38: 1.0000 - dense_acc_39: 1.0000 - dense_acc_40: 1.0000 - dense_acc_41: 1.0000 - dense_acc_42: 1.0000 - dense_acc_43: 1.0000 - dense_acc_44: 1.0000 - dense_acc_45: 1.0000\n",
      "Epoch 7/100\n",
      "255/255 [==============================] - 3s 12ms/sample - loss: 65.2231 - dense_loss: 0.0182 - dense_acc: 0.1647 - dense_acc_1: 0.1098 - dense_acc_2: 0.0902 - dense_acc_3: 0.0392 - dense_acc_4: 0.0275 - dense_acc_5: 0.0353 - dense_acc_6: 0.0549 - dense_acc_7: 0.1373 - dense_acc_8: 0.2627 - dense_acc_9: 0.4078 - dense_acc_10: 0.4824 - dense_acc_11: 0.5569 - dense_acc_12: 0.6588 - dense_acc_13: 0.7490 - dense_acc_14: 0.8196 - dense_acc_15: 0.8784 - dense_acc_16: 0.9176 - dense_acc_17: 0.9412 - dense_acc_18: 0.9569 - dense_acc_19: 0.9765 - dense_acc_20: 0.9804 - dense_acc_21: 0.9843 - dense_acc_22: 0.9882 - dense_acc_23: 0.9922 - dense_acc_24: 0.9922 - dense_acc_25: 0.9922 - dense_acc_26: 0.9922 - dense_acc_27: 0.9922 - dense_acc_28: 0.9922 - dense_acc_29: 0.9922 - dense_acc_30: 0.9922 - dense_acc_31: 0.9922 - dense_acc_32: 0.9922 - dense_acc_33: 0.9961 - dense_acc_34: 0.9961 - dense_acc_35: 1.0000 - dense_acc_36: 1.0000 - dense_acc_37: 1.0000 - dense_acc_38: 1.0000 - dense_acc_39: 1.0000 - dense_acc_40: 1.0000 - dense_acc_41: 1.0000 - dense_acc_42: 1.0000 - dense_acc_43: 1.0000 - dense_acc_44: 1.0000 - dense_acc_45: 1.0000\n",
      "Epoch 8/100\n",
      "255/255 [==============================] - 3s 12ms/sample - loss: 63.3625 - dense_loss: 0.0126 - dense_acc: 0.1647 - dense_acc_1: 0.0510 - dense_acc_2: 0.0902 - dense_acc_3: 0.0471 - dense_acc_4: 0.0392 - dense_acc_5: 0.0235 - dense_acc_6: 0.0627 - dense_acc_7: 0.1529 - dense_acc_8: 0.2667 - dense_acc_9: 0.3961 - dense_acc_10: 0.4863 - dense_acc_11: 0.5569 - dense_acc_12: 0.6588 - dense_acc_13: 0.7490 - dense_acc_14: 0.8196 - dense_acc_15: 0.8784 - dense_acc_16: 0.9176 - dense_acc_17: 0.9412 - dense_acc_18: 0.9569 - dense_acc_19: 0.9765 - dense_acc_20: 0.9804 - dense_acc_21: 0.9843 - dense_acc_22: 0.9882 - dense_acc_23: 0.9922 - dense_acc_24: 0.9922 - dense_acc_25: 0.9922 - dense_acc_26: 0.9922 - dense_acc_27: 0.9922 - dense_acc_28: 0.9922 - dense_acc_29: 0.9922 - dense_acc_30: 0.9922 - dense_acc_31: 0.9922 - dense_acc_32: 0.9922 - dense_acc_33: 0.9961 - dense_acc_34: 0.9961 - dense_acc_35: 1.0000 - dense_acc_36: 1.0000 - dense_acc_37: 1.0000 - dense_acc_38: 1.0000 - dense_acc_39: 1.0000 - dense_acc_40: 1.0000 - dense_acc_41: 1.0000 - dense_acc_42: 1.0000 - dense_acc_43: 1.0000 - dense_acc_44: 1.0000 - dense_acc_45: 1.0000\n",
      "Epoch 9/100\n",
      "255/255 [==============================] - 3s 12ms/sample - loss: 61.8341 - dense_loss: 0.0120 - dense_acc: 0.2039 - dense_acc_1: 0.1176 - dense_acc_2: 0.0980 - dense_acc_3: 0.0471 - dense_acc_4: 0.0510 - dense_acc_5: 0.0235 - dense_acc_6: 0.0745 - dense_acc_7: 0.1569 - dense_acc_8: 0.2784 - dense_acc_9: 0.4000 - dense_acc_10: 0.4863 - dense_acc_11: 0.5569 - dense_acc_12: 0.6588 - dense_acc_13: 0.7490 - dense_acc_14: 0.8196 - dense_acc_15: 0.8784 - dense_acc_16: 0.9176 - dense_acc_17: 0.9412 - dense_acc_18: 0.9569 - dense_acc_19: 0.9765 - dense_acc_20: 0.9804 - dense_acc_21: 0.9843 - dense_acc_22: 0.9882 - dense_acc_23: 0.9922 - dense_acc_24: 0.9922 - dense_acc_25: 0.9922 - dense_acc_26: 0.9922 - dense_acc_27: 0.9922 - dense_acc_28: 0.9922 - dense_acc_29: 0.9922 - dense_acc_30: 0.9922 - dense_acc_31: 0.9922 - dense_acc_32: 0.9922 - dense_acc_33: 0.9961 - dense_acc_34: 0.9961 - dense_acc_35: 1.0000 - dense_acc_36: 1.0000 - dense_acc_37: 1.0000 - dense_acc_38: 1.0000 - dense_acc_39: 1.0000 - dense_acc_40: 1.0000 - dense_acc_41: 1.0000 - dense_acc_42: 1.0000 - dense_acc_43: 1.0000 - dense_acc_44: 1.0000 - dense_acc_45: 1.0000\n",
      "Epoch 10/100\n",
      "255/255 [==============================] - 3s 12ms/sample - loss: 61.1103 - dense_loss: 0.0102 - dense_acc: 0.1961 - dense_acc_1: 0.0667 - dense_acc_2: 0.0980 - dense_acc_3: 0.0471 - dense_acc_4: 0.0667 - dense_acc_5: 0.0235 - dense_acc_6: 0.0745 - dense_acc_7: 0.1529 - dense_acc_8: 0.2667 - dense_acc_9: 0.3961 - dense_acc_10: 0.4863 - dense_acc_11: 0.5569 - dense_acc_12: 0.6588 - dense_acc_13: 0.7490 - dense_acc_14: 0.8196 - dense_acc_15: 0.8784 - dense_acc_16: 0.9176 - dense_acc_17: 0.9412 - dense_acc_18: 0.9569 - dense_acc_19: 0.9765 - dense_acc_20: 0.9804 - dense_acc_21: 0.9843 - dense_acc_22: 0.9882 - dense_acc_23: 0.9922 - dense_acc_24: 0.9922 - dense_acc_25: 0.9922 - dense_acc_26: 0.9922 - dense_acc_27: 0.9922 - dense_acc_28: 0.9922 - dense_acc_29: 0.9922 - dense_acc_30: 0.9922 - dense_acc_31: 0.9922 - dense_acc_32: 0.9922 - dense_acc_33: 0.9961 - dense_acc_34: 0.9961 - dense_acc_35: 1.0000 - dense_acc_36: 1.0000 - dense_acc_37: 1.0000 - dense_acc_38: 1.0000 - dense_acc_39: 1.0000 - dense_acc_40: 1.0000 - dense_acc_41: 1.0000 - dense_acc_42: 1.0000 - dense_acc_43: 1.0000 - dense_acc_44: 1.0000 - dense_acc_45: 1.0000\n",
      "Epoch 11/100\n",
      "255/255 [==============================] - 3s 12ms/sample - loss: 59.9674 - dense_loss: 0.0085 - dense_acc: 0.1922 - dense_acc_1: 0.1176 - dense_acc_2: 0.0980 - dense_acc_3: 0.0510 - dense_acc_4: 0.0549 - dense_acc_5: 0.0314 - dense_acc_6: 0.0706 - dense_acc_7: 0.1686 - dense_acc_8: 0.2667 - dense_acc_9: 0.4039 - dense_acc_10: 0.4863 - dense_acc_11: 0.5569 - dense_acc_12: 0.6588 - dense_acc_13: 0.7490 - dense_acc_14: 0.8196 - dense_acc_15: 0.8784 - dense_acc_16: 0.9176 - dense_acc_17: 0.9412 - dense_acc_18: 0.9569 - dense_acc_19: 0.9765 - dense_acc_20: 0.9804 - dense_acc_21: 0.9843 - dense_acc_22: 0.9882 - dense_acc_23: 0.9922 - dense_acc_24: 0.9922 - dense_acc_25: 0.9922 - dense_acc_26: 0.9922 - dense_acc_27: 0.9922 - dense_acc_28: 0.9922 - dense_acc_29: 0.9922 - dense_acc_30: 0.9922 - dense_acc_31: 0.9922 - dense_acc_32: 0.9922 - dense_acc_33: 0.9961 - dense_acc_34: 0.9961 - dense_acc_35: 1.0000 - dense_acc_36: 1.0000 - dense_acc_37: 1.0000 - dense_acc_38: 1.0000 - dense_acc_39: 1.0000 - dense_acc_40: 1.0000 - dense_acc_41: 1.0000 - dense_acc_42: 1.0000 - dense_acc_43: 1.0000 - dense_acc_44: 1.0000 - dense_acc_45: 1.0000\n",
      "Epoch 12/100\n",
      "255/255 [==============================] - 3s 12ms/sample - loss: 58.9631 - dense_loss: 0.0071 - dense_acc: 0.2000 - dense_acc_1: 0.1255 - dense_acc_2: 0.1059 - dense_acc_3: 0.0549 - dense_acc_4: 0.0510 - dense_acc_5: 0.0471 - dense_acc_6: 0.0706 - dense_acc_7: 0.1569 - dense_acc_8: 0.2667 - dense_acc_9: 0.3961 - dense_acc_10: 0.4863 - dense_acc_11: 0.5569 - dense_acc_12: 0.6588 - dense_acc_13: 0.7490 - dense_acc_14: 0.8196 - dense_acc_15: 0.8784 - dense_acc_16: 0.9176 - dense_acc_17: 0.9412 - dense_acc_18: 0.9569 - dense_acc_19: 0.9765 - dense_acc_20: 0.9804 - dense_acc_21: 0.9843 - dense_acc_22: 0.9882 - dense_acc_23: 0.9922 - dense_acc_24: 0.9922 - dense_acc_25: 0.9922 - dense_acc_26: 0.9922 - dense_acc_27: 0.9922 - dense_acc_28: 0.9922 - dense_acc_29: 0.9922 - dense_acc_30: 0.9922 - dense_acc_31: 0.9922 - dense_acc_32: 0.9922 - dense_acc_33: 0.9961 - dense_acc_34: 0.9961 - dense_acc_35: 1.0000 - dense_acc_36: 1.0000 - dense_acc_37: 1.0000 - dense_acc_38: 1.0000 - dense_acc_39: 1.0000 - dense_acc_40: 1.0000 - dense_acc_41: 1.0000 - dense_acc_42: 1.0000 - dense_acc_43: 1.0000 - dense_acc_44: 1.0000 - dense_acc_45: 1.0000\n",
      "Epoch 13/100\n",
      "255/255 [==============================] - 3s 12ms/sample - loss: 58.2055 - dense_loss: 0.0062 - dense_acc: 0.2078 - dense_acc_1: 0.1333 - dense_acc_2: 0.1059 - dense_acc_3: 0.0510 - dense_acc_4: 0.0588 - dense_acc_5: 0.0549 - dense_acc_6: 0.1020 - dense_acc_7: 0.1569 - dense_acc_8: 0.2706 - dense_acc_9: 0.3961 - dense_acc_10: 0.4863 - dense_acc_11: 0.5569 - dense_acc_12: 0.6588 - dense_acc_13: 0.7490 - dense_acc_14: 0.8196 - dense_acc_15: 0.8784 - dense_acc_16: 0.9176 - dense_acc_17: 0.9412 - dense_acc_18: 0.9569 - dense_acc_19: 0.9765 - dense_acc_20: 0.9804 - dense_acc_21: 0.9843 - dense_acc_22: 0.9882 - dense_acc_23: 0.9922 - dense_acc_24: 0.9922 - dense_acc_25: 0.9922 - dense_acc_26: 0.9922 - dense_acc_27: 0.9922 - dense_acc_28: 0.9922 - dense_acc_29: 0.9922 - dense_acc_30: 0.9922 - dense_acc_31: 0.9922 - dense_acc_32: 0.9922 - dense_acc_33: 0.9961 - dense_acc_34: 0.9961 - dense_acc_35: 1.0000 - dense_acc_36: 1.0000 - dense_acc_37: 1.0000 - dense_acc_38: 1.0000 - dense_acc_39: 1.0000 - dense_acc_40: 1.0000 - dense_acc_41: 1.0000 - dense_acc_42: 1.0000 - dense_acc_43: 1.0000 - dense_acc_44: 1.0000 - dense_acc_45: 1.0000\n",
      "Epoch 14/100\n",
      "255/255 [==============================] - 3s 12ms/sample - loss: 57.6969 - dense_loss: 0.0056 - dense_acc: 0.2039 - dense_acc_1: 0.1373 - dense_acc_2: 0.1098 - dense_acc_3: 0.0431 - dense_acc_4: 0.0510 - dense_acc_5: 0.0510 - dense_acc_6: 0.1059 - dense_acc_7: 0.1922 - dense_acc_8: 0.2824 - dense_acc_9: 0.4000 - dense_acc_10: 0.4863 - dense_acc_11: 0.5569 - dense_acc_12: 0.6588 - dense_acc_13: 0.7490 - dense_acc_14: 0.8196 - dense_acc_15: 0.8784 - dense_acc_16: 0.9176 - dense_acc_17: 0.9412 - dense_acc_18: 0.9569 - dense_acc_19: 0.9765 - dense_acc_20: 0.9804 - dense_acc_21: 0.9843 - dense_acc_22: 0.9882 - dense_acc_23: 0.9922 - dense_acc_24: 0.9922 - dense_acc_25: 0.9922 - dense_acc_26: 0.9922 - dense_acc_27: 0.9922 - dense_acc_28: 0.9922 - dense_acc_29: 0.9922 - dense_acc_30: 0.9922 - dense_acc_31: 0.9922 - dense_acc_32: 0.9922 - dense_acc_33: 0.9961 - dense_acc_34: 0.9961 - dense_acc_35: 1.0000 - dense_acc_36: 1.0000 - dense_acc_37: 1.0000 - dense_acc_38: 1.0000 - dense_acc_39: 1.0000 - dense_acc_40: 1.0000 - dense_acc_41: 1.0000 - dense_acc_42: 1.0000 - dense_acc_43: 1.0000 - dense_acc_44: 1.0000 - dense_acc_45: 1.0000\n",
      "Epoch 15/100\n",
      "255/255 [==============================] - 3s 12ms/sample - loss: 56.9359 - dense_loss: 0.0048 - dense_acc: 0.2000 - dense_acc_1: 0.1412 - dense_acc_2: 0.1059 - dense_acc_3: 0.0510 - dense_acc_4: 0.0667 - dense_acc_5: 0.0392 - dense_acc_6: 0.0941 - dense_acc_7: 0.1725 - dense_acc_8: 0.2784 - dense_acc_9: 0.3961 - dense_acc_10: 0.4863 - dense_acc_11: 0.5569 - dense_acc_12: 0.6588 - dense_acc_13: 0.7490 - dense_acc_14: 0.8196 - dense_acc_15: 0.8784 - dense_acc_16: 0.9176 - dense_acc_17: 0.9412 - dense_acc_18: 0.9569 - dense_acc_19: 0.9765 - dense_acc_20: 0.9804 - dense_acc_21: 0.9843 - dense_acc_22: 0.9882 - dense_acc_23: 0.9922 - dense_acc_24: 0.9922 - dense_acc_25: 0.9922 - dense_acc_26: 0.9922 - dense_acc_27: 0.9922 - dense_acc_28: 0.9922 - dense_acc_29: 0.9922 - dense_acc_30: 0.9922 - dense_acc_31: 0.9922 - dense_acc_32: 0.9922 - dense_acc_33: 0.9961 - dense_acc_34: 0.9961 - dense_acc_35: 1.0000 - dense_acc_36: 1.0000 - dense_acc_37: 1.0000 - dense_acc_38: 1.0000 - dense_acc_39: 1.0000 - dense_acc_40: 1.0000 - dense_acc_41: 1.0000 - dense_acc_42: 1.0000 - dense_acc_43: 1.0000 - dense_acc_44: 1.0000 - dense_acc_45: 1.0000\n",
      "Epoch 16/100\n",
      "255/255 [==============================] - 3s 12ms/sample - loss: 56.1708 - dense_loss: 0.0046 - dense_acc: 0.2196 - dense_acc_1: 0.1490 - dense_acc_2: 0.1098 - dense_acc_3: 0.0588 - dense_acc_4: 0.0588 - dense_acc_5: 0.0510 - dense_acc_6: 0.1294 - dense_acc_7: 0.1882 - dense_acc_8: 0.2941 - dense_acc_9: 0.4118 - dense_acc_10: 0.4863 - dense_acc_11: 0.5569 - dense_acc_12: 0.6588 - dense_acc_13: 0.7490 - dense_acc_14: 0.8196 - dense_acc_15: 0.8784 - dense_acc_16: 0.9176 - dense_acc_17: 0.9412 - dense_acc_18: 0.9569 - dense_acc_19: 0.9765 - dense_acc_20: 0.9804 - dense_acc_21: 0.9843 - dense_acc_22: 0.9882 - dense_acc_23: 0.9922 - dense_acc_24: 0.9922 - dense_acc_25: 0.9922 - dense_acc_26: 0.9922 - dense_acc_27: 0.9922 - dense_acc_28: 0.9922 - dense_acc_29: 0.9922 - dense_acc_30: 0.9922 - dense_acc_31: 0.9922 - dense_acc_32: 0.9922 - dense_acc_33: 0.9961 - dense_acc_34: 0.9961 - dense_acc_35: 1.0000 - dense_acc_36: 1.0000 - dense_acc_37: 1.0000 - dense_acc_38: 1.0000 - dense_acc_39: 1.0000 - dense_acc_40: 1.0000 - dense_acc_41: 1.0000 - dense_acc_42: 1.0000 - dense_acc_43: 1.0000 - dense_acc_44: 1.0000 - dense_acc_45: 1.0000\n",
      "Epoch 17/100\n",
      "255/255 [==============================] - 3s 12ms/sample - loss: 55.7463 - dense_loss: 0.0046 - dense_acc: 0.2196 - dense_acc_1: 0.1373 - dense_acc_2: 0.1098 - dense_acc_3: 0.0549 - dense_acc_4: 0.0784 - dense_acc_5: 0.0667 - dense_acc_6: 0.1333 - dense_acc_7: 0.1961 - dense_acc_8: 0.3020 - dense_acc_9: 0.4118 - dense_acc_10: 0.4863 - dense_acc_11: 0.5608 - dense_acc_12: 0.6588 - dense_acc_13: 0.7490 - dense_acc_14: 0.8196 - dense_acc_15: 0.8784 - dense_acc_16: 0.9176 - dense_acc_17: 0.9412 - dense_acc_18: 0.9569 - dense_acc_19: 0.9765 - dense_acc_20: 0.9804 - dense_acc_21: 0.9843 - dense_acc_22: 0.9882 - dense_acc_23: 0.9922 - dense_acc_24: 0.9922 - dense_acc_25: 0.9922 - dense_acc_26: 0.9922 - dense_acc_27: 0.9922 - dense_acc_28: 0.9922 - dense_acc_29: 0.9922 - dense_acc_30: 0.9922 - dense_acc_31: 0.9922 - dense_acc_32: 0.9922 - dense_acc_33: 0.9961 - dense_acc_34: 0.9961 - dense_acc_35: 1.0000 - dense_acc_36: 1.0000 - dense_acc_37: 1.0000 - dense_acc_38: 1.0000 - dense_acc_39: 1.0000 - dense_acc_40: 1.0000 - dense_acc_41: 1.0000 - dense_acc_42: 1.0000 - dense_acc_43: 1.0000 - dense_acc_44: 1.0000 - dense_acc_45: 1.0000\n",
      "Epoch 18/100\n",
      "255/255 [==============================] - 3s 12ms/sample - loss: 55.3607 - dense_loss: 0.0042 - dense_acc: 0.2078 - dense_acc_1: 0.1529 - dense_acc_2: 0.1176 - dense_acc_3: 0.0549 - dense_acc_4: 0.0706 - dense_acc_5: 0.0588 - dense_acc_6: 0.1373 - dense_acc_7: 0.2078 - dense_acc_8: 0.3176 - dense_acc_9: 0.4353 - dense_acc_10: 0.5059 - dense_acc_11: 0.5765 - dense_acc_12: 0.6627 - dense_acc_13: 0.7490 - dense_acc_14: 0.8235 - dense_acc_15: 0.8784 - dense_acc_16: 0.9176 - dense_acc_17: 0.9412 - dense_acc_18: 0.9569 - dense_acc_19: 0.9765 - dense_acc_20: 0.9804 - dense_acc_21: 0.9843 - dense_acc_22: 0.9882 - dense_acc_23: 0.9922 - dense_acc_24: 0.9922 - dense_acc_25: 0.9922 - dense_acc_26: 0.9922 - dense_acc_27: 0.9922 - dense_acc_28: 0.9922 - dense_acc_29: 0.9922 - dense_acc_30: 0.9922 - dense_acc_31: 0.9922 - dense_acc_32: 0.9922 - dense_acc_33: 0.9961 - dense_acc_34: 0.9961 - dense_acc_35: 1.0000 - dense_acc_36: 1.0000 - dense_acc_37: 1.0000 - dense_acc_38: 1.0000 - dense_acc_39: 1.0000 - dense_acc_40: 1.0000 - dense_acc_41: 1.0000 - dense_acc_42: 1.0000 - dense_acc_43: 1.0000 - dense_acc_44: 1.0000 - dense_acc_45: 1.0000\n",
      "Epoch 19/100\n",
      "255/255 [==============================] - 3s 12ms/sample - loss: 54.6429 - dense_loss: 0.0035 - dense_acc: 0.2275 - dense_acc_1: 0.1647 - dense_acc_2: 0.1176 - dense_acc_3: 0.0627 - dense_acc_4: 0.0667 - dense_acc_5: 0.0667 - dense_acc_6: 0.1608 - dense_acc_7: 0.2235 - dense_acc_8: 0.3137 - dense_acc_9: 0.4235 - dense_acc_10: 0.4902 - dense_acc_11: 0.5569 - dense_acc_12: 0.6588 - dense_acc_13: 0.7490 - dense_acc_14: 0.8196 - dense_acc_15: 0.8784 - dense_acc_16: 0.9176 - dense_acc_17: 0.9412 - dense_acc_18: 0.9569 - dense_acc_19: 0.9765 - dense_acc_20: 0.9804 - dense_acc_21: 0.9843 - dense_acc_22: 0.9882 - dense_acc_23: 0.9922 - dense_acc_24: 0.9922 - dense_acc_25: 0.9922 - dense_acc_26: 0.9922 - dense_acc_27: 0.9922 - dense_acc_28: 0.9922 - dense_acc_29: 0.9922 - dense_acc_30: 0.9922 - dense_acc_31: 0.9922 - dense_acc_32: 0.9922 - dense_acc_33: 0.9961 - dense_acc_34: 0.9961 - dense_acc_35: 1.0000 - dense_acc_36: 1.0000 - dense_acc_37: 1.0000 - dense_acc_38: 1.0000 - dense_acc_39: 1.0000 - dense_acc_40: 1.0000 - dense_acc_41: 1.0000 - dense_acc_42: 1.0000 - dense_acc_43: 1.0000 - dense_acc_44: 1.0000 - dense_acc_45: 1.0000\n",
      "Epoch 20/100\n",
      "255/255 [==============================] - 3s 12ms/sample - loss: 54.0314 - dense_loss: 0.0033 - dense_acc: 0.2235 - dense_acc_1: 0.1451 - dense_acc_2: 0.1098 - dense_acc_3: 0.0588 - dense_acc_4: 0.0667 - dense_acc_5: 0.0588 - dense_acc_6: 0.1490 - dense_acc_7: 0.2235 - dense_acc_8: 0.3216 - dense_acc_9: 0.4275 - dense_acc_10: 0.4941 - dense_acc_11: 0.5647 - dense_acc_12: 0.6588 - dense_acc_13: 0.7490 - dense_acc_14: 0.8196 - dense_acc_15: 0.8784 - dense_acc_16: 0.9176 - dense_acc_17: 0.9412 - dense_acc_18: 0.9569 - dense_acc_19: 0.9765 - dense_acc_20: 0.9804 - dense_acc_21: 0.9843 - dense_acc_22: 0.9882 - dense_acc_23: 0.9922 - dense_acc_24: 0.9922 - dense_acc_25: 0.9922 - dense_acc_26: 0.9922 - dense_acc_27: 0.9922 - dense_acc_28: 0.9922 - dense_acc_29: 0.9922 - dense_acc_30: 0.9922 - dense_acc_31: 0.9922 - dense_acc_32: 0.9922 - dense_acc_33: 0.9961 - dense_acc_34: 0.9961 - dense_acc_35: 1.0000 - dense_acc_36: 1.0000 - dense_acc_37: 1.0000 - dense_acc_38: 1.0000 - dense_acc_39: 1.0000 - dense_acc_40: 1.0000 - dense_acc_41: 1.0000 - dense_acc_42: 1.0000 - dense_acc_43: 1.0000 - dense_acc_44: 1.0000 - dense_acc_45: 1.0000\n",
      "Epoch 21/100\n",
      "255/255 [==============================] - 3s 12ms/sample - loss: 53.7154 - dense_loss: 0.0032 - dense_acc: 0.2314 - dense_acc_1: 0.1569 - dense_acc_2: 0.1137 - dense_acc_3: 0.0627 - dense_acc_4: 0.0941 - dense_acc_5: 0.0706 - dense_acc_6: 0.1451 - dense_acc_7: 0.2275 - dense_acc_8: 0.3412 - dense_acc_9: 0.4392 - dense_acc_10: 0.5137 - dense_acc_11: 0.5804 - dense_acc_12: 0.6667 - dense_acc_13: 0.7569 - dense_acc_14: 0.8196 - dense_acc_15: 0.8784 - dense_acc_16: 0.9176 - dense_acc_17: 0.9412 - dense_acc_18: 0.9569 - dense_acc_19: 0.9765 - dense_acc_20: 0.9804 - dense_acc_21: 0.9843 - dense_acc_22: 0.9882 - dense_acc_23: 0.9922 - dense_acc_24: 0.9922 - dense_acc_25: 0.9922 - dense_acc_26: 0.9922 - dense_acc_27: 0.9922 - dense_acc_28: 0.9922 - dense_acc_29: 0.9922 - dense_acc_30: 0.9922 - dense_acc_31: 0.9922 - dense_acc_32: 0.9922 - dense_acc_33: 0.9961 - dense_acc_34: 0.9961 - dense_acc_35: 1.0000 - dense_acc_36: 1.0000 - dense_acc_37: 1.0000 - dense_acc_38: 1.0000 - dense_acc_39: 1.0000 - dense_acc_40: 1.0000 - dense_acc_41: 1.0000 - dense_acc_42: 1.0000 - dense_acc_43: 1.0000 - dense_acc_44: 1.0000 - dense_acc_45: 1.0000\n",
      "Epoch 22/100\n",
      "255/255 [==============================] - 3s 12ms/sample - loss: 53.8028 - dense_loss: 0.0028 - dense_acc: 0.2157 - dense_acc_1: 0.1804 - dense_acc_2: 0.1176 - dense_acc_3: 0.0588 - dense_acc_4: 0.0588 - dense_acc_5: 0.0706 - dense_acc_6: 0.1373 - dense_acc_7: 0.1922 - dense_acc_8: 0.3137 - dense_acc_9: 0.4275 - dense_acc_10: 0.5020 - dense_acc_11: 0.5765 - dense_acc_12: 0.6588 - dense_acc_13: 0.7569 - dense_acc_14: 0.8235 - dense_acc_15: 0.8784 - dense_acc_16: 0.9176 - dense_acc_17: 0.9412 - dense_acc_18: 0.9569 - dense_acc_19: 0.9765 - dense_acc_20: 0.9804 - dense_acc_21: 0.9843 - dense_acc_22: 0.9882 - dense_acc_23: 0.9922 - dense_acc_24: 0.9922 - dense_acc_25: 0.9922 - dense_acc_26: 0.9922 - dense_acc_27: 0.9922 - dense_acc_28: 0.9922 - dense_acc_29: 0.9922 - dense_acc_30: 0.9922 - dense_acc_31: 0.9922 - dense_acc_32: 0.9922 - dense_acc_33: 0.9961 - dense_acc_34: 0.9961 - dense_acc_35: 1.0000 - dense_acc_36: 1.0000 - dense_acc_37: 1.0000 - dense_acc_38: 1.0000 - dense_acc_39: 1.0000 - dense_acc_40: 1.0000 - dense_acc_41: 1.0000 - dense_acc_42: 1.0000 - dense_acc_43: 1.0000 - dense_acc_44: 1.0000 - dense_acc_45: 1.0000\n",
      "Epoch 23/100\n",
      "255/255 [==============================] - 3s 12ms/sample - loss: 53.3150 - dense_loss: 0.0024 - dense_acc: 0.2235 - dense_acc_1: 0.1569 - dense_acc_2: 0.1137 - dense_acc_3: 0.0667 - dense_acc_4: 0.0588 - dense_acc_5: 0.0627 - dense_acc_6: 0.1333 - dense_acc_7: 0.2314 - dense_acc_8: 0.3255 - dense_acc_9: 0.4392 - dense_acc_10: 0.5059 - dense_acc_11: 0.5765 - dense_acc_12: 0.6667 - dense_acc_13: 0.7608 - dense_acc_14: 0.8235 - dense_acc_15: 0.8784 - dense_acc_16: 0.9176 - dense_acc_17: 0.9412 - dense_acc_18: 0.9569 - dense_acc_19: 0.9765 - dense_acc_20: 0.9804 - dense_acc_21: 0.9843 - dense_acc_22: 0.9882 - dense_acc_23: 0.9922 - dense_acc_24: 0.9922 - dense_acc_25: 0.9922 - dense_acc_26: 0.9922 - dense_acc_27: 0.9922 - dense_acc_28: 0.9922 - dense_acc_29: 0.9922 - dense_acc_30: 0.9922 - dense_acc_31: 0.9922 - dense_acc_32: 0.9922 - dense_acc_33: 0.9961 - dense_acc_34: 0.9961 - dense_acc_35: 1.0000 - dense_acc_36: 1.0000 - dense_acc_37: 1.0000 - dense_acc_38: 1.0000 - dense_acc_39: 1.0000 - dense_acc_40: 1.0000 - dense_acc_41: 1.0000 - dense_acc_42: 1.0000 - dense_acc_43: 1.0000 - dense_acc_44: 1.0000 - dense_acc_45: 1.0000\n",
      "Epoch 24/100\n",
      "255/255 [==============================] - 3s 12ms/sample - loss: 52.7457 - dense_loss: 0.0022 - dense_acc: 0.2431 - dense_acc_1: 0.1529 - dense_acc_2: 0.1137 - dense_acc_3: 0.0588 - dense_acc_4: 0.0824 - dense_acc_5: 0.0549 - dense_acc_6: 0.1647 - dense_acc_7: 0.2353 - dense_acc_8: 0.3255 - dense_acc_9: 0.4392 - dense_acc_10: 0.5020 - dense_acc_11: 0.5804 - dense_acc_12: 0.6706 - dense_acc_13: 0.7608 - dense_acc_14: 0.8235 - dense_acc_15: 0.8784 - dense_acc_16: 0.9176 - dense_acc_17: 0.9412 - dense_acc_18: 0.9569 - dense_acc_19: 0.9765 - dense_acc_20: 0.9804 - dense_acc_21: 0.9843 - dense_acc_22: 0.9882 - dense_acc_23: 0.9922 - dense_acc_24: 0.9922 - dense_acc_25: 0.9922 - dense_acc_26: 0.9922 - dense_acc_27: 0.9922 - dense_acc_28: 0.9922 - dense_acc_29: 0.9922 - dense_acc_30: 0.9922 - dense_acc_31: 0.9922 - dense_acc_32: 0.9922 - dense_acc_33: 0.9961 - dense_acc_34: 0.9961 - dense_acc_35: 1.0000 - dense_acc_36: 1.0000 - dense_acc_37: 1.0000 - dense_acc_38: 1.0000 - dense_acc_39: 1.0000 - dense_acc_40: 1.0000 - dense_acc_41: 1.0000 - dense_acc_42: 1.0000 - dense_acc_43: 1.0000 - dense_acc_44: 1.0000 - dense_acc_45: 1.0000\n",
      "Epoch 25/100\n",
      "255/255 [==============================] - 3s 12ms/sample - loss: 52.2864 - dense_loss: 0.0022 - dense_acc: 0.2118 - dense_acc_1: 0.1725 - dense_acc_2: 0.1176 - dense_acc_3: 0.0667 - dense_acc_4: 0.0902 - dense_acc_5: 0.0549 - dense_acc_6: 0.1569 - dense_acc_7: 0.2431 - dense_acc_8: 0.3451 - dense_acc_9: 0.4392 - dense_acc_10: 0.5059 - dense_acc_11: 0.5843 - dense_acc_12: 0.6706 - dense_acc_13: 0.7608 - dense_acc_14: 0.8196 - dense_acc_15: 0.8784 - dense_acc_16: 0.9176 - dense_acc_17: 0.9412 - dense_acc_18: 0.9569 - dense_acc_19: 0.9765 - dense_acc_20: 0.9804 - dense_acc_21: 0.9843 - dense_acc_22: 0.9882 - dense_acc_23: 0.9922 - dense_acc_24: 0.9922 - dense_acc_25: 0.9922 - dense_acc_26: 0.9922 - dense_acc_27: 0.9922 - dense_acc_28: 0.9922 - dense_acc_29: 0.9922 - dense_acc_30: 0.9922 - dense_acc_31: 0.9922 - dense_acc_32: 0.9922 - dense_acc_33: 0.9961 - dense_acc_34: 0.9961 - dense_acc_35: 1.0000 - dense_acc_36: 1.0000 - dense_acc_37: 1.0000 - dense_acc_38: 1.0000 - dense_acc_39: 1.0000 - dense_acc_40: 1.0000 - dense_acc_41: 1.0000 - dense_acc_42: 1.0000 - dense_acc_43: 1.0000 - dense_acc_44: 1.0000 - dense_acc_45: 1.0000\n",
      "Epoch 26/100\n",
      "255/255 [==============================] - 3s 12ms/sample - loss: 51.8027 - dense_loss: 0.0023 - dense_acc: 0.2471 - dense_acc_1: 0.1647 - dense_acc_2: 0.1216 - dense_acc_3: 0.0706 - dense_acc_4: 0.0824 - dense_acc_5: 0.0667 - dense_acc_6: 0.1490 - dense_acc_7: 0.2588 - dense_acc_8: 0.3608 - dense_acc_9: 0.4510 - dense_acc_10: 0.5255 - dense_acc_11: 0.5882 - dense_acc_12: 0.6745 - dense_acc_13: 0.7569 - dense_acc_14: 0.8235 - dense_acc_15: 0.8824 - dense_acc_16: 0.9176 - dense_acc_17: 0.9412 - dense_acc_18: 0.9608 - dense_acc_19: 0.9765 - dense_acc_20: 0.9804 - dense_acc_21: 0.9843 - dense_acc_22: 0.9882 - dense_acc_23: 0.9922 - dense_acc_24: 0.9922 - dense_acc_25: 0.9922 - dense_acc_26: 0.9922 - dense_acc_27: 0.9922 - dense_acc_28: 0.9922 - dense_acc_29: 0.9922 - dense_acc_30: 0.9922 - dense_acc_31: 0.9922 - dense_acc_32: 0.9922 - dense_acc_33: 0.9961 - dense_acc_34: 0.9961 - dense_acc_35: 1.0000 - dense_acc_36: 1.0000 - dense_acc_37: 1.0000 - dense_acc_38: 1.0000 - dense_acc_39: 1.0000 - dense_acc_40: 1.0000 - dense_acc_41: 1.0000 - dense_acc_42: 1.0000 - dense_acc_43: 1.0000 - dense_acc_44: 1.0000 - dense_acc_45: 1.0000\n",
      "Epoch 27/100\n",
      "255/255 [==============================] - 3s 12ms/sample - loss: 51.4165 - dense_loss: 0.0022 - dense_acc: 0.2235 - dense_acc_1: 0.1529 - dense_acc_2: 0.1176 - dense_acc_3: 0.0667 - dense_acc_4: 0.0706 - dense_acc_5: 0.0745 - dense_acc_6: 0.1961 - dense_acc_7: 0.2353 - dense_acc_8: 0.3490 - dense_acc_9: 0.4471 - dense_acc_10: 0.5137 - dense_acc_11: 0.5843 - dense_acc_12: 0.6706 - dense_acc_13: 0.7569 - dense_acc_14: 0.8235 - dense_acc_15: 0.8824 - dense_acc_16: 0.9176 - dense_acc_17: 0.9412 - dense_acc_18: 0.9569 - dense_acc_19: 0.9765 - dense_acc_20: 0.9804 - dense_acc_21: 0.9843 - dense_acc_22: 0.9882 - dense_acc_23: 0.9922 - dense_acc_24: 0.9922 - dense_acc_25: 0.9922 - dense_acc_26: 0.9922 - dense_acc_27: 0.9922 - dense_acc_28: 0.9922 - dense_acc_29: 0.9922 - dense_acc_30: 0.9922 - dense_acc_31: 0.9922 - dense_acc_32: 0.9922 - dense_acc_33: 0.9961 - dense_acc_34: 0.9961 - dense_acc_35: 1.0000 - dense_acc_36: 1.0000 - dense_acc_37: 1.0000 - dense_acc_38: 1.0000 - dense_acc_39: 1.0000 - dense_acc_40: 1.0000 - dense_acc_41: 1.0000 - dense_acc_42: 1.0000 - dense_acc_43: 1.0000 - dense_acc_44: 1.0000 - dense_acc_45: 1.0000\n",
      "Epoch 28/100\n",
      "255/255 [==============================] - 3s 12ms/sample - loss: 50.9520 - dense_loss: 0.0022 - dense_acc: 0.2353 - dense_acc_1: 0.1725 - dense_acc_2: 0.1176 - dense_acc_3: 0.0627 - dense_acc_4: 0.0941 - dense_acc_5: 0.0784 - dense_acc_6: 0.1490 - dense_acc_7: 0.2588 - dense_acc_8: 0.3647 - dense_acc_9: 0.4588 - dense_acc_10: 0.5294 - dense_acc_11: 0.5922 - dense_acc_12: 0.6824 - dense_acc_13: 0.7647 - dense_acc_14: 0.8235 - dense_acc_15: 0.8863 - dense_acc_16: 0.9176 - dense_acc_17: 0.9451 - dense_acc_18: 0.9569 - dense_acc_19: 0.9765 - dense_acc_20: 0.9804 - dense_acc_21: 0.9882 - dense_acc_22: 0.9882 - dense_acc_23: 0.9922 - dense_acc_24: 0.9922 - dense_acc_25: 0.9922 - dense_acc_26: 0.9922 - dense_acc_27: 0.9922 - dense_acc_28: 0.9922 - dense_acc_29: 0.9922 - dense_acc_30: 0.9922 - dense_acc_31: 0.9922 - dense_acc_32: 0.9922 - dense_acc_33: 0.9961 - dense_acc_34: 0.9961 - dense_acc_35: 1.0000 - dense_acc_36: 1.0000 - dense_acc_37: 1.0000 - dense_acc_38: 1.0000 - dense_acc_39: 1.0000 - dense_acc_40: 1.0000 - dense_acc_41: 1.0000 - dense_acc_42: 1.0000 - dense_acc_43: 1.0000 - dense_acc_44: 1.0000 - dense_acc_45: 1.0000\n",
      "Epoch 29/100\n",
      "255/255 [==============================] - 3s 12ms/sample - loss: 50.6726 - dense_loss: 0.0021 - dense_acc: 0.2549 - dense_acc_1: 0.2000 - dense_acc_2: 0.1098 - dense_acc_3: 0.0706 - dense_acc_4: 0.0706 - dense_acc_5: 0.0863 - dense_acc_6: 0.1608 - dense_acc_7: 0.2667 - dense_acc_8: 0.3569 - dense_acc_9: 0.4667 - dense_acc_10: 0.5216 - dense_acc_11: 0.5961 - dense_acc_12: 0.6863 - dense_acc_13: 0.7608 - dense_acc_14: 0.8275 - dense_acc_15: 0.8863 - dense_acc_16: 0.9176 - dense_acc_17: 0.9412 - dense_acc_18: 0.9569 - dense_acc_19: 0.9765 - dense_acc_20: 0.9804 - dense_acc_21: 0.9882 - dense_acc_22: 0.9882 - dense_acc_23: 0.9922 - dense_acc_24: 0.9922 - dense_acc_25: 0.9922 - dense_acc_26: 0.9922 - dense_acc_27: 0.9922 - dense_acc_28: 0.9922 - dense_acc_29: 0.9922 - dense_acc_30: 0.9922 - dense_acc_31: 0.9922 - dense_acc_32: 0.9922 - dense_acc_33: 0.9961 - dense_acc_34: 0.9961 - dense_acc_35: 1.0000 - dense_acc_36: 1.0000 - dense_acc_37: 1.0000 - dense_acc_38: 1.0000 - dense_acc_39: 1.0000 - dense_acc_40: 1.0000 - dense_acc_41: 1.0000 - dense_acc_42: 1.0000 - dense_acc_43: 1.0000 - dense_acc_44: 1.0000 - dense_acc_45: 1.0000\n",
      "Epoch 30/100\n",
      "255/255 [==============================] - 3s 12ms/sample - loss: 50.3536 - dense_loss: 0.0021 - dense_acc: 0.2627 - dense_acc_1: 0.1569 - dense_acc_2: 0.1098 - dense_acc_3: 0.0706 - dense_acc_4: 0.0863 - dense_acc_5: 0.0745 - dense_acc_6: 0.1961 - dense_acc_7: 0.2627 - dense_acc_8: 0.3686 - dense_acc_9: 0.4627 - dense_acc_10: 0.5216 - dense_acc_11: 0.5922 - dense_acc_12: 0.6784 - dense_acc_13: 0.7686 - dense_acc_14: 0.8353 - dense_acc_15: 0.8941 - dense_acc_16: 0.9176 - dense_acc_17: 0.9451 - dense_acc_18: 0.9569 - dense_acc_19: 0.9765 - dense_acc_20: 0.9804 - dense_acc_21: 0.9882 - dense_acc_22: 0.9882 - dense_acc_23: 0.9922 - dense_acc_24: 0.9922 - dense_acc_25: 0.9922 - dense_acc_26: 0.9922 - dense_acc_27: 0.9922 - dense_acc_28: 0.9922 - dense_acc_29: 0.9922 - dense_acc_30: 0.9922 - dense_acc_31: 0.9922 - dense_acc_32: 0.9922 - dense_acc_33: 0.9961 - dense_acc_34: 0.9961 - dense_acc_35: 1.0000 - dense_acc_36: 1.0000 - dense_acc_37: 1.0000 - dense_acc_38: 1.0000 - dense_acc_39: 1.0000 - dense_acc_40: 1.0000 - dense_acc_41: 1.0000 - dense_acc_42: 1.0000 - dense_acc_43: 1.0000 - dense_acc_44: 1.0000 - dense_acc_45: 1.0000\n",
      "Epoch 31/100\n",
      "255/255 [==============================] - 3s 12ms/sample - loss: 50.1806 - dense_loss: 0.0020 - dense_acc: 0.2588 - dense_acc_1: 0.1686 - dense_acc_2: 0.1216 - dense_acc_3: 0.0706 - dense_acc_4: 0.0902 - dense_acc_5: 0.0745 - dense_acc_6: 0.1765 - dense_acc_7: 0.2863 - dense_acc_8: 0.3804 - dense_acc_9: 0.4784 - dense_acc_10: 0.5333 - dense_acc_11: 0.6157 - dense_acc_12: 0.6824 - dense_acc_13: 0.7804 - dense_acc_14: 0.8314 - dense_acc_15: 0.8980 - dense_acc_16: 0.9255 - dense_acc_17: 0.9490 - dense_acc_18: 0.9647 - dense_acc_19: 0.9765 - dense_acc_20: 0.9843 - dense_acc_21: 0.9882 - dense_acc_22: 0.9922 - dense_acc_23: 0.9922 - dense_acc_24: 0.9922 - dense_acc_25: 0.9922 - dense_acc_26: 0.9922 - dense_acc_27: 0.9922 - dense_acc_28: 0.9922 - dense_acc_29: 0.9922 - dense_acc_30: 0.9922 - dense_acc_31: 0.9922 - dense_acc_32: 0.9922 - dense_acc_33: 0.9961 - dense_acc_34: 0.9961 - dense_acc_35: 1.0000 - dense_acc_36: 1.0000 - dense_acc_37: 1.0000 - dense_acc_38: 1.0000 - dense_acc_39: 1.0000 - dense_acc_40: 1.0000 - dense_acc_41: 1.0000 - dense_acc_42: 1.0000 - dense_acc_43: 1.0000 - dense_acc_44: 1.0000 - dense_acc_45: 1.0000\n",
      "Epoch 32/100\n",
      "255/255 [==============================] - 3s 12ms/sample - loss: 49.8324 - dense_loss: 0.0019 - dense_acc: 0.2353 - dense_acc_1: 0.1961 - dense_acc_2: 0.1176 - dense_acc_3: 0.0667 - dense_acc_4: 0.1059 - dense_acc_5: 0.0980 - dense_acc_6: 0.1843 - dense_acc_7: 0.2667 - dense_acc_8: 0.3647 - dense_acc_9: 0.4667 - dense_acc_10: 0.5333 - dense_acc_11: 0.6039 - dense_acc_12: 0.6863 - dense_acc_13: 0.7804 - dense_acc_14: 0.8353 - dense_acc_15: 0.8902 - dense_acc_16: 0.9176 - dense_acc_17: 0.9451 - dense_acc_18: 0.9608 - dense_acc_19: 0.9765 - dense_acc_20: 0.9804 - dense_acc_21: 0.9882 - dense_acc_22: 0.9882 - dense_acc_23: 0.9922 - dense_acc_24: 0.9922 - dense_acc_25: 0.9922 - dense_acc_26: 0.9922 - dense_acc_27: 0.9922 - dense_acc_28: 0.9922 - dense_acc_29: 0.9922 - dense_acc_30: 0.9922 - dense_acc_31: 0.9922 - dense_acc_32: 0.9922 - dense_acc_33: 0.9961 - dense_acc_34: 0.9961 - dense_acc_35: 1.0000 - dense_acc_36: 1.0000 - dense_acc_37: 1.0000 - dense_acc_38: 1.0000 - dense_acc_39: 1.0000 - dense_acc_40: 1.0000 - dense_acc_41: 1.0000 - dense_acc_42: 1.0000 - dense_acc_43: 1.0000 - dense_acc_44: 1.0000 - dense_acc_45: 1.0000\n",
      "Epoch 33/100\n",
      "255/255 [==============================] - 3s 12ms/sample - loss: 49.5336 - dense_loss: 0.0019 - dense_acc: 0.2431 - dense_acc_1: 0.1882 - dense_acc_2: 0.1216 - dense_acc_3: 0.0667 - dense_acc_4: 0.1059 - dense_acc_5: 0.0863 - dense_acc_6: 0.1882 - dense_acc_7: 0.2824 - dense_acc_8: 0.3804 - dense_acc_9: 0.4706 - dense_acc_10: 0.5412 - dense_acc_11: 0.6157 - dense_acc_12: 0.6902 - dense_acc_13: 0.7804 - dense_acc_14: 0.8314 - dense_acc_15: 0.8824 - dense_acc_16: 0.9176 - dense_acc_17: 0.9451 - dense_acc_18: 0.9569 - dense_acc_19: 0.9765 - dense_acc_20: 0.9804 - dense_acc_21: 0.9882 - dense_acc_22: 0.9882 - dense_acc_23: 0.9922 - dense_acc_24: 0.9922 - dense_acc_25: 0.9922 - dense_acc_26: 0.9922 - dense_acc_27: 0.9922 - dense_acc_28: 0.9922 - dense_acc_29: 0.9922 - dense_acc_30: 0.9922 - dense_acc_31: 0.9922 - dense_acc_32: 0.9922 - dense_acc_33: 0.9961 - dense_acc_34: 0.9961 - dense_acc_35: 1.0000 - dense_acc_36: 1.0000 - dense_acc_37: 1.0000 - dense_acc_38: 1.0000 - dense_acc_39: 1.0000 - dense_acc_40: 1.0000 - dense_acc_41: 1.0000 - dense_acc_42: 1.0000 - dense_acc_43: 1.0000 - dense_acc_44: 1.0000 - dense_acc_45: 1.0000\n",
      "Epoch 34/100\n",
      "255/255 [==============================] - 3s 12ms/sample - loss: 49.2247 - dense_loss: 0.0019 - dense_acc: 0.2549 - dense_acc_1: 0.1843 - dense_acc_2: 0.1216 - dense_acc_3: 0.0667 - dense_acc_4: 0.1098 - dense_acc_5: 0.0706 - dense_acc_6: 0.2039 - dense_acc_7: 0.2863 - dense_acc_8: 0.3804 - dense_acc_9: 0.4824 - dense_acc_10: 0.5451 - dense_acc_11: 0.6275 - dense_acc_12: 0.7098 - dense_acc_13: 0.7882 - dense_acc_14: 0.8353 - dense_acc_15: 0.9098 - dense_acc_16: 0.9294 - dense_acc_17: 0.9451 - dense_acc_18: 0.9686 - dense_acc_19: 0.9804 - dense_acc_20: 0.9804 - dense_acc_21: 0.9882 - dense_acc_22: 0.9922 - dense_acc_23: 0.9922 - dense_acc_24: 0.9922 - dense_acc_25: 0.9922 - dense_acc_26: 0.9922 - dense_acc_27: 0.9922 - dense_acc_28: 0.9922 - dense_acc_29: 0.9922 - dense_acc_30: 0.9922 - dense_acc_31: 0.9922 - dense_acc_32: 0.9922 - dense_acc_33: 0.9961 - dense_acc_34: 1.0000 - dense_acc_35: 1.0000 - dense_acc_36: 1.0000 - dense_acc_37: 1.0000 - dense_acc_38: 1.0000 - dense_acc_39: 1.0000 - dense_acc_40: 1.0000 - dense_acc_41: 1.0000 - dense_acc_42: 1.0000 - dense_acc_43: 1.0000 - dense_acc_44: 1.0000 - dense_acc_45: 1.0000\n",
      "Epoch 35/100\n",
      "255/255 [==============================] - 3s 12ms/sample - loss: 48.9594 - dense_loss: 0.0017 - dense_acc: 0.2706 - dense_acc_1: 0.1569 - dense_acc_2: 0.1176 - dense_acc_3: 0.0667 - dense_acc_4: 0.0863 - dense_acc_5: 0.1020 - dense_acc_6: 0.2118 - dense_acc_7: 0.2824 - dense_acc_8: 0.3804 - dense_acc_9: 0.4706 - dense_acc_10: 0.5333 - dense_acc_11: 0.6039 - dense_acc_12: 0.6941 - dense_acc_13: 0.7804 - dense_acc_14: 0.8392 - dense_acc_15: 0.8824 - dense_acc_16: 0.9216 - dense_acc_17: 0.9412 - dense_acc_18: 0.9569 - dense_acc_19: 0.9765 - dense_acc_20: 0.9804 - dense_acc_21: 0.9882 - dense_acc_22: 0.9922 - dense_acc_23: 0.9922 - dense_acc_24: 0.9922 - dense_acc_25: 0.9922 - dense_acc_26: 0.9922 - dense_acc_27: 0.9922 - dense_acc_28: 0.9922 - dense_acc_29: 0.9922 - dense_acc_30: 0.9922 - dense_acc_31: 0.9922 - dense_acc_32: 0.9922 - dense_acc_33: 0.9961 - dense_acc_34: 0.9961 - dense_acc_35: 1.0000 - dense_acc_36: 1.0000 - dense_acc_37: 1.0000 - dense_acc_38: 1.0000 - dense_acc_39: 1.0000 - dense_acc_40: 1.0000 - dense_acc_41: 1.0000 - dense_acc_42: 1.0000 - dense_acc_43: 1.0000 - dense_acc_44: 1.0000 - dense_acc_45: 1.0000\n",
      "Epoch 36/100\n",
      "255/255 [==============================] - 3s 12ms/sample - loss: 48.7543 - dense_loss: 0.0017 - dense_acc: 0.2314 - dense_acc_1: 0.1882 - dense_acc_2: 0.1176 - dense_acc_3: 0.0667 - dense_acc_4: 0.0902 - dense_acc_5: 0.0941 - dense_acc_6: 0.2039 - dense_acc_7: 0.2902 - dense_acc_8: 0.3922 - dense_acc_9: 0.4902 - dense_acc_10: 0.5490 - dense_acc_11: 0.6157 - dense_acc_12: 0.7059 - dense_acc_13: 0.7843 - dense_acc_14: 0.8353 - dense_acc_15: 0.8902 - dense_acc_16: 0.9294 - dense_acc_17: 0.9529 - dense_acc_18: 0.9686 - dense_acc_19: 0.9765 - dense_acc_20: 0.9804 - dense_acc_21: 0.9882 - dense_acc_22: 0.9922 - dense_acc_23: 0.9922 - dense_acc_24: 0.9922 - dense_acc_25: 0.9922 - dense_acc_26: 0.9922 - dense_acc_27: 0.9922 - dense_acc_28: 0.9922 - dense_acc_29: 0.9922 - dense_acc_30: 0.9922 - dense_acc_31: 0.9922 - dense_acc_32: 0.9922 - dense_acc_33: 0.9961 - dense_acc_34: 1.0000 - dense_acc_35: 1.0000 - dense_acc_36: 1.0000 - dense_acc_37: 1.0000 - dense_acc_38: 1.0000 - dense_acc_39: 1.0000 - dense_acc_40: 1.0000 - dense_acc_41: 1.0000 - dense_acc_42: 1.0000 - dense_acc_43: 1.0000 - dense_acc_44: 1.0000 - dense_acc_45: 1.0000\n",
      "Epoch 37/100\n",
      "255/255 [==============================] - 3s 12ms/sample - loss: 48.4005 - dense_loss: 0.0017 - dense_acc: 0.2784 - dense_acc_1: 0.2000 - dense_acc_2: 0.1255 - dense_acc_3: 0.0706 - dense_acc_4: 0.0941 - dense_acc_5: 0.0980 - dense_acc_6: 0.1804 - dense_acc_7: 0.2941 - dense_acc_8: 0.3843 - dense_acc_9: 0.4863 - dense_acc_10: 0.5373 - dense_acc_11: 0.6275 - dense_acc_12: 0.7137 - dense_acc_13: 0.7922 - dense_acc_14: 0.8392 - dense_acc_15: 0.8980 - dense_acc_16: 0.9216 - dense_acc_17: 0.9490 - dense_acc_18: 0.9647 - dense_acc_19: 0.9765 - dense_acc_20: 0.9843 - dense_acc_21: 0.9882 - dense_acc_22: 0.9882 - dense_acc_23: 0.9922 - dense_acc_24: 0.9922 - dense_acc_25: 0.9922 - dense_acc_26: 0.9922 - dense_acc_27: 0.9922 - dense_acc_28: 0.9922 - dense_acc_29: 0.9922 - dense_acc_30: 0.9922 - dense_acc_31: 0.9922 - dense_acc_32: 0.9922 - dense_acc_33: 0.9961 - dense_acc_34: 0.9961 - dense_acc_35: 1.0000 - dense_acc_36: 1.0000 - dense_acc_37: 1.0000 - dense_acc_38: 1.0000 - dense_acc_39: 1.0000 - dense_acc_40: 1.0000 - dense_acc_41: 1.0000 - dense_acc_42: 1.0000 - dense_acc_43: 1.0000 - dense_acc_44: 1.0000 - dense_acc_45: 1.0000\n",
      "Epoch 38/100\n",
      "255/255 [==============================] - 3s 12ms/sample - loss: 48.1825 - dense_loss: 0.0016 - dense_acc: 0.2784 - dense_acc_1: 0.1608 - dense_acc_2: 0.1216 - dense_acc_3: 0.0784 - dense_acc_4: 0.0941 - dense_acc_5: 0.0941 - dense_acc_6: 0.1961 - dense_acc_7: 0.2941 - dense_acc_8: 0.3922 - dense_acc_9: 0.4863 - dense_acc_10: 0.5412 - dense_acc_11: 0.6196 - dense_acc_12: 0.7059 - dense_acc_13: 0.7882 - dense_acc_14: 0.8431 - dense_acc_15: 0.8980 - dense_acc_16: 0.9216 - dense_acc_17: 0.9412 - dense_acc_18: 0.9608 - dense_acc_19: 0.9765 - dense_acc_20: 0.9804 - dense_acc_21: 0.9882 - dense_acc_22: 0.9922 - dense_acc_23: 0.9922 - dense_acc_24: 0.9922 - dense_acc_25: 0.9922 - dense_acc_26: 0.9922 - dense_acc_27: 0.9922 - dense_acc_28: 0.9922 - dense_acc_29: 0.9922 - dense_acc_30: 0.9922 - dense_acc_31: 0.9922 - dense_acc_32: 0.9922 - dense_acc_33: 0.9961 - dense_acc_34: 0.9961 - dense_acc_35: 1.0000 - dense_acc_36: 1.0000 - dense_acc_37: 1.0000 - dense_acc_38: 1.0000 - dense_acc_39: 1.0000 - dense_acc_40: 1.0000 - dense_acc_41: 1.0000 - dense_acc_42: 1.0000 - dense_acc_43: 1.0000 - dense_acc_44: 1.0000 - dense_acc_45: 1.0000\n",
      "Epoch 39/100\n",
      "255/255 [==============================] - 3s 12ms/sample - loss: 48.0532 - dense_loss: 0.0016 - dense_acc: 0.2824 - dense_acc_1: 0.2078 - dense_acc_2: 0.1216 - dense_acc_3: 0.0745 - dense_acc_4: 0.0941 - dense_acc_5: 0.1137 - dense_acc_6: 0.2078 - dense_acc_7: 0.2824 - dense_acc_8: 0.3882 - dense_acc_9: 0.4902 - dense_acc_10: 0.5451 - dense_acc_11: 0.6431 - dense_acc_12: 0.7137 - dense_acc_13: 0.7961 - dense_acc_14: 0.8510 - dense_acc_15: 0.9137 - dense_acc_16: 0.9294 - dense_acc_17: 0.9569 - dense_acc_18: 0.9686 - dense_acc_19: 0.9765 - dense_acc_20: 0.9843 - dense_acc_21: 0.9882 - dense_acc_22: 0.9922 - dense_acc_23: 0.9922 - dense_acc_24: 0.9922 - dense_acc_25: 0.9922 - dense_acc_26: 0.9922 - dense_acc_27: 0.9922 - dense_acc_28: 0.9922 - dense_acc_29: 0.9922 - dense_acc_30: 0.9922 - dense_acc_31: 0.9922 - dense_acc_32: 0.9922 - dense_acc_33: 0.9961 - dense_acc_34: 0.9961 - dense_acc_35: 1.0000 - dense_acc_36: 1.0000 - dense_acc_37: 1.0000 - dense_acc_38: 1.0000 - dense_acc_39: 1.0000 - dense_acc_40: 1.0000 - dense_acc_41: 1.0000 - dense_acc_42: 1.0000 - dense_acc_43: 1.0000 - dense_acc_44: 1.0000 - dense_acc_45: 1.0000\n",
      "Epoch 40/100\n",
      "255/255 [==============================] - 3s 12ms/sample - loss: 47.8540 - dense_loss: 0.0015 - dense_acc: 0.2980 - dense_acc_1: 0.2157 - dense_acc_2: 0.1255 - dense_acc_3: 0.0784 - dense_acc_4: 0.0863 - dense_acc_5: 0.0941 - dense_acc_6: 0.2039 - dense_acc_7: 0.2980 - dense_acc_8: 0.4078 - dense_acc_9: 0.4863 - dense_acc_10: 0.5569 - dense_acc_11: 0.6431 - dense_acc_12: 0.7216 - dense_acc_13: 0.8039 - dense_acc_14: 0.8510 - dense_acc_15: 0.8980 - dense_acc_16: 0.9373 - dense_acc_17: 0.9529 - dense_acc_18: 0.9608 - dense_acc_19: 0.9804 - dense_acc_20: 0.9804 - dense_acc_21: 0.9882 - dense_acc_22: 0.9922 - dense_acc_23: 0.9922 - dense_acc_24: 0.9922 - dense_acc_25: 0.9922 - dense_acc_26: 0.9922 - dense_acc_27: 0.9922 - dense_acc_28: 0.9922 - dense_acc_29: 0.9922 - dense_acc_30: 0.9922 - dense_acc_31: 0.9922 - dense_acc_32: 0.9922 - dense_acc_33: 0.9961 - dense_acc_34: 1.0000 - dense_acc_35: 1.0000 - dense_acc_36: 1.0000 - dense_acc_37: 1.0000 - dense_acc_38: 1.0000 - dense_acc_39: 1.0000 - dense_acc_40: 1.0000 - dense_acc_41: 1.0000 - dense_acc_42: 1.0000 - dense_acc_43: 1.0000 - dense_acc_44: 1.0000 - dense_acc_45: 1.0000\n",
      "Epoch 41/100\n",
      "255/255 [==============================] - 3s 12ms/sample - loss: 47.7019 - dense_loss: 0.0014 - dense_acc: 0.2902 - dense_acc_1: 0.1686 - dense_acc_2: 0.1255 - dense_acc_3: 0.0706 - dense_acc_4: 0.1098 - dense_acc_5: 0.1255 - dense_acc_6: 0.2039 - dense_acc_7: 0.3020 - dense_acc_8: 0.3922 - dense_acc_9: 0.4902 - dense_acc_10: 0.5529 - dense_acc_11: 0.6353 - dense_acc_12: 0.7216 - dense_acc_13: 0.7961 - dense_acc_14: 0.8588 - dense_acc_15: 0.9059 - dense_acc_16: 0.9333 - dense_acc_17: 0.9490 - dense_acc_18: 0.9725 - dense_acc_19: 0.9765 - dense_acc_20: 0.9804 - dense_acc_21: 0.9843 - dense_acc_22: 0.9922 - dense_acc_23: 0.9922 - dense_acc_24: 0.9922 - dense_acc_25: 0.9922 - dense_acc_26: 0.9922 - dense_acc_27: 0.9922 - dense_acc_28: 0.9922 - dense_acc_29: 0.9922 - dense_acc_30: 0.9922 - dense_acc_31: 0.9922 - dense_acc_32: 0.9922 - dense_acc_33: 0.9961 - dense_acc_34: 0.9961 - dense_acc_35: 1.0000 - dense_acc_36: 1.0000 - dense_acc_37: 1.0000 - dense_acc_38: 1.0000 - dense_acc_39: 1.0000 - dense_acc_40: 1.0000 - dense_acc_41: 1.0000 - dense_acc_42: 1.0000 - dense_acc_43: 1.0000 - dense_acc_44: 1.0000 - dense_acc_45: 1.0000\n",
      "Epoch 42/100\n",
      "255/255 [==============================] - 3s 12ms/sample - loss: 47.3170 - dense_loss: 0.0013 - dense_acc: 0.3059 - dense_acc_1: 0.2314 - dense_acc_2: 0.1255 - dense_acc_3: 0.0784 - dense_acc_4: 0.0863 - dense_acc_5: 0.1176 - dense_acc_6: 0.2157 - dense_acc_7: 0.3059 - dense_acc_8: 0.4118 - dense_acc_9: 0.4902 - dense_acc_10: 0.5490 - dense_acc_11: 0.6431 - dense_acc_12: 0.7059 - dense_acc_13: 0.7922 - dense_acc_14: 0.8392 - dense_acc_15: 0.9020 - dense_acc_16: 0.9294 - dense_acc_17: 0.9490 - dense_acc_18: 0.9608 - dense_acc_19: 0.9765 - dense_acc_20: 0.9804 - dense_acc_21: 0.9882 - dense_acc_22: 0.9922 - dense_acc_23: 0.9922 - dense_acc_24: 0.9922 - dense_acc_25: 0.9922 - dense_acc_26: 0.9922 - dense_acc_27: 0.9922 - dense_acc_28: 0.9922 - dense_acc_29: 0.9922 - dense_acc_30: 0.9922 - dense_acc_31: 0.9922 - dense_acc_32: 0.9922 - dense_acc_33: 0.9961 - dense_acc_34: 0.9961 - dense_acc_35: 1.0000 - dense_acc_36: 1.0000 - dense_acc_37: 1.0000 - dense_acc_38: 1.0000 - dense_acc_39: 1.0000 - dense_acc_40: 1.0000 - dense_acc_41: 1.0000 - dense_acc_42: 1.0000 - dense_acc_43: 1.0000 - dense_acc_44: 1.0000 - dense_acc_45: 1.0000\n",
      "Epoch 43/100\n",
      "255/255 [==============================] - 3s 12ms/sample - loss: 47.0717 - dense_loss: 0.0012 - dense_acc: 0.2863 - dense_acc_1: 0.2196 - dense_acc_2: 0.1294 - dense_acc_3: 0.0784 - dense_acc_4: 0.0824 - dense_acc_5: 0.1059 - dense_acc_6: 0.2157 - dense_acc_7: 0.3098 - dense_acc_8: 0.4078 - dense_acc_9: 0.4980 - dense_acc_10: 0.5490 - dense_acc_11: 0.6471 - dense_acc_12: 0.7176 - dense_acc_13: 0.8157 - dense_acc_14: 0.8667 - dense_acc_15: 0.9098 - dense_acc_16: 0.9333 - dense_acc_17: 0.9529 - dense_acc_18: 0.9725 - dense_acc_19: 0.9804 - dense_acc_20: 0.9804 - dense_acc_21: 0.9882 - dense_acc_22: 0.9922 - dense_acc_23: 0.9922 - dense_acc_24: 0.9922 - dense_acc_25: 0.9922 - dense_acc_26: 0.9922 - dense_acc_27: 0.9922 - dense_acc_28: 0.9922 - dense_acc_29: 0.9922 - dense_acc_30: 0.9922 - dense_acc_31: 0.9922 - dense_acc_32: 0.9961 - dense_acc_33: 0.9961 - dense_acc_34: 1.0000 - dense_acc_35: 1.0000 - dense_acc_36: 1.0000 - dense_acc_37: 1.0000 - dense_acc_38: 1.0000 - dense_acc_39: 1.0000 - dense_acc_40: 1.0000 - dense_acc_41: 1.0000 - dense_acc_42: 1.0000 - dense_acc_43: 1.0000 - dense_acc_44: 1.0000 - dense_acc_45: 1.0000\n",
      "Epoch 44/100\n",
      "255/255 [==============================] - 3s 12ms/sample - loss: 46.8011 - dense_loss: 0.0012 - dense_acc: 0.2941 - dense_acc_1: 0.2118 - dense_acc_2: 0.1255 - dense_acc_3: 0.0824 - dense_acc_4: 0.1059 - dense_acc_5: 0.1333 - dense_acc_6: 0.2196 - dense_acc_7: 0.3098 - dense_acc_8: 0.4118 - dense_acc_9: 0.4863 - dense_acc_10: 0.5490 - dense_acc_11: 0.6392 - dense_acc_12: 0.7059 - dense_acc_13: 0.7882 - dense_acc_14: 0.8549 - dense_acc_15: 0.9059 - dense_acc_16: 0.9294 - dense_acc_17: 0.9490 - dense_acc_18: 0.9569 - dense_acc_19: 0.9804 - dense_acc_20: 0.9804 - dense_acc_21: 0.9882 - dense_acc_22: 0.9922 - dense_acc_23: 0.9922 - dense_acc_24: 0.9922 - dense_acc_25: 0.9922 - dense_acc_26: 0.9922 - dense_acc_27: 0.9922 - dense_acc_28: 0.9922 - dense_acc_29: 0.9922 - dense_acc_30: 0.9922 - dense_acc_31: 0.9922 - dense_acc_32: 0.9922 - dense_acc_33: 0.9961 - dense_acc_34: 0.9961 - dense_acc_35: 1.0000 - dense_acc_36: 1.0000 - dense_acc_37: 1.0000 - dense_acc_38: 1.0000 - dense_acc_39: 1.0000 - dense_acc_40: 1.0000 - dense_acc_41: 1.0000 - dense_acc_42: 1.0000 - dense_acc_43: 1.0000 - dense_acc_44: 1.0000 - dense_acc_45: 1.0000\n",
      "Epoch 45/100\n",
      "255/255 [==============================] - 3s 12ms/sample - loss: 46.5179 - dense_loss: 0.0013 - dense_acc: 0.3020 - dense_acc_1: 0.2078 - dense_acc_2: 0.1216 - dense_acc_3: 0.0745 - dense_acc_4: 0.1333 - dense_acc_5: 0.1255 - dense_acc_6: 0.2157 - dense_acc_7: 0.3098 - dense_acc_8: 0.4039 - dense_acc_9: 0.4902 - dense_acc_10: 0.5490 - dense_acc_11: 0.6549 - dense_acc_12: 0.7255 - dense_acc_13: 0.8039 - dense_acc_14: 0.8549 - dense_acc_15: 0.9059 - dense_acc_16: 0.9412 - dense_acc_17: 0.9529 - dense_acc_18: 0.9608 - dense_acc_19: 0.9765 - dense_acc_20: 0.9843 - dense_acc_21: 0.9882 - dense_acc_22: 0.9922 - dense_acc_23: 0.9922 - dense_acc_24: 0.9922 - dense_acc_25: 0.9922 - dense_acc_26: 0.9922 - dense_acc_27: 0.9922 - dense_acc_28: 0.9922 - dense_acc_29: 0.9922 - dense_acc_30: 0.9922 - dense_acc_31: 0.9922 - dense_acc_32: 0.9922 - dense_acc_33: 0.9961 - dense_acc_34: 0.9961 - dense_acc_35: 1.0000 - dense_acc_36: 1.0000 - dense_acc_37: 1.0000 - dense_acc_38: 1.0000 - dense_acc_39: 1.0000 - dense_acc_40: 1.0000 - dense_acc_41: 1.0000 - dense_acc_42: 1.0000 - dense_acc_43: 1.0000 - dense_acc_44: 1.0000 - dense_acc_45: 1.0000\n",
      "Epoch 46/100\n",
      "255/255 [==============================] - 3s 12ms/sample - loss: 46.4099 - dense_loss: 0.0013 - dense_acc: 0.2980 - dense_acc_1: 0.2431 - dense_acc_2: 0.1373 - dense_acc_3: 0.0824 - dense_acc_4: 0.0745 - dense_acc_5: 0.0980 - dense_acc_6: 0.2196 - dense_acc_7: 0.3098 - dense_acc_8: 0.4039 - dense_acc_9: 0.4902 - dense_acc_10: 0.5569 - dense_acc_11: 0.6667 - dense_acc_12: 0.7333 - dense_acc_13: 0.8039 - dense_acc_14: 0.8627 - dense_acc_15: 0.9059 - dense_acc_16: 0.9294 - dense_acc_17: 0.9569 - dense_acc_18: 0.9686 - dense_acc_19: 0.9765 - dense_acc_20: 0.9843 - dense_acc_21: 0.9882 - dense_acc_22: 0.9922 - dense_acc_23: 0.9922 - dense_acc_24: 0.9922 - dense_acc_25: 0.9922 - dense_acc_26: 0.9922 - dense_acc_27: 0.9922 - dense_acc_28: 0.9922 - dense_acc_29: 0.9922 - dense_acc_30: 0.9922 - dense_acc_31: 0.9922 - dense_acc_32: 0.9922 - dense_acc_33: 0.9961 - dense_acc_34: 0.9961 - dense_acc_35: 1.0000 - dense_acc_36: 1.0000 - dense_acc_37: 1.0000 - dense_acc_38: 1.0000 - dense_acc_39: 1.0000 - dense_acc_40: 1.0000 - dense_acc_41: 1.0000 - dense_acc_42: 1.0000 - dense_acc_43: 1.0000 - dense_acc_44: 1.0000 - dense_acc_45: 1.0000\n",
      "Epoch 47/100\n",
      "255/255 [==============================] - 3s 12ms/sample - loss: 46.0742 - dense_loss: 0.0012 - dense_acc: 0.2980 - dense_acc_1: 0.2314 - dense_acc_2: 0.1255 - dense_acc_3: 0.0706 - dense_acc_4: 0.1255 - dense_acc_5: 0.1412 - dense_acc_6: 0.2118 - dense_acc_7: 0.3137 - dense_acc_8: 0.4235 - dense_acc_9: 0.4902 - dense_acc_10: 0.5529 - dense_acc_11: 0.6549 - dense_acc_12: 0.7176 - dense_acc_13: 0.8000 - dense_acc_14: 0.8549 - dense_acc_15: 0.9176 - dense_acc_16: 0.9373 - dense_acc_17: 0.9569 - dense_acc_18: 0.9647 - dense_acc_19: 0.9804 - dense_acc_20: 0.9804 - dense_acc_21: 0.9882 - dense_acc_22: 0.9922 - dense_acc_23: 0.9922 - dense_acc_24: 0.9922 - dense_acc_25: 0.9922 - dense_acc_26: 0.9922 - dense_acc_27: 0.9922 - dense_acc_28: 0.9922 - dense_acc_29: 0.9922 - dense_acc_30: 0.9922 - dense_acc_31: 0.9922 - dense_acc_32: 0.9922 - dense_acc_33: 0.9961 - dense_acc_34: 0.9961 - dense_acc_35: 1.0000 - dense_acc_36: 1.0000 - dense_acc_37: 1.0000 - dense_acc_38: 1.0000 - dense_acc_39: 1.0000 - dense_acc_40: 1.0000 - dense_acc_41: 1.0000 - dense_acc_42: 1.0000 - dense_acc_43: 1.0000 - dense_acc_44: 1.0000 - dense_acc_45: 1.0000\n",
      "Epoch 48/100\n",
      "255/255 [==============================] - 3s 12ms/sample - loss: 45.8798 - dense_loss: 0.0013 - dense_acc: 0.2902 - dense_acc_1: 0.2157 - dense_acc_2: 0.1294 - dense_acc_3: 0.0784 - dense_acc_4: 0.1098 - dense_acc_5: 0.1294 - dense_acc_6: 0.2275 - dense_acc_7: 0.3294 - dense_acc_8: 0.4275 - dense_acc_9: 0.4902 - dense_acc_10: 0.5569 - dense_acc_11: 0.6471 - dense_acc_12: 0.7294 - dense_acc_13: 0.8078 - dense_acc_14: 0.8667 - dense_acc_15: 0.9098 - dense_acc_16: 0.9333 - dense_acc_17: 0.9529 - dense_acc_18: 0.9608 - dense_acc_19: 0.9765 - dense_acc_20: 0.9843 - dense_acc_21: 0.9882 - dense_acc_22: 0.9922 - dense_acc_23: 0.9922 - dense_acc_24: 0.9922 - dense_acc_25: 0.9922 - dense_acc_26: 0.9922 - dense_acc_27: 0.9922 - dense_acc_28: 0.9922 - dense_acc_29: 0.9922 - dense_acc_30: 0.9922 - dense_acc_31: 0.9922 - dense_acc_32: 0.9922 - dense_acc_33: 0.9961 - dense_acc_34: 0.9961 - dense_acc_35: 1.0000 - dense_acc_36: 1.0000 - dense_acc_37: 1.0000 - dense_acc_38: 1.0000 - dense_acc_39: 1.0000 - dense_acc_40: 1.0000 - dense_acc_41: 1.0000 - dense_acc_42: 1.0000 - dense_acc_43: 1.0000 - dense_acc_44: 1.0000 - dense_acc_45: 1.0000\n",
      "Epoch 49/100\n",
      "255/255 [==============================] - 3s 12ms/sample - loss: 45.6973 - dense_loss: 0.0013 - dense_acc: 0.2667 - dense_acc_1: 0.2275 - dense_acc_2: 0.1373 - dense_acc_3: 0.0902 - dense_acc_4: 0.1020 - dense_acc_5: 0.1059 - dense_acc_6: 0.2235 - dense_acc_7: 0.3098 - dense_acc_8: 0.4314 - dense_acc_9: 0.4902 - dense_acc_10: 0.5608 - dense_acc_11: 0.6627 - dense_acc_12: 0.7373 - dense_acc_13: 0.8157 - dense_acc_14: 0.8784 - dense_acc_15: 0.9137 - dense_acc_16: 0.9451 - dense_acc_17: 0.9529 - dense_acc_18: 0.9765 - dense_acc_19: 0.9765 - dense_acc_20: 0.9804 - dense_acc_21: 0.9882 - dense_acc_22: 0.9922 - dense_acc_23: 0.9922 - dense_acc_24: 0.9922 - dense_acc_25: 0.9922 - dense_acc_26: 0.9922 - dense_acc_27: 0.9922 - dense_acc_28: 0.9922 - dense_acc_29: 0.9922 - dense_acc_30: 0.9922 - dense_acc_31: 0.9922 - dense_acc_32: 0.9922 - dense_acc_33: 0.9961 - dense_acc_34: 0.9961 - dense_acc_35: 1.0000 - dense_acc_36: 1.0000 - dense_acc_37: 1.0000 - dense_acc_38: 1.0000 - dense_acc_39: 1.0000 - dense_acc_40: 1.0000 - dense_acc_41: 1.0000 - dense_acc_42: 1.0000 - dense_acc_43: 1.0000 - dense_acc_44: 1.0000 - dense_acc_45: 1.0000\n",
      "Epoch 50/100\n",
      "255/255 [==============================] - 3s 12ms/sample - loss: 45.4132 - dense_loss: 0.0012 - dense_acc: 0.3098 - dense_acc_1: 0.2275 - dense_acc_2: 0.1412 - dense_acc_3: 0.0863 - dense_acc_4: 0.1176 - dense_acc_5: 0.1294 - dense_acc_6: 0.2235 - dense_acc_7: 0.3255 - dense_acc_8: 0.4235 - dense_acc_9: 0.4941 - dense_acc_10: 0.5569 - dense_acc_11: 0.6588 - dense_acc_12: 0.7412 - dense_acc_13: 0.8157 - dense_acc_14: 0.8706 - dense_acc_15: 0.9176 - dense_acc_16: 0.9451 - dense_acc_17: 0.9451 - dense_acc_18: 0.9647 - dense_acc_19: 0.9804 - dense_acc_20: 0.9804 - dense_acc_21: 0.9882 - dense_acc_22: 0.9922 - dense_acc_23: 0.9922 - dense_acc_24: 0.9922 - dense_acc_25: 0.9922 - dense_acc_26: 0.9922 - dense_acc_27: 0.9922 - dense_acc_28: 0.9922 - dense_acc_29: 0.9922 - dense_acc_30: 0.9922 - dense_acc_31: 0.9922 - dense_acc_32: 0.9922 - dense_acc_33: 0.9961 - dense_acc_34: 0.9961 - dense_acc_35: 1.0000 - dense_acc_36: 1.0000 - dense_acc_37: 1.0000 - dense_acc_38: 1.0000 - dense_acc_39: 1.0000 - dense_acc_40: 1.0000 - dense_acc_41: 1.0000 - dense_acc_42: 1.0000 - dense_acc_43: 1.0000 - dense_acc_44: 1.0000 - dense_acc_45: 1.0000\n",
      "Epoch 51/100\n",
      "255/255 [==============================] - 3s 12ms/sample - loss: 45.1589 - dense_loss: 0.0013 - dense_acc: 0.2980 - dense_acc_1: 0.2275 - dense_acc_2: 0.1373 - dense_acc_3: 0.0824 - dense_acc_4: 0.1216 - dense_acc_5: 0.1373 - dense_acc_6: 0.2235 - dense_acc_7: 0.3255 - dense_acc_8: 0.4431 - dense_acc_9: 0.4863 - dense_acc_10: 0.5569 - dense_acc_11: 0.6667 - dense_acc_12: 0.7412 - dense_acc_13: 0.8157 - dense_acc_14: 0.8667 - dense_acc_15: 0.9098 - dense_acc_16: 0.9451 - dense_acc_17: 0.9569 - dense_acc_18: 0.9647 - dense_acc_19: 0.9765 - dense_acc_20: 0.9804 - dense_acc_21: 0.9882 - dense_acc_22: 0.9922 - dense_acc_23: 0.9922 - dense_acc_24: 0.9922 - dense_acc_25: 0.9922 - dense_acc_26: 0.9922 - dense_acc_27: 0.9922 - dense_acc_28: 0.9922 - dense_acc_29: 0.9922 - dense_acc_30: 0.9922 - dense_acc_31: 0.9922 - dense_acc_32: 0.9922 - dense_acc_33: 0.9961 - dense_acc_34: 0.9961 - dense_acc_35: 1.0000 - dense_acc_36: 1.0000 - dense_acc_37: 1.0000 - dense_acc_38: 1.0000 - dense_acc_39: 1.0000 - dense_acc_40: 1.0000 - dense_acc_41: 1.0000 - dense_acc_42: 1.0000 - dense_acc_43: 1.0000 - dense_acc_44: 1.0000 - dense_acc_45: 1.0000\n",
      "Epoch 52/100\n",
      "255/255 [==============================] - 3s 12ms/sample - loss: 44.9781 - dense_loss: 0.0012 - dense_acc: 0.3059 - dense_acc_1: 0.2314 - dense_acc_2: 0.1333 - dense_acc_3: 0.0824 - dense_acc_4: 0.1255 - dense_acc_5: 0.1529 - dense_acc_6: 0.2392 - dense_acc_7: 0.3333 - dense_acc_8: 0.4431 - dense_acc_9: 0.4902 - dense_acc_10: 0.5647 - dense_acc_11: 0.6745 - dense_acc_12: 0.7412 - dense_acc_13: 0.8196 - dense_acc_14: 0.8784 - dense_acc_15: 0.9176 - dense_acc_16: 0.9451 - dense_acc_17: 0.9569 - dense_acc_18: 0.9725 - dense_acc_19: 0.9765 - dense_acc_20: 0.9843 - dense_acc_21: 0.9882 - dense_acc_22: 0.9922 - dense_acc_23: 0.9922 - dense_acc_24: 0.9922 - dense_acc_25: 0.9922 - dense_acc_26: 0.9922 - dense_acc_27: 0.9922 - dense_acc_28: 0.9922 - dense_acc_29: 0.9922 - dense_acc_30: 0.9922 - dense_acc_31: 0.9922 - dense_acc_32: 0.9922 - dense_acc_33: 0.9961 - dense_acc_34: 0.9961 - dense_acc_35: 1.0000 - dense_acc_36: 1.0000 - dense_acc_37: 1.0000 - dense_acc_38: 1.0000 - dense_acc_39: 1.0000 - dense_acc_40: 1.0000 - dense_acc_41: 1.0000 - dense_acc_42: 1.0000 - dense_acc_43: 1.0000 - dense_acc_44: 1.0000 - dense_acc_45: 1.0000\n",
      "Epoch 53/100\n",
      "255/255 [==============================] - 3s 12ms/sample - loss: 44.7892 - dense_loss: 0.0012 - dense_acc: 0.3059 - dense_acc_1: 0.2431 - dense_acc_2: 0.1333 - dense_acc_3: 0.0863 - dense_acc_4: 0.1137 - dense_acc_5: 0.1412 - dense_acc_6: 0.2314 - dense_acc_7: 0.3412 - dense_acc_8: 0.4471 - dense_acc_9: 0.5020 - dense_acc_10: 0.5608 - dense_acc_11: 0.6745 - dense_acc_12: 0.7373 - dense_acc_13: 0.8157 - dense_acc_14: 0.8784 - dense_acc_15: 0.9216 - dense_acc_16: 0.9373 - dense_acc_17: 0.9569 - dense_acc_18: 0.9647 - dense_acc_19: 0.9765 - dense_acc_20: 0.9843 - dense_acc_21: 0.9882 - dense_acc_22: 0.9922 - dense_acc_23: 0.9922 - dense_acc_24: 0.9922 - dense_acc_25: 0.9922 - dense_acc_26: 0.9922 - dense_acc_27: 0.9922 - dense_acc_28: 0.9922 - dense_acc_29: 0.9922 - dense_acc_30: 0.9922 - dense_acc_31: 0.9922 - dense_acc_32: 0.9922 - dense_acc_33: 0.9961 - dense_acc_34: 0.9961 - dense_acc_35: 1.0000 - dense_acc_36: 1.0000 - dense_acc_37: 1.0000 - dense_acc_38: 1.0000 - dense_acc_39: 1.0000 - dense_acc_40: 1.0000 - dense_acc_41: 1.0000 - dense_acc_42: 1.0000 - dense_acc_43: 1.0000 - dense_acc_44: 1.0000 - dense_acc_45: 1.0000\n",
      "Epoch 54/100\n",
      "255/255 [==============================] - 3s 12ms/sample - loss: 44.5724 - dense_loss: 0.0012 - dense_acc: 0.3059 - dense_acc_1: 0.2353 - dense_acc_2: 0.1373 - dense_acc_3: 0.0941 - dense_acc_4: 0.1137 - dense_acc_5: 0.1294 - dense_acc_6: 0.2392 - dense_acc_7: 0.3333 - dense_acc_8: 0.4392 - dense_acc_9: 0.4980 - dense_acc_10: 0.5686 - dense_acc_11: 0.6667 - dense_acc_12: 0.7373 - dense_acc_13: 0.8196 - dense_acc_14: 0.8784 - dense_acc_15: 0.9137 - dense_acc_16: 0.9412 - dense_acc_17: 0.9569 - dense_acc_18: 0.9608 - dense_acc_19: 0.9765 - dense_acc_20: 0.9843 - dense_acc_21: 0.9882 - dense_acc_22: 0.9922 - dense_acc_23: 0.9922 - dense_acc_24: 0.9922 - dense_acc_25: 0.9922 - dense_acc_26: 0.9922 - dense_acc_27: 0.9922 - dense_acc_28: 0.9922 - dense_acc_29: 0.9922 - dense_acc_30: 0.9922 - dense_acc_31: 0.9922 - dense_acc_32: 0.9922 - dense_acc_33: 0.9961 - dense_acc_34: 0.9961 - dense_acc_35: 1.0000 - dense_acc_36: 1.0000 - dense_acc_37: 1.0000 - dense_acc_38: 1.0000 - dense_acc_39: 1.0000 - dense_acc_40: 1.0000 - dense_acc_41: 1.0000 - dense_acc_42: 1.0000 - dense_acc_43: 1.0000 - dense_acc_44: 1.0000 - dense_acc_45: 1.0000\n",
      "Epoch 55/100\n",
      "255/255 [==============================] - 3s 12ms/sample - loss: 44.3256 - dense_loss: 0.0012 - dense_acc: 0.2980 - dense_acc_1: 0.2392 - dense_acc_2: 0.1373 - dense_acc_3: 0.0941 - dense_acc_4: 0.1451 - dense_acc_5: 0.1451 - dense_acc_6: 0.2314 - dense_acc_7: 0.3255 - dense_acc_8: 0.4431 - dense_acc_9: 0.5020 - dense_acc_10: 0.5686 - dense_acc_11: 0.6784 - dense_acc_12: 0.7451 - dense_acc_13: 0.8196 - dense_acc_14: 0.8784 - dense_acc_15: 0.9176 - dense_acc_16: 0.9412 - dense_acc_17: 0.9569 - dense_acc_18: 0.9725 - dense_acc_19: 0.9765 - dense_acc_20: 0.9843 - dense_acc_21: 0.9882 - dense_acc_22: 0.9922 - dense_acc_23: 0.9922 - dense_acc_24: 0.9922 - dense_acc_25: 0.9922 - dense_acc_26: 0.9922 - dense_acc_27: 0.9922 - dense_acc_28: 0.9922 - dense_acc_29: 0.9922 - dense_acc_30: 0.9922 - dense_acc_31: 0.9922 - dense_acc_32: 0.9922 - dense_acc_33: 0.9961 - dense_acc_34: 0.9961 - dense_acc_35: 1.0000 - dense_acc_36: 1.0000 - dense_acc_37: 1.0000 - dense_acc_38: 1.0000 - dense_acc_39: 1.0000 - dense_acc_40: 1.0000 - dense_acc_41: 1.0000 - dense_acc_42: 1.0000 - dense_acc_43: 1.0000 - dense_acc_44: 1.0000 - dense_acc_45: 1.0000\n",
      "Epoch 56/100\n",
      "255/255 [==============================] - 3s 12ms/sample - loss: 44.1216 - dense_loss: 0.0012 - dense_acc: 0.3098 - dense_acc_1: 0.2510 - dense_acc_2: 0.1412 - dense_acc_3: 0.0902 - dense_acc_4: 0.1451 - dense_acc_5: 0.1490 - dense_acc_6: 0.2392 - dense_acc_7: 0.3490 - dense_acc_8: 0.4510 - dense_acc_9: 0.5059 - dense_acc_10: 0.5647 - dense_acc_11: 0.6824 - dense_acc_12: 0.7451 - dense_acc_13: 0.8157 - dense_acc_14: 0.8824 - dense_acc_15: 0.9176 - dense_acc_16: 0.9451 - dense_acc_17: 0.9529 - dense_acc_18: 0.9647 - dense_acc_19: 0.9804 - dense_acc_20: 0.9843 - dense_acc_21: 0.9882 - dense_acc_22: 0.9922 - dense_acc_23: 0.9922 - dense_acc_24: 0.9922 - dense_acc_25: 0.9922 - dense_acc_26: 0.9922 - dense_acc_27: 0.9922 - dense_acc_28: 0.9922 - dense_acc_29: 0.9922 - dense_acc_30: 0.9922 - dense_acc_31: 0.9922 - dense_acc_32: 0.9922 - dense_acc_33: 0.9961 - dense_acc_34: 0.9961 - dense_acc_35: 1.0000 - dense_acc_36: 1.0000 - dense_acc_37: 1.0000 - dense_acc_38: 1.0000 - dense_acc_39: 1.0000 - dense_acc_40: 1.0000 - dense_acc_41: 1.0000 - dense_acc_42: 1.0000 - dense_acc_43: 1.0000 - dense_acc_44: 1.0000 - dense_acc_45: 1.0000\n",
      "Epoch 57/100\n",
      "255/255 [==============================] - 3s 12ms/sample - loss: 43.9093 - dense_loss: 0.0012 - dense_acc: 0.2745 - dense_acc_1: 0.2431 - dense_acc_2: 0.1373 - dense_acc_3: 0.0863 - dense_acc_4: 0.1490 - dense_acc_5: 0.1569 - dense_acc_6: 0.2431 - dense_acc_7: 0.3294 - dense_acc_8: 0.4471 - dense_acc_9: 0.5059 - dense_acc_10: 0.5608 - dense_acc_11: 0.6824 - dense_acc_12: 0.7451 - dense_acc_13: 0.8196 - dense_acc_14: 0.8784 - dense_acc_15: 0.9176 - dense_acc_16: 0.9373 - dense_acc_17: 0.9569 - dense_acc_18: 0.9725 - dense_acc_19: 0.9804 - dense_acc_20: 0.9843 - dense_acc_21: 0.9882 - dense_acc_22: 0.9922 - dense_acc_23: 0.9922 - dense_acc_24: 0.9922 - dense_acc_25: 0.9922 - dense_acc_26: 0.9922 - dense_acc_27: 0.9922 - dense_acc_28: 0.9922 - dense_acc_29: 0.9922 - dense_acc_30: 0.9922 - dense_acc_31: 0.9922 - dense_acc_32: 0.9922 - dense_acc_33: 0.9961 - dense_acc_34: 0.9961 - dense_acc_35: 1.0000 - dense_acc_36: 1.0000 - dense_acc_37: 1.0000 - dense_acc_38: 1.0000 - dense_acc_39: 1.0000 - dense_acc_40: 1.0000 - dense_acc_41: 1.0000 - dense_acc_42: 1.0000 - dense_acc_43: 1.0000 - dense_acc_44: 1.0000 - dense_acc_45: 1.0000\n",
      "Epoch 58/100\n",
      "255/255 [==============================] - 3s 12ms/sample - loss: 43.6915 - dense_loss: 0.0012 - dense_acc: 0.3098 - dense_acc_1: 0.2314 - dense_acc_2: 0.1373 - dense_acc_3: 0.0980 - dense_acc_4: 0.1255 - dense_acc_5: 0.1451 - dense_acc_6: 0.2510 - dense_acc_7: 0.3451 - dense_acc_8: 0.4471 - dense_acc_9: 0.5059 - dense_acc_10: 0.5647 - dense_acc_11: 0.6824 - dense_acc_12: 0.7412 - dense_acc_13: 0.8235 - dense_acc_14: 0.8784 - dense_acc_15: 0.9216 - dense_acc_16: 0.9412 - dense_acc_17: 0.9569 - dense_acc_18: 0.9725 - dense_acc_19: 0.9804 - dense_acc_20: 0.9843 - dense_acc_21: 0.9882 - dense_acc_22: 0.9922 - dense_acc_23: 0.9922 - dense_acc_24: 0.9922 - dense_acc_25: 0.9922 - dense_acc_26: 0.9922 - dense_acc_27: 0.9922 - dense_acc_28: 0.9922 - dense_acc_29: 0.9922 - dense_acc_30: 0.9922 - dense_acc_31: 0.9922 - dense_acc_32: 0.9922 - dense_acc_33: 0.9961 - dense_acc_34: 0.9961 - dense_acc_35: 1.0000 - dense_acc_36: 1.0000 - dense_acc_37: 1.0000 - dense_acc_38: 1.0000 - dense_acc_39: 1.0000 - dense_acc_40: 1.0000 - dense_acc_41: 1.0000 - dense_acc_42: 1.0000 - dense_acc_43: 1.0000 - dense_acc_44: 1.0000 - dense_acc_45: 1.0000\n",
      "Epoch 59/100\n",
      "255/255 [==============================] - 3s 12ms/sample - loss: 43.5250 - dense_loss: 0.0011 - dense_acc: 0.2824 - dense_acc_1: 0.2314 - dense_acc_2: 0.1490 - dense_acc_3: 0.0941 - dense_acc_4: 0.1529 - dense_acc_5: 0.1686 - dense_acc_6: 0.2431 - dense_acc_7: 0.3412 - dense_acc_8: 0.4431 - dense_acc_9: 0.5176 - dense_acc_10: 0.5725 - dense_acc_11: 0.6745 - dense_acc_12: 0.7490 - dense_acc_13: 0.8196 - dense_acc_14: 0.8745 - dense_acc_15: 0.9137 - dense_acc_16: 0.9451 - dense_acc_17: 0.9569 - dense_acc_18: 0.9686 - dense_acc_19: 0.9804 - dense_acc_20: 0.9843 - dense_acc_21: 0.9882 - dense_acc_22: 0.9922 - dense_acc_23: 0.9922 - dense_acc_24: 0.9922 - dense_acc_25: 0.9922 - dense_acc_26: 0.9922 - dense_acc_27: 0.9922 - dense_acc_28: 0.9922 - dense_acc_29: 0.9922 - dense_acc_30: 0.9922 - dense_acc_31: 0.9922 - dense_acc_32: 0.9922 - dense_acc_33: 0.9961 - dense_acc_34: 0.9961 - dense_acc_35: 1.0000 - dense_acc_36: 1.0000 - dense_acc_37: 1.0000 - dense_acc_38: 1.0000 - dense_acc_39: 1.0000 - dense_acc_40: 1.0000 - dense_acc_41: 1.0000 - dense_acc_42: 1.0000 - dense_acc_43: 1.0000 - dense_acc_44: 1.0000 - dense_acc_45: 1.0000\n",
      "Epoch 60/100\n",
      "255/255 [==============================] - 3s 12ms/sample - loss: 43.3236 - dense_loss: 0.0011 - dense_acc: 0.2784 - dense_acc_1: 0.2353 - dense_acc_2: 0.1412 - dense_acc_3: 0.0902 - dense_acc_4: 0.1608 - dense_acc_5: 0.1843 - dense_acc_6: 0.2353 - dense_acc_7: 0.3412 - dense_acc_8: 0.4588 - dense_acc_9: 0.5137 - dense_acc_10: 0.5647 - dense_acc_11: 0.6784 - dense_acc_12: 0.7451 - dense_acc_13: 0.8275 - dense_acc_14: 0.8824 - dense_acc_15: 0.9176 - dense_acc_16: 0.9451 - dense_acc_17: 0.9569 - dense_acc_18: 0.9725 - dense_acc_19: 0.9804 - dense_acc_20: 0.9843 - dense_acc_21: 0.9882 - dense_acc_22: 0.9922 - dense_acc_23: 0.9922 - dense_acc_24: 0.9922 - dense_acc_25: 0.9922 - dense_acc_26: 0.9922 - dense_acc_27: 0.9922 - dense_acc_28: 0.9922 - dense_acc_29: 0.9922 - dense_acc_30: 0.9922 - dense_acc_31: 0.9922 - dense_acc_32: 0.9922 - dense_acc_33: 0.9961 - dense_acc_34: 0.9961 - dense_acc_35: 1.0000 - dense_acc_36: 1.0000 - dense_acc_37: 1.0000 - dense_acc_38: 1.0000 - dense_acc_39: 1.0000 - dense_acc_40: 1.0000 - dense_acc_41: 1.0000 - dense_acc_42: 1.0000 - dense_acc_43: 1.0000 - dense_acc_44: 1.0000 - dense_acc_45: 1.0000\n",
      "Epoch 61/100\n",
      "255/255 [==============================] - 3s 12ms/sample - loss: 43.1489 - dense_loss: 0.0011 - dense_acc: 0.2941 - dense_acc_1: 0.2392 - dense_acc_2: 0.1412 - dense_acc_3: 0.0941 - dense_acc_4: 0.1412 - dense_acc_5: 0.1647 - dense_acc_6: 0.2510 - dense_acc_7: 0.3529 - dense_acc_8: 0.4549 - dense_acc_9: 0.5098 - dense_acc_10: 0.5804 - dense_acc_11: 0.6784 - dense_acc_12: 0.7490 - dense_acc_13: 0.8235 - dense_acc_14: 0.8784 - dense_acc_15: 0.9176 - dense_acc_16: 0.9412 - dense_acc_17: 0.9569 - dense_acc_18: 0.9686 - dense_acc_19: 0.9804 - dense_acc_20: 0.9804 - dense_acc_21: 0.9882 - dense_acc_22: 0.9922 - dense_acc_23: 0.9922 - dense_acc_24: 0.9922 - dense_acc_25: 0.9922 - dense_acc_26: 0.9922 - dense_acc_27: 0.9922 - dense_acc_28: 0.9922 - dense_acc_29: 0.9922 - dense_acc_30: 0.9922 - dense_acc_31: 0.9922 - dense_acc_32: 0.9922 - dense_acc_33: 0.9961 - dense_acc_34: 0.9961 - dense_acc_35: 1.0000 - dense_acc_36: 1.0000 - dense_acc_37: 1.0000 - dense_acc_38: 1.0000 - dense_acc_39: 1.0000 - dense_acc_40: 1.0000 - dense_acc_41: 1.0000 - dense_acc_42: 1.0000 - dense_acc_43: 1.0000 - dense_acc_44: 1.0000 - dense_acc_45: 1.0000\n",
      "Epoch 62/100\n",
      "255/255 [==============================] - 3s 12ms/sample - loss: 43.1872 - dense_loss: 0.0011 - dense_acc: 0.3059 - dense_acc_1: 0.2549 - dense_acc_2: 0.1569 - dense_acc_3: 0.1020 - dense_acc_4: 0.1412 - dense_acc_5: 0.1608 - dense_acc_6: 0.2549 - dense_acc_7: 0.3373 - dense_acc_8: 0.4627 - dense_acc_9: 0.5176 - dense_acc_10: 0.5922 - dense_acc_11: 0.6863 - dense_acc_12: 0.7529 - dense_acc_13: 0.8196 - dense_acc_14: 0.8784 - dense_acc_15: 0.9176 - dense_acc_16: 0.9373 - dense_acc_17: 0.9569 - dense_acc_18: 0.9647 - dense_acc_19: 0.9804 - dense_acc_20: 0.9843 - dense_acc_21: 0.9882 - dense_acc_22: 0.9922 - dense_acc_23: 0.9922 - dense_acc_24: 0.9922 - dense_acc_25: 0.9922 - dense_acc_26: 0.9922 - dense_acc_27: 0.9922 - dense_acc_28: 0.9922 - dense_acc_29: 0.9922 - dense_acc_30: 0.9922 - dense_acc_31: 0.9922 - dense_acc_32: 0.9961 - dense_acc_33: 0.9961 - dense_acc_34: 0.9961 - dense_acc_35: 1.0000 - dense_acc_36: 1.0000 - dense_acc_37: 1.0000 - dense_acc_38: 1.0000 - dense_acc_39: 1.0000 - dense_acc_40: 1.0000 - dense_acc_41: 1.0000 - dense_acc_42: 1.0000 - dense_acc_43: 1.0000 - dense_acc_44: 1.0000 - dense_acc_45: 1.0000\n",
      "Epoch 63/100\n",
      "255/255 [==============================] - 3s 12ms/sample - loss: 42.9164 - dense_loss: 0.0011 - dense_acc: 0.2980 - dense_acc_1: 0.2431 - dense_acc_2: 0.1686 - dense_acc_3: 0.1098 - dense_acc_4: 0.1529 - dense_acc_5: 0.1686 - dense_acc_6: 0.2392 - dense_acc_7: 0.3490 - dense_acc_8: 0.4588 - dense_acc_9: 0.5098 - dense_acc_10: 0.5961 - dense_acc_11: 0.6941 - dense_acc_12: 0.7490 - dense_acc_13: 0.8235 - dense_acc_14: 0.8784 - dense_acc_15: 0.9176 - dense_acc_16: 0.9412 - dense_acc_17: 0.9490 - dense_acc_18: 0.9647 - dense_acc_19: 0.9804 - dense_acc_20: 0.9843 - dense_acc_21: 0.9882 - dense_acc_22: 0.9922 - dense_acc_23: 0.9922 - dense_acc_24: 0.9922 - dense_acc_25: 0.9922 - dense_acc_26: 0.9922 - dense_acc_27: 0.9922 - dense_acc_28: 0.9922 - dense_acc_29: 0.9922 - dense_acc_30: 0.9922 - dense_acc_31: 0.9922 - dense_acc_32: 0.9922 - dense_acc_33: 0.9961 - dense_acc_34: 0.9961 - dense_acc_35: 1.0000 - dense_acc_36: 1.0000 - dense_acc_37: 1.0000 - dense_acc_38: 1.0000 - dense_acc_39: 1.0000 - dense_acc_40: 1.0000 - dense_acc_41: 1.0000 - dense_acc_42: 1.0000 - dense_acc_43: 1.0000 - dense_acc_44: 1.0000 - dense_acc_45: 1.0000\n",
      "Epoch 64/100\n",
      "255/255 [==============================] - 3s 12ms/sample - loss: 42.7682 - dense_loss: 0.0010 - dense_acc: 0.2863 - dense_acc_1: 0.2431 - dense_acc_2: 0.1412 - dense_acc_3: 0.0980 - dense_acc_4: 0.1451 - dense_acc_5: 0.1569 - dense_acc_6: 0.2549 - dense_acc_7: 0.3529 - dense_acc_8: 0.4510 - dense_acc_9: 0.5216 - dense_acc_10: 0.5882 - dense_acc_11: 0.6941 - dense_acc_12: 0.7451 - dense_acc_13: 0.8157 - dense_acc_14: 0.8745 - dense_acc_15: 0.9137 - dense_acc_16: 0.9412 - dense_acc_17: 0.9529 - dense_acc_18: 0.9647 - dense_acc_19: 0.9765 - dense_acc_20: 0.9843 - dense_acc_21: 0.9882 - dense_acc_22: 0.9922 - dense_acc_23: 0.9922 - dense_acc_24: 0.9922 - dense_acc_25: 0.9922 - dense_acc_26: 0.9922 - dense_acc_27: 0.9922 - dense_acc_28: 0.9922 - dense_acc_29: 0.9922 - dense_acc_30: 0.9922 - dense_acc_31: 0.9922 - dense_acc_32: 0.9922 - dense_acc_33: 0.9961 - dense_acc_34: 0.9961 - dense_acc_35: 1.0000 - dense_acc_36: 1.0000 - dense_acc_37: 1.0000 - dense_acc_38: 1.0000 - dense_acc_39: 1.0000 - dense_acc_40: 1.0000 - dense_acc_41: 1.0000 - dense_acc_42: 1.0000 - dense_acc_43: 1.0000 - dense_acc_44: 1.0000 - dense_acc_45: 1.0000\n",
      "Epoch 65/100\n",
      "255/255 [==============================] - 3s 12ms/sample - loss: 42.5494 - dense_loss: 9.7617e-04 - dense_acc: 0.3059 - dense_acc_1: 0.2549 - dense_acc_2: 0.1922 - dense_acc_3: 0.1255 - dense_acc_4: 0.1608 - dense_acc_5: 0.1686 - dense_acc_6: 0.2549 - dense_acc_7: 0.3529 - dense_acc_8: 0.4471 - dense_acc_9: 0.5098 - dense_acc_10: 0.5843 - dense_acc_11: 0.6863 - dense_acc_12: 0.7529 - dense_acc_13: 0.8196 - dense_acc_14: 0.8745 - dense_acc_15: 0.9216 - dense_acc_16: 0.9412 - dense_acc_17: 0.9529 - dense_acc_18: 0.9725 - dense_acc_19: 0.9804 - dense_acc_20: 0.9843 - dense_acc_21: 0.9882 - dense_acc_22: 0.9922 - dense_acc_23: 0.9922 - dense_acc_24: 0.9922 - dense_acc_25: 0.9922 - dense_acc_26: 0.9922 - dense_acc_27: 0.9922 - dense_acc_28: 0.9922 - dense_acc_29: 0.9922 - dense_acc_30: 0.9922 - dense_acc_31: 0.9922 - dense_acc_32: 0.9922 - dense_acc_33: 0.9961 - dense_acc_34: 1.0000 - dense_acc_35: 1.0000 - dense_acc_36: 1.0000 - dense_acc_37: 1.0000 - dense_acc_38: 1.0000 - dense_acc_39: 1.0000 - dense_acc_40: 1.0000 - dense_acc_41: 1.0000 - dense_acc_42: 1.0000 - dense_acc_43: 1.0000 - dense_acc_44: 1.0000 - dense_acc_45: 1.0000\n",
      "Epoch 66/100\n",
      "255/255 [==============================] - 3s 12ms/sample - loss: 42.3285 - dense_loss: 9.2015e-04 - dense_acc: 0.3059 - dense_acc_1: 0.2667 - dense_acc_2: 0.1647 - dense_acc_3: 0.1294 - dense_acc_4: 0.1804 - dense_acc_5: 0.1804 - dense_acc_6: 0.2510 - dense_acc_7: 0.3529 - dense_acc_8: 0.4549 - dense_acc_9: 0.5137 - dense_acc_10: 0.5922 - dense_acc_11: 0.6824 - dense_acc_12: 0.7451 - dense_acc_13: 0.8196 - dense_acc_14: 0.8824 - dense_acc_15: 0.9176 - dense_acc_16: 0.9451 - dense_acc_17: 0.9529 - dense_acc_18: 0.9765 - dense_acc_19: 0.9804 - dense_acc_20: 0.9843 - dense_acc_21: 0.9882 - dense_acc_22: 0.9922 - dense_acc_23: 0.9922 - dense_acc_24: 0.9922 - dense_acc_25: 0.9922 - dense_acc_26: 0.9922 - dense_acc_27: 0.9922 - dense_acc_28: 0.9922 - dense_acc_29: 0.9922 - dense_acc_30: 0.9922 - dense_acc_31: 0.9922 - dense_acc_32: 0.9922 - dense_acc_33: 0.9961 - dense_acc_34: 0.9961 - dense_acc_35: 1.0000 - dense_acc_36: 1.0000 - dense_acc_37: 1.0000 - dense_acc_38: 1.0000 - dense_acc_39: 1.0000 - dense_acc_40: 1.0000 - dense_acc_41: 1.0000 - dense_acc_42: 1.0000 - dense_acc_43: 1.0000 - dense_acc_44: 1.0000 - dense_acc_45: 1.0000\n",
      "Epoch 67/100\n",
      "255/255 [==============================] - 3s 12ms/sample - loss: 42.1245 - dense_loss: 9.5217e-04 - dense_acc: 0.2980 - dense_acc_1: 0.2471 - dense_acc_2: 0.1804 - dense_acc_3: 0.1216 - dense_acc_4: 0.1529 - dense_acc_5: 0.1804 - dense_acc_6: 0.2627 - dense_acc_7: 0.3490 - dense_acc_8: 0.4588 - dense_acc_9: 0.5216 - dense_acc_10: 0.5843 - dense_acc_11: 0.6902 - dense_acc_12: 0.7569 - dense_acc_13: 0.8235 - dense_acc_14: 0.8863 - dense_acc_15: 0.9216 - dense_acc_16: 0.9451 - dense_acc_17: 0.9569 - dense_acc_18: 0.9765 - dense_acc_19: 0.9804 - dense_acc_20: 0.9843 - dense_acc_21: 0.9882 - dense_acc_22: 0.9922 - dense_acc_23: 0.9922 - dense_acc_24: 0.9922 - dense_acc_25: 0.9922 - dense_acc_26: 0.9922 - dense_acc_27: 0.9922 - dense_acc_28: 0.9922 - dense_acc_29: 0.9922 - dense_acc_30: 0.9922 - dense_acc_31: 0.9922 - dense_acc_32: 0.9961 - dense_acc_33: 0.9961 - dense_acc_34: 0.9961 - dense_acc_35: 1.0000 - dense_acc_36: 1.0000 - dense_acc_37: 1.0000 - dense_acc_38: 1.0000 - dense_acc_39: 1.0000 - dense_acc_40: 1.0000 - dense_acc_41: 1.0000 - dense_acc_42: 1.0000 - dense_acc_43: 1.0000 - dense_acc_44: 1.0000 - dense_acc_45: 1.0000\n",
      "Epoch 68/100\n",
      "255/255 [==============================] - 3s 12ms/sample - loss: 42.3389 - dense_loss: 9.3375e-04 - dense_acc: 0.2863 - dense_acc_1: 0.2510 - dense_acc_2: 0.1725 - dense_acc_3: 0.1373 - dense_acc_4: 0.1608 - dense_acc_5: 0.1961 - dense_acc_6: 0.2471 - dense_acc_7: 0.3373 - dense_acc_8: 0.4549 - dense_acc_9: 0.5216 - dense_acc_10: 0.5843 - dense_acc_11: 0.6902 - dense_acc_12: 0.7608 - dense_acc_13: 0.8157 - dense_acc_14: 0.8706 - dense_acc_15: 0.9216 - dense_acc_16: 0.9451 - dense_acc_17: 0.9569 - dense_acc_18: 0.9608 - dense_acc_19: 0.9804 - dense_acc_20: 0.9843 - dense_acc_21: 0.9882 - dense_acc_22: 0.9922 - dense_acc_23: 0.9922 - dense_acc_24: 0.9922 - dense_acc_25: 0.9922 - dense_acc_26: 0.9922 - dense_acc_27: 0.9922 - dense_acc_28: 0.9922 - dense_acc_29: 0.9922 - dense_acc_30: 0.9922 - dense_acc_31: 0.9922 - dense_acc_32: 0.9961 - dense_acc_33: 0.9961 - dense_acc_34: 0.9961 - dense_acc_35: 1.0000 - dense_acc_36: 1.0000 - dense_acc_37: 1.0000 - dense_acc_38: 1.0000 - dense_acc_39: 1.0000 - dense_acc_40: 1.0000 - dense_acc_41: 1.0000 - dense_acc_42: 1.0000 - dense_acc_43: 1.0000 - dense_acc_44: 1.0000 - dense_acc_45: 1.0000\n",
      "Epoch 69/100\n",
      "255/255 [==============================] - 3s 12ms/sample - loss: 42.2279 - dense_loss: 8.9684e-04 - dense_acc: 0.2941 - dense_acc_1: 0.2667 - dense_acc_2: 0.1686 - dense_acc_3: 0.1137 - dense_acc_4: 0.1569 - dense_acc_5: 0.1647 - dense_acc_6: 0.2627 - dense_acc_7: 0.3686 - dense_acc_8: 0.4706 - dense_acc_9: 0.5294 - dense_acc_10: 0.6000 - dense_acc_11: 0.6784 - dense_acc_12: 0.7608 - dense_acc_13: 0.8196 - dense_acc_14: 0.8667 - dense_acc_15: 0.9137 - dense_acc_16: 0.9294 - dense_acc_17: 0.9529 - dense_acc_18: 0.9647 - dense_acc_19: 0.9843 - dense_acc_20: 0.9843 - dense_acc_21: 0.9882 - dense_acc_22: 0.9882 - dense_acc_23: 0.9922 - dense_acc_24: 0.9922 - dense_acc_25: 0.9922 - dense_acc_26: 0.9922 - dense_acc_27: 0.9922 - dense_acc_28: 0.9922 - dense_acc_29: 0.9922 - dense_acc_30: 0.9922 - dense_acc_31: 0.9922 - dense_acc_32: 0.9922 - dense_acc_33: 0.9961 - dense_acc_34: 1.0000 - dense_acc_35: 1.0000 - dense_acc_36: 1.0000 - dense_acc_37: 1.0000 - dense_acc_38: 1.0000 - dense_acc_39: 1.0000 - dense_acc_40: 1.0000 - dense_acc_41: 1.0000 - dense_acc_42: 1.0000 - dense_acc_43: 1.0000 - dense_acc_44: 1.0000 - dense_acc_45: 1.0000\n",
      "Epoch 70/100\n",
      "255/255 [==============================] - 3s 12ms/sample - loss: 42.0910 - dense_loss: 8.4635e-04 - dense_acc: 0.3059 - dense_acc_1: 0.2549 - dense_acc_2: 0.1686 - dense_acc_3: 0.1412 - dense_acc_4: 0.1686 - dense_acc_5: 0.1765 - dense_acc_6: 0.2510 - dense_acc_7: 0.3490 - dense_acc_8: 0.4471 - dense_acc_9: 0.5137 - dense_acc_10: 0.5765 - dense_acc_11: 0.6784 - dense_acc_12: 0.7608 - dense_acc_13: 0.8353 - dense_acc_14: 0.8863 - dense_acc_15: 0.9176 - dense_acc_16: 0.9451 - dense_acc_17: 0.9569 - dense_acc_18: 0.9765 - dense_acc_19: 0.9843 - dense_acc_20: 0.9843 - dense_acc_21: 0.9882 - dense_acc_22: 0.9922 - dense_acc_23: 0.9922 - dense_acc_24: 0.9922 - dense_acc_25: 0.9961 - dense_acc_26: 0.9922 - dense_acc_27: 0.9922 - dense_acc_28: 0.9922 - dense_acc_29: 0.9922 - dense_acc_30: 0.9922 - dense_acc_31: 0.9922 - dense_acc_32: 0.9922 - dense_acc_33: 0.9961 - dense_acc_34: 1.0000 - dense_acc_35: 1.0000 - dense_acc_36: 1.0000 - dense_acc_37: 1.0000 - dense_acc_38: 1.0000 - dense_acc_39: 1.0000 - dense_acc_40: 1.0000 - dense_acc_41: 1.0000 - dense_acc_42: 1.0000 - dense_acc_43: 1.0000 - dense_acc_44: 1.0000 - dense_acc_45: 1.0000\n",
      "Epoch 71/100\n",
      "255/255 [==============================] - 3s 12ms/sample - loss: 41.6033 - dense_loss: 7.4558e-04 - dense_acc: 0.3059 - dense_acc_1: 0.2667 - dense_acc_2: 0.1882 - dense_acc_3: 0.1294 - dense_acc_4: 0.1765 - dense_acc_5: 0.1961 - dense_acc_6: 0.2588 - dense_acc_7: 0.3529 - dense_acc_8: 0.4549 - dense_acc_9: 0.5216 - dense_acc_10: 0.6000 - dense_acc_11: 0.6902 - dense_acc_12: 0.7569 - dense_acc_13: 0.8235 - dense_acc_14: 0.8863 - dense_acc_15: 0.9137 - dense_acc_16: 0.9451 - dense_acc_17: 0.9529 - dense_acc_18: 0.9765 - dense_acc_19: 0.9804 - dense_acc_20: 0.9843 - dense_acc_21: 0.9882 - dense_acc_22: 0.9922 - dense_acc_23: 0.9922 - dense_acc_24: 0.9922 - dense_acc_25: 0.9922 - dense_acc_26: 0.9922 - dense_acc_27: 0.9922 - dense_acc_28: 0.9922 - dense_acc_29: 0.9922 - dense_acc_30: 0.9922 - dense_acc_31: 0.9922 - dense_acc_32: 0.9922 - dense_acc_33: 0.9961 - dense_acc_34: 0.9961 - dense_acc_35: 1.0000 - dense_acc_36: 1.0000 - dense_acc_37: 1.0000 - dense_acc_38: 1.0000 - dense_acc_39: 1.0000 - dense_acc_40: 1.0000 - dense_acc_41: 1.0000 - dense_acc_42: 1.0000 - dense_acc_43: 1.0000 - dense_acc_44: 1.0000 - dense_acc_45: 1.0000\n",
      "Epoch 72/100\n",
      "255/255 [==============================] - 3s 12ms/sample - loss: 41.3599 - dense_loss: 7.8746e-04 - dense_acc: 0.3059 - dense_acc_1: 0.2784 - dense_acc_2: 0.1882 - dense_acc_3: 0.1255 - dense_acc_4: 0.1922 - dense_acc_5: 0.1843 - dense_acc_6: 0.2549 - dense_acc_7: 0.3569 - dense_acc_8: 0.4431 - dense_acc_9: 0.5216 - dense_acc_10: 0.5882 - dense_acc_11: 0.6941 - dense_acc_12: 0.7451 - dense_acc_13: 0.8314 - dense_acc_14: 0.8824 - dense_acc_15: 0.9176 - dense_acc_16: 0.9412 - dense_acc_17: 0.9529 - dense_acc_18: 0.9725 - dense_acc_19: 0.9804 - dense_acc_20: 0.9843 - dense_acc_21: 0.9882 - dense_acc_22: 0.9922 - dense_acc_23: 0.9922 - dense_acc_24: 0.9922 - dense_acc_25: 0.9922 - dense_acc_26: 0.9922 - dense_acc_27: 0.9922 - dense_acc_28: 0.9922 - dense_acc_29: 0.9922 - dense_acc_30: 0.9922 - dense_acc_31: 0.9922 - dense_acc_32: 0.9922 - dense_acc_33: 0.9961 - dense_acc_34: 1.0000 - dense_acc_35: 1.0000 - dense_acc_36: 1.0000 - dense_acc_37: 1.0000 - dense_acc_38: 1.0000 - dense_acc_39: 1.0000 - dense_acc_40: 1.0000 - dense_acc_41: 1.0000 - dense_acc_42: 1.0000 - dense_acc_43: 1.0000 - dense_acc_44: 1.0000 - dense_acc_45: 1.0000\n",
      "Epoch 73/100\n",
      "255/255 [==============================] - 3s 12ms/sample - loss: 41.1176 - dense_loss: 8.0310e-04 - dense_acc: 0.3059 - dense_acc_1: 0.2667 - dense_acc_2: 0.1882 - dense_acc_3: 0.1294 - dense_acc_4: 0.1882 - dense_acc_5: 0.1882 - dense_acc_6: 0.2627 - dense_acc_7: 0.3569 - dense_acc_8: 0.4588 - dense_acc_9: 0.5216 - dense_acc_10: 0.6000 - dense_acc_11: 0.6941 - dense_acc_12: 0.7608 - dense_acc_13: 0.8275 - dense_acc_14: 0.8863 - dense_acc_15: 0.9255 - dense_acc_16: 0.9451 - dense_acc_17: 0.9569 - dense_acc_18: 0.9765 - dense_acc_19: 0.9804 - dense_acc_20: 0.9843 - dense_acc_21: 0.9882 - dense_acc_22: 0.9922 - dense_acc_23: 0.9922 - dense_acc_24: 0.9922 - dense_acc_25: 0.9922 - dense_acc_26: 0.9922 - dense_acc_27: 0.9922 - dense_acc_28: 0.9922 - dense_acc_29: 0.9922 - dense_acc_30: 0.9922 - dense_acc_31: 0.9922 - dense_acc_32: 0.9961 - dense_acc_33: 0.9961 - dense_acc_34: 0.9961 - dense_acc_35: 1.0000 - dense_acc_36: 1.0000 - dense_acc_37: 1.0000 - dense_acc_38: 1.0000 - dense_acc_39: 1.0000 - dense_acc_40: 1.0000 - dense_acc_41: 1.0000 - dense_acc_42: 1.0000 - dense_acc_43: 1.0000 - dense_acc_44: 1.0000 - dense_acc_45: 1.0000\n",
      "Epoch 74/100\n",
      "255/255 [==============================] - 3s 12ms/sample - loss: 40.9543 - dense_loss: 8.1569e-04 - dense_acc: 0.3059 - dense_acc_1: 0.2784 - dense_acc_2: 0.1961 - dense_acc_3: 0.1490 - dense_acc_4: 0.1843 - dense_acc_5: 0.1961 - dense_acc_6: 0.2588 - dense_acc_7: 0.3608 - dense_acc_8: 0.4588 - dense_acc_9: 0.5255 - dense_acc_10: 0.6000 - dense_acc_11: 0.6980 - dense_acc_12: 0.7569 - dense_acc_13: 0.8235 - dense_acc_14: 0.8863 - dense_acc_15: 0.9216 - dense_acc_16: 0.9451 - dense_acc_17: 0.9529 - dense_acc_18: 0.9686 - dense_acc_19: 0.9804 - dense_acc_20: 0.9843 - dense_acc_21: 0.9882 - dense_acc_22: 0.9922 - dense_acc_23: 0.9922 - dense_acc_24: 0.9922 - dense_acc_25: 0.9922 - dense_acc_26: 0.9922 - dense_acc_27: 0.9922 - dense_acc_28: 0.9922 - dense_acc_29: 0.9922 - dense_acc_30: 0.9922 - dense_acc_31: 0.9922 - dense_acc_32: 0.9922 - dense_acc_33: 0.9961 - dense_acc_34: 0.9961 - dense_acc_35: 1.0000 - dense_acc_36: 1.0000 - dense_acc_37: 1.0000 - dense_acc_38: 1.0000 - dense_acc_39: 1.0000 - dense_acc_40: 1.0000 - dense_acc_41: 1.0000 - dense_acc_42: 1.0000 - dense_acc_43: 1.0000 - dense_acc_44: 1.0000 - dense_acc_45: 1.0000\n",
      "Epoch 75/100\n",
      "255/255 [==============================] - 3s 12ms/sample - loss: 40.7720 - dense_loss: 8.5322e-04 - dense_acc: 0.3059 - dense_acc_1: 0.2745 - dense_acc_2: 0.1804 - dense_acc_3: 0.1529 - dense_acc_4: 0.1765 - dense_acc_5: 0.1882 - dense_acc_6: 0.2627 - dense_acc_7: 0.3686 - dense_acc_8: 0.4588 - dense_acc_9: 0.5216 - dense_acc_10: 0.5922 - dense_acc_11: 0.7020 - dense_acc_12: 0.7608 - dense_acc_13: 0.8275 - dense_acc_14: 0.8863 - dense_acc_15: 0.9255 - dense_acc_16: 0.9412 - dense_acc_17: 0.9569 - dense_acc_18: 0.9765 - dense_acc_19: 0.9804 - dense_acc_20: 0.9843 - dense_acc_21: 0.9882 - dense_acc_22: 0.9922 - dense_acc_23: 0.9922 - dense_acc_24: 0.9922 - dense_acc_25: 0.9961 - dense_acc_26: 0.9922 - dense_acc_27: 0.9922 - dense_acc_28: 0.9922 - dense_acc_29: 0.9922 - dense_acc_30: 0.9922 - dense_acc_31: 0.9922 - dense_acc_32: 0.9922 - dense_acc_33: 0.9961 - dense_acc_34: 0.9961 - dense_acc_35: 1.0000 - dense_acc_36: 1.0000 - dense_acc_37: 1.0000 - dense_acc_38: 1.0000 - dense_acc_39: 1.0000 - dense_acc_40: 1.0000 - dense_acc_41: 1.0000 - dense_acc_42: 1.0000 - dense_acc_43: 1.0000 - dense_acc_44: 1.0000 - dense_acc_45: 1.0000\n",
      "Epoch 76/100\n",
      "255/255 [==============================] - 3s 12ms/sample - loss: 40.5957 - dense_loss: 8.5168e-04 - dense_acc: 0.3059 - dense_acc_1: 0.2706 - dense_acc_2: 0.1922 - dense_acc_3: 0.1490 - dense_acc_4: 0.1765 - dense_acc_5: 0.1843 - dense_acc_6: 0.2745 - dense_acc_7: 0.3686 - dense_acc_8: 0.4627 - dense_acc_9: 0.5255 - dense_acc_10: 0.6000 - dense_acc_11: 0.6980 - dense_acc_12: 0.7569 - dense_acc_13: 0.8235 - dense_acc_14: 0.8863 - dense_acc_15: 0.9216 - dense_acc_16: 0.9451 - dense_acc_17: 0.9569 - dense_acc_18: 0.9765 - dense_acc_19: 0.9804 - dense_acc_20: 0.9843 - dense_acc_21: 0.9882 - dense_acc_22: 0.9922 - dense_acc_23: 0.9922 - dense_acc_24: 0.9922 - dense_acc_25: 0.9961 - dense_acc_26: 0.9922 - dense_acc_27: 0.9922 - dense_acc_28: 0.9922 - dense_acc_29: 0.9922 - dense_acc_30: 0.9922 - dense_acc_31: 0.9922 - dense_acc_32: 0.9922 - dense_acc_33: 0.9961 - dense_acc_34: 0.9961 - dense_acc_35: 1.0000 - dense_acc_36: 1.0000 - dense_acc_37: 1.0000 - dense_acc_38: 1.0000 - dense_acc_39: 1.0000 - dense_acc_40: 1.0000 - dense_acc_41: 1.0000 - dense_acc_42: 1.0000 - dense_acc_43: 1.0000 - dense_acc_44: 1.0000 - dense_acc_45: 1.0000\n",
      "Epoch 77/100\n",
      "255/255 [==============================] - 3s 12ms/sample - loss: 40.4747 - dense_loss: 8.8675e-04 - dense_acc: 0.3059 - dense_acc_1: 0.2627 - dense_acc_2: 0.2235 - dense_acc_3: 0.1569 - dense_acc_4: 0.1882 - dense_acc_5: 0.2000 - dense_acc_6: 0.2745 - dense_acc_7: 0.3647 - dense_acc_8: 0.4588 - dense_acc_9: 0.5255 - dense_acc_10: 0.5961 - dense_acc_11: 0.6941 - dense_acc_12: 0.7529 - dense_acc_13: 0.8275 - dense_acc_14: 0.8863 - dense_acc_15: 0.9176 - dense_acc_16: 0.9451 - dense_acc_17: 0.9569 - dense_acc_18: 0.9725 - dense_acc_19: 0.9804 - dense_acc_20: 0.9843 - dense_acc_21: 0.9882 - dense_acc_22: 0.9922 - dense_acc_23: 0.9922 - dense_acc_24: 0.9922 - dense_acc_25: 0.9961 - dense_acc_26: 0.9922 - dense_acc_27: 0.9922 - dense_acc_28: 0.9922 - dense_acc_29: 0.9922 - dense_acc_30: 0.9922 - dense_acc_31: 0.9922 - dense_acc_32: 0.9922 - dense_acc_33: 0.9961 - dense_acc_34: 0.9961 - dense_acc_35: 1.0000 - dense_acc_36: 1.0000 - dense_acc_37: 1.0000 - dense_acc_38: 1.0000 - dense_acc_39: 1.0000 - dense_acc_40: 1.0000 - dense_acc_41: 1.0000 - dense_acc_42: 1.0000 - dense_acc_43: 1.0000 - dense_acc_44: 1.0000 - dense_acc_45: 1.0000\n",
      "Epoch 78/100\n",
      "255/255 [==============================] - 3s 12ms/sample - loss: 40.3324 - dense_loss: 8.9430e-04 - dense_acc: 0.3059 - dense_acc_1: 0.2667 - dense_acc_2: 0.2000 - dense_acc_3: 0.1490 - dense_acc_4: 0.1922 - dense_acc_5: 0.1804 - dense_acc_6: 0.2824 - dense_acc_7: 0.3647 - dense_acc_8: 0.4549 - dense_acc_9: 0.5333 - dense_acc_10: 0.6000 - dense_acc_11: 0.6980 - dense_acc_12: 0.7569 - dense_acc_13: 0.8275 - dense_acc_14: 0.8902 - dense_acc_15: 0.9255 - dense_acc_16: 0.9451 - dense_acc_17: 0.9569 - dense_acc_18: 0.9765 - dense_acc_19: 0.9804 - dense_acc_20: 0.9843 - dense_acc_21: 0.9882 - dense_acc_22: 0.9922 - dense_acc_23: 0.9922 - dense_acc_24: 0.9922 - dense_acc_25: 0.9961 - dense_acc_26: 0.9922 - dense_acc_27: 0.9922 - dense_acc_28: 0.9922 - dense_acc_29: 0.9922 - dense_acc_30: 0.9922 - dense_acc_31: 0.9922 - dense_acc_32: 0.9922 - dense_acc_33: 0.9961 - dense_acc_34: 0.9961 - dense_acc_35: 1.0000 - dense_acc_36: 1.0000 - dense_acc_37: 1.0000 - dense_acc_38: 1.0000 - dense_acc_39: 1.0000 - dense_acc_40: 1.0000 - dense_acc_41: 1.0000 - dense_acc_42: 1.0000 - dense_acc_43: 1.0000 - dense_acc_44: 1.0000 - dense_acc_45: 1.0000\n",
      "Epoch 79/100\n",
      "255/255 [==============================] - 3s 12ms/sample - loss: 40.1360 - dense_loss: 8.8921e-04 - dense_acc: 0.3059 - dense_acc_1: 0.2627 - dense_acc_2: 0.1843 - dense_acc_3: 0.1569 - dense_acc_4: 0.1804 - dense_acc_5: 0.2000 - dense_acc_6: 0.2824 - dense_acc_7: 0.3569 - dense_acc_8: 0.4627 - dense_acc_9: 0.5333 - dense_acc_10: 0.6118 - dense_acc_11: 0.7020 - dense_acc_12: 0.7647 - dense_acc_13: 0.8275 - dense_acc_14: 0.8863 - dense_acc_15: 0.9255 - dense_acc_16: 0.9451 - dense_acc_17: 0.9569 - dense_acc_18: 0.9725 - dense_acc_19: 0.9804 - dense_acc_20: 0.9843 - dense_acc_21: 0.9882 - dense_acc_22: 0.9922 - dense_acc_23: 0.9922 - dense_acc_24: 0.9922 - dense_acc_25: 0.9961 - dense_acc_26: 0.9922 - dense_acc_27: 0.9922 - dense_acc_28: 0.9922 - dense_acc_29: 0.9922 - dense_acc_30: 0.9922 - dense_acc_31: 0.9922 - dense_acc_32: 0.9922 - dense_acc_33: 0.9961 - dense_acc_34: 0.9961 - dense_acc_35: 1.0000 - dense_acc_36: 1.0000 - dense_acc_37: 1.0000 - dense_acc_38: 1.0000 - dense_acc_39: 1.0000 - dense_acc_40: 1.0000 - dense_acc_41: 1.0000 - dense_acc_42: 1.0000 - dense_acc_43: 1.0000 - dense_acc_44: 1.0000 - dense_acc_45: 1.0000\n",
      "Epoch 80/100\n",
      "255/255 [==============================] - 3s 12ms/sample - loss: 39.9778 - dense_loss: 9.0090e-04 - dense_acc: 0.3059 - dense_acc_1: 0.2902 - dense_acc_2: 0.2235 - dense_acc_3: 0.1647 - dense_acc_4: 0.1922 - dense_acc_5: 0.2039 - dense_acc_6: 0.2824 - dense_acc_7: 0.3569 - dense_acc_8: 0.4667 - dense_acc_9: 0.5333 - dense_acc_10: 0.6078 - dense_acc_11: 0.7020 - dense_acc_12: 0.7608 - dense_acc_13: 0.8235 - dense_acc_14: 0.8863 - dense_acc_15: 0.9255 - dense_acc_16: 0.9451 - dense_acc_17: 0.9569 - dense_acc_18: 0.9765 - dense_acc_19: 0.9804 - dense_acc_20: 0.9843 - dense_acc_21: 0.9882 - dense_acc_22: 0.9922 - dense_acc_23: 0.9922 - dense_acc_24: 0.9922 - dense_acc_25: 0.9961 - dense_acc_26: 0.9922 - dense_acc_27: 0.9922 - dense_acc_28: 0.9922 - dense_acc_29: 0.9922 - dense_acc_30: 0.9922 - dense_acc_31: 0.9922 - dense_acc_32: 0.9922 - dense_acc_33: 0.9961 - dense_acc_34: 0.9961 - dense_acc_35: 1.0000 - dense_acc_36: 1.0000 - dense_acc_37: 1.0000 - dense_acc_38: 1.0000 - dense_acc_39: 1.0000 - dense_acc_40: 1.0000 - dense_acc_41: 1.0000 - dense_acc_42: 1.0000 - dense_acc_43: 1.0000 - dense_acc_44: 1.0000 - dense_acc_45: 1.0000\n",
      "Epoch 81/100\n",
      "255/255 [==============================] - 3s 12ms/sample - loss: 39.8552 - dense_loss: 8.7834e-04 - dense_acc: 0.3059 - dense_acc_1: 0.2784 - dense_acc_2: 0.2118 - dense_acc_3: 0.1725 - dense_acc_4: 0.2078 - dense_acc_5: 0.2000 - dense_acc_6: 0.2863 - dense_acc_7: 0.3608 - dense_acc_8: 0.4706 - dense_acc_9: 0.5373 - dense_acc_10: 0.6157 - dense_acc_11: 0.6980 - dense_acc_12: 0.7608 - dense_acc_13: 0.8275 - dense_acc_14: 0.8863 - dense_acc_15: 0.9216 - dense_acc_16: 0.9451 - dense_acc_17: 0.9569 - dense_acc_18: 0.9765 - dense_acc_19: 0.9804 - dense_acc_20: 0.9843 - dense_acc_21: 0.9882 - dense_acc_22: 0.9922 - dense_acc_23: 0.9922 - dense_acc_24: 0.9922 - dense_acc_25: 0.9961 - dense_acc_26: 0.9922 - dense_acc_27: 0.9922 - dense_acc_28: 0.9922 - dense_acc_29: 0.9922 - dense_acc_30: 0.9922 - dense_acc_31: 0.9922 - dense_acc_32: 0.9922 - dense_acc_33: 0.9961 - dense_acc_34: 0.9961 - dense_acc_35: 1.0000 - dense_acc_36: 1.0000 - dense_acc_37: 1.0000 - dense_acc_38: 1.0000 - dense_acc_39: 1.0000 - dense_acc_40: 1.0000 - dense_acc_41: 1.0000 - dense_acc_42: 1.0000 - dense_acc_43: 1.0000 - dense_acc_44: 1.0000 - dense_acc_45: 1.0000\n",
      "Epoch 82/100\n",
      "255/255 [==============================] - 3s 12ms/sample - loss: 39.6508 - dense_loss: 8.8953e-04 - dense_acc: 0.3098 - dense_acc_1: 0.2706 - dense_acc_2: 0.2157 - dense_acc_3: 0.1608 - dense_acc_4: 0.2118 - dense_acc_5: 0.2039 - dense_acc_6: 0.2824 - dense_acc_7: 0.3686 - dense_acc_8: 0.4627 - dense_acc_9: 0.5294 - dense_acc_10: 0.6078 - dense_acc_11: 0.6941 - dense_acc_12: 0.7608 - dense_acc_13: 0.8275 - dense_acc_14: 0.8863 - dense_acc_15: 0.9216 - dense_acc_16: 0.9451 - dense_acc_17: 0.9569 - dense_acc_18: 0.9725 - dense_acc_19: 0.9804 - dense_acc_20: 0.9843 - dense_acc_21: 0.9882 - dense_acc_22: 0.9922 - dense_acc_23: 0.9922 - dense_acc_24: 0.9922 - dense_acc_25: 1.0000 - dense_acc_26: 0.9922 - dense_acc_27: 0.9922 - dense_acc_28: 0.9922 - dense_acc_29: 0.9922 - dense_acc_30: 0.9922 - dense_acc_31: 0.9922 - dense_acc_32: 0.9922 - dense_acc_33: 0.9961 - dense_acc_34: 0.9961 - dense_acc_35: 1.0000 - dense_acc_36: 1.0000 - dense_acc_37: 1.0000 - dense_acc_38: 1.0000 - dense_acc_39: 1.0000 - dense_acc_40: 1.0000 - dense_acc_41: 1.0000 - dense_acc_42: 1.0000 - dense_acc_43: 1.0000 - dense_acc_44: 1.0000 - dense_acc_45: 1.0000\n",
      "Epoch 83/100\n",
      "255/255 [==============================] - 3s 12ms/sample - loss: 39.5537 - dense_loss: 8.9761e-04 - dense_acc: 0.3059 - dense_acc_1: 0.2863 - dense_acc_2: 0.2157 - dense_acc_3: 0.1608 - dense_acc_4: 0.2157 - dense_acc_5: 0.2118 - dense_acc_6: 0.2980 - dense_acc_7: 0.3647 - dense_acc_8: 0.4667 - dense_acc_9: 0.5333 - dense_acc_10: 0.6000 - dense_acc_11: 0.6941 - dense_acc_12: 0.7647 - dense_acc_13: 0.8353 - dense_acc_14: 0.8902 - dense_acc_15: 0.9255 - dense_acc_16: 0.9412 - dense_acc_17: 0.9569 - dense_acc_18: 0.9725 - dense_acc_19: 0.9804 - dense_acc_20: 0.9843 - dense_acc_21: 0.9882 - dense_acc_22: 0.9922 - dense_acc_23: 0.9922 - dense_acc_24: 0.9922 - dense_acc_25: 1.0000 - dense_acc_26: 0.9922 - dense_acc_27: 0.9922 - dense_acc_28: 0.9922 - dense_acc_29: 0.9922 - dense_acc_30: 0.9922 - dense_acc_31: 0.9922 - dense_acc_32: 0.9922 - dense_acc_33: 0.9961 - dense_acc_34: 0.9961 - dense_acc_35: 1.0000 - dense_acc_36: 1.0000 - dense_acc_37: 1.0000 - dense_acc_38: 1.0000 - dense_acc_39: 1.0000 - dense_acc_40: 1.0000 - dense_acc_41: 1.0000 - dense_acc_42: 1.0000 - dense_acc_43: 1.0000 - dense_acc_44: 1.0000 - dense_acc_45: 1.0000\n",
      "Epoch 84/100\n",
      "255/255 [==============================] - 3s 12ms/sample - loss: 39.3843 - dense_loss: 8.8868e-04 - dense_acc: 0.3098 - dense_acc_1: 0.2824 - dense_acc_2: 0.2275 - dense_acc_3: 0.1686 - dense_acc_4: 0.1843 - dense_acc_5: 0.2039 - dense_acc_6: 0.2863 - dense_acc_7: 0.3686 - dense_acc_8: 0.4627 - dense_acc_9: 0.5373 - dense_acc_10: 0.6118 - dense_acc_11: 0.7059 - dense_acc_12: 0.7647 - dense_acc_13: 0.8314 - dense_acc_14: 0.8902 - dense_acc_15: 0.9216 - dense_acc_16: 0.9451 - dense_acc_17: 0.9569 - dense_acc_18: 0.9725 - dense_acc_19: 0.9804 - dense_acc_20: 0.9843 - dense_acc_21: 0.9882 - dense_acc_22: 0.9922 - dense_acc_23: 0.9922 - dense_acc_24: 0.9922 - dense_acc_25: 1.0000 - dense_acc_26: 0.9922 - dense_acc_27: 0.9922 - dense_acc_28: 0.9922 - dense_acc_29: 0.9922 - dense_acc_30: 0.9922 - dense_acc_31: 0.9922 - dense_acc_32: 0.9922 - dense_acc_33: 0.9961 - dense_acc_34: 0.9961 - dense_acc_35: 1.0000 - dense_acc_36: 1.0000 - dense_acc_37: 1.0000 - dense_acc_38: 1.0000 - dense_acc_39: 1.0000 - dense_acc_40: 1.0000 - dense_acc_41: 1.0000 - dense_acc_42: 1.0000 - dense_acc_43: 1.0000 - dense_acc_44: 1.0000 - dense_acc_45: 1.0000\n",
      "Epoch 85/100\n",
      "255/255 [==============================] - 3s 12ms/sample - loss: 39.2353 - dense_loss: 8.8909e-04 - dense_acc: 0.3098 - dense_acc_1: 0.2706 - dense_acc_2: 0.2157 - dense_acc_3: 0.1843 - dense_acc_4: 0.2235 - dense_acc_5: 0.2118 - dense_acc_6: 0.2784 - dense_acc_7: 0.3765 - dense_acc_8: 0.4745 - dense_acc_9: 0.5333 - dense_acc_10: 0.6118 - dense_acc_11: 0.6980 - dense_acc_12: 0.7647 - dense_acc_13: 0.8314 - dense_acc_14: 0.8902 - dense_acc_15: 0.9255 - dense_acc_16: 0.9451 - dense_acc_17: 0.9569 - dense_acc_18: 0.9725 - dense_acc_19: 0.9804 - dense_acc_20: 0.9843 - dense_acc_21: 0.9882 - dense_acc_22: 0.9922 - dense_acc_23: 0.9922 - dense_acc_24: 0.9922 - dense_acc_25: 1.0000 - dense_acc_26: 0.9922 - dense_acc_27: 0.9922 - dense_acc_28: 0.9922 - dense_acc_29: 0.9922 - dense_acc_30: 0.9922 - dense_acc_31: 0.9922 - dense_acc_32: 0.9922 - dense_acc_33: 0.9961 - dense_acc_34: 0.9961 - dense_acc_35: 1.0000 - dense_acc_36: 1.0000 - dense_acc_37: 1.0000 - dense_acc_38: 1.0000 - dense_acc_39: 1.0000 - dense_acc_40: 1.0000 - dense_acc_41: 1.0000 - dense_acc_42: 1.0000 - dense_acc_43: 1.0000 - dense_acc_44: 1.0000 - dense_acc_45: 1.0000\n",
      "Epoch 86/100\n",
      "255/255 [==============================] - 3s 12ms/sample - loss: 39.1064 - dense_loss: 8.9802e-04 - dense_acc: 0.3098 - dense_acc_1: 0.2863 - dense_acc_2: 0.2314 - dense_acc_3: 0.1843 - dense_acc_4: 0.2196 - dense_acc_5: 0.2157 - dense_acc_6: 0.2941 - dense_acc_7: 0.3765 - dense_acc_8: 0.4706 - dense_acc_9: 0.5412 - dense_acc_10: 0.6118 - dense_acc_11: 0.7020 - dense_acc_12: 0.7647 - dense_acc_13: 0.8235 - dense_acc_14: 0.8863 - dense_acc_15: 0.9216 - dense_acc_16: 0.9451 - dense_acc_17: 0.9569 - dense_acc_18: 0.9765 - dense_acc_19: 0.9804 - dense_acc_20: 0.9843 - dense_acc_21: 0.9882 - dense_acc_22: 0.9922 - dense_acc_23: 0.9922 - dense_acc_24: 0.9922 - dense_acc_25: 0.9922 - dense_acc_26: 0.9922 - dense_acc_27: 0.9922 - dense_acc_28: 0.9922 - dense_acc_29: 0.9922 - dense_acc_30: 0.9922 - dense_acc_31: 0.9922 - dense_acc_32: 0.9922 - dense_acc_33: 0.9961 - dense_acc_34: 0.9961 - dense_acc_35: 1.0000 - dense_acc_36: 1.0000 - dense_acc_37: 1.0000 - dense_acc_38: 1.0000 - dense_acc_39: 1.0000 - dense_acc_40: 1.0000 - dense_acc_41: 1.0000 - dense_acc_42: 1.0000 - dense_acc_43: 1.0000 - dense_acc_44: 1.0000 - dense_acc_45: 1.0000\n",
      "Epoch 87/100\n",
      "255/255 [==============================] - 3s 12ms/sample - loss: 38.9675 - dense_loss: 8.8715e-04 - dense_acc: 0.3059 - dense_acc_1: 0.2980 - dense_acc_2: 0.2118 - dense_acc_3: 0.1725 - dense_acc_4: 0.2078 - dense_acc_5: 0.2078 - dense_acc_6: 0.3216 - dense_acc_7: 0.3804 - dense_acc_8: 0.4706 - dense_acc_9: 0.5451 - dense_acc_10: 0.6157 - dense_acc_11: 0.7137 - dense_acc_12: 0.7686 - dense_acc_13: 0.8314 - dense_acc_14: 0.8902 - dense_acc_15: 0.9255 - dense_acc_16: 0.9451 - dense_acc_17: 0.9569 - dense_acc_18: 0.9725 - dense_acc_19: 0.9804 - dense_acc_20: 0.9843 - dense_acc_21: 0.9882 - dense_acc_22: 0.9922 - dense_acc_23: 0.9922 - dense_acc_24: 0.9922 - dense_acc_25: 1.0000 - dense_acc_26: 0.9922 - dense_acc_27: 0.9922 - dense_acc_28: 0.9922 - dense_acc_29: 0.9922 - dense_acc_30: 0.9922 - dense_acc_31: 0.9922 - dense_acc_32: 0.9922 - dense_acc_33: 0.9961 - dense_acc_34: 0.9961 - dense_acc_35: 1.0000 - dense_acc_36: 1.0000 - dense_acc_37: 1.0000 - dense_acc_38: 1.0000 - dense_acc_39: 1.0000 - dense_acc_40: 1.0000 - dense_acc_41: 1.0000 - dense_acc_42: 1.0000 - dense_acc_43: 1.0000 - dense_acc_44: 1.0000 - dense_acc_45: 1.0000\n",
      "Epoch 88/100\n",
      "255/255 [==============================] - 3s 12ms/sample - loss: 38.8385 - dense_loss: 8.8704e-04 - dense_acc: 0.3059 - dense_acc_1: 0.2824 - dense_acc_2: 0.2196 - dense_acc_3: 0.1725 - dense_acc_4: 0.2078 - dense_acc_5: 0.2196 - dense_acc_6: 0.2863 - dense_acc_7: 0.3647 - dense_acc_8: 0.4667 - dense_acc_9: 0.5373 - dense_acc_10: 0.6235 - dense_acc_11: 0.7059 - dense_acc_12: 0.7725 - dense_acc_13: 0.8353 - dense_acc_14: 0.8902 - dense_acc_15: 0.9176 - dense_acc_16: 0.9451 - dense_acc_17: 0.9569 - dense_acc_18: 0.9725 - dense_acc_19: 0.9804 - dense_acc_20: 0.9843 - dense_acc_21: 0.9882 - dense_acc_22: 0.9922 - dense_acc_23: 0.9922 - dense_acc_24: 0.9922 - dense_acc_25: 1.0000 - dense_acc_26: 0.9922 - dense_acc_27: 0.9922 - dense_acc_28: 0.9922 - dense_acc_29: 0.9922 - dense_acc_30: 0.9922 - dense_acc_31: 0.9922 - dense_acc_32: 0.9922 - dense_acc_33: 0.9961 - dense_acc_34: 0.9961 - dense_acc_35: 1.0000 - dense_acc_36: 1.0000 - dense_acc_37: 1.0000 - dense_acc_38: 1.0000 - dense_acc_39: 1.0000 - dense_acc_40: 1.0000 - dense_acc_41: 1.0000 - dense_acc_42: 1.0000 - dense_acc_43: 1.0000 - dense_acc_44: 1.0000 - dense_acc_45: 1.0000\n",
      "Epoch 89/100\n",
      "255/255 [==============================] - 3s 12ms/sample - loss: 38.6588 - dense_loss: 8.8496e-04 - dense_acc: 0.3059 - dense_acc_1: 0.2824 - dense_acc_2: 0.2196 - dense_acc_3: 0.1922 - dense_acc_4: 0.2314 - dense_acc_5: 0.2196 - dense_acc_6: 0.2902 - dense_acc_7: 0.3843 - dense_acc_8: 0.4784 - dense_acc_9: 0.5412 - dense_acc_10: 0.6275 - dense_acc_11: 0.7098 - dense_acc_12: 0.7725 - dense_acc_13: 0.8314 - dense_acc_14: 0.8941 - dense_acc_15: 0.9216 - dense_acc_16: 0.9451 - dense_acc_17: 0.9569 - dense_acc_18: 0.9765 - dense_acc_19: 0.9804 - dense_acc_20: 0.9843 - dense_acc_21: 0.9882 - dense_acc_22: 0.9922 - dense_acc_23: 0.9922 - dense_acc_24: 0.9922 - dense_acc_25: 0.9961 - dense_acc_26: 0.9922 - dense_acc_27: 0.9922 - dense_acc_28: 0.9922 - dense_acc_29: 0.9922 - dense_acc_30: 0.9922 - dense_acc_31: 0.9922 - dense_acc_32: 0.9922 - dense_acc_33: 0.9961 - dense_acc_34: 0.9961 - dense_acc_35: 1.0000 - dense_acc_36: 1.0000 - dense_acc_37: 1.0000 - dense_acc_38: 1.0000 - dense_acc_39: 1.0000 - dense_acc_40: 1.0000 - dense_acc_41: 1.0000 - dense_acc_42: 1.0000 - dense_acc_43: 1.0000 - dense_acc_44: 1.0000 - dense_acc_45: 1.0000\n",
      "Epoch 90/100\n",
      "255/255 [==============================] - 3s 12ms/sample - loss: 38.5774 - dense_loss: 8.7765e-04 - dense_acc: 0.3098 - dense_acc_1: 0.2941 - dense_acc_2: 0.2431 - dense_acc_3: 0.1961 - dense_acc_4: 0.2275 - dense_acc_5: 0.2275 - dense_acc_6: 0.3098 - dense_acc_7: 0.3843 - dense_acc_8: 0.4745 - dense_acc_9: 0.5373 - dense_acc_10: 0.6235 - dense_acc_11: 0.7098 - dense_acc_12: 0.7608 - dense_acc_13: 0.8353 - dense_acc_14: 0.8941 - dense_acc_15: 0.9216 - dense_acc_16: 0.9451 - dense_acc_17: 0.9569 - dense_acc_18: 0.9765 - dense_acc_19: 0.9804 - dense_acc_20: 0.9843 - dense_acc_21: 0.9882 - dense_acc_22: 0.9922 - dense_acc_23: 0.9922 - dense_acc_24: 0.9922 - dense_acc_25: 1.0000 - dense_acc_26: 0.9922 - dense_acc_27: 0.9922 - dense_acc_28: 0.9922 - dense_acc_29: 0.9922 - dense_acc_30: 0.9922 - dense_acc_31: 0.9922 - dense_acc_32: 0.9922 - dense_acc_33: 0.9961 - dense_acc_34: 0.9961 - dense_acc_35: 1.0000 - dense_acc_36: 1.0000 - dense_acc_37: 1.0000 - dense_acc_38: 1.0000 - dense_acc_39: 1.0000 - dense_acc_40: 1.0000 - dense_acc_41: 1.0000 - dense_acc_42: 1.0000 - dense_acc_43: 1.0000 - dense_acc_44: 1.0000 - dense_acc_45: 1.0000\n",
      "Epoch 91/100\n",
      "255/255 [==============================] - 3s 12ms/sample - loss: 38.4860 - dense_loss: 8.7277e-04 - dense_acc: 0.3059 - dense_acc_1: 0.3216 - dense_acc_2: 0.2314 - dense_acc_3: 0.1922 - dense_acc_4: 0.2235 - dense_acc_5: 0.2196 - dense_acc_6: 0.3216 - dense_acc_7: 0.3882 - dense_acc_8: 0.4824 - dense_acc_9: 0.5412 - dense_acc_10: 0.6275 - dense_acc_11: 0.7059 - dense_acc_12: 0.7647 - dense_acc_13: 0.8314 - dense_acc_14: 0.8902 - dense_acc_15: 0.9255 - dense_acc_16: 0.9451 - dense_acc_17: 0.9569 - dense_acc_18: 0.9765 - dense_acc_19: 0.9804 - dense_acc_20: 0.9843 - dense_acc_21: 0.9882 - dense_acc_22: 0.9922 - dense_acc_23: 0.9922 - dense_acc_24: 0.9922 - dense_acc_25: 1.0000 - dense_acc_26: 0.9922 - dense_acc_27: 0.9922 - dense_acc_28: 0.9922 - dense_acc_29: 0.9922 - dense_acc_30: 0.9922 - dense_acc_31: 0.9922 - dense_acc_32: 0.9961 - dense_acc_33: 0.9961 - dense_acc_34: 0.9961 - dense_acc_35: 1.0000 - dense_acc_36: 1.0000 - dense_acc_37: 1.0000 - dense_acc_38: 1.0000 - dense_acc_39: 1.0000 - dense_acc_40: 1.0000 - dense_acc_41: 1.0000 - dense_acc_42: 1.0000 - dense_acc_43: 1.0000 - dense_acc_44: 1.0000 - dense_acc_45: 1.0000\n",
      "Epoch 92/100\n",
      "255/255 [==============================] - 3s 12ms/sample - loss: 38.3107 - dense_loss: 8.7594e-04 - dense_acc: 0.3059 - dense_acc_1: 0.2824 - dense_acc_2: 0.2275 - dense_acc_3: 0.1804 - dense_acc_4: 0.2196 - dense_acc_5: 0.2235 - dense_acc_6: 0.2941 - dense_acc_7: 0.3647 - dense_acc_8: 0.4706 - dense_acc_9: 0.5451 - dense_acc_10: 0.6118 - dense_acc_11: 0.7137 - dense_acc_12: 0.7608 - dense_acc_13: 0.8314 - dense_acc_14: 0.8941 - dense_acc_15: 0.9176 - dense_acc_16: 0.9451 - dense_acc_17: 0.9569 - dense_acc_18: 0.9765 - dense_acc_19: 0.9804 - dense_acc_20: 0.9843 - dense_acc_21: 0.9882 - dense_acc_22: 0.9922 - dense_acc_23: 0.9922 - dense_acc_24: 0.9922 - dense_acc_25: 1.0000 - dense_acc_26: 0.9922 - dense_acc_27: 0.9922 - dense_acc_28: 0.9922 - dense_acc_29: 0.9922 - dense_acc_30: 0.9922 - dense_acc_31: 0.9922 - dense_acc_32: 0.9961 - dense_acc_33: 0.9961 - dense_acc_34: 0.9961 - dense_acc_35: 1.0000 - dense_acc_36: 1.0000 - dense_acc_37: 1.0000 - dense_acc_38: 1.0000 - dense_acc_39: 1.0000 - dense_acc_40: 1.0000 - dense_acc_41: 1.0000 - dense_acc_42: 1.0000 - dense_acc_43: 1.0000 - dense_acc_44: 1.0000 - dense_acc_45: 1.0000\n",
      "Epoch 93/100\n",
      "255/255 [==============================] - 3s 12ms/sample - loss: 38.1456 - dense_loss: 8.5062e-04 - dense_acc: 0.2863 - dense_acc_1: 0.3176 - dense_acc_2: 0.2314 - dense_acc_3: 0.1922 - dense_acc_4: 0.2353 - dense_acc_5: 0.2314 - dense_acc_6: 0.2980 - dense_acc_7: 0.3725 - dense_acc_8: 0.4941 - dense_acc_9: 0.5451 - dense_acc_10: 0.6275 - dense_acc_11: 0.7098 - dense_acc_12: 0.7686 - dense_acc_13: 0.8314 - dense_acc_14: 0.8902 - dense_acc_15: 0.9255 - dense_acc_16: 0.9451 - dense_acc_17: 0.9569 - dense_acc_18: 0.9765 - dense_acc_19: 0.9804 - dense_acc_20: 0.9843 - dense_acc_21: 0.9882 - dense_acc_22: 0.9922 - dense_acc_23: 0.9922 - dense_acc_24: 0.9922 - dense_acc_25: 1.0000 - dense_acc_26: 0.9922 - dense_acc_27: 0.9922 - dense_acc_28: 0.9922 - dense_acc_29: 0.9922 - dense_acc_30: 0.9922 - dense_acc_31: 0.9922 - dense_acc_32: 0.9922 - dense_acc_33: 0.9961 - dense_acc_34: 0.9961 - dense_acc_35: 1.0000 - dense_acc_36: 1.0000 - dense_acc_37: 1.0000 - dense_acc_38: 1.0000 - dense_acc_39: 1.0000 - dense_acc_40: 1.0000 - dense_acc_41: 1.0000 - dense_acc_42: 1.0000 - dense_acc_43: 1.0000 - dense_acc_44: 1.0000 - dense_acc_45: 1.0000\n",
      "Epoch 94/100\n",
      "255/255 [==============================] - 3s 12ms/sample - loss: 38.0401 - dense_loss: 8.4567e-04 - dense_acc: 0.3098 - dense_acc_1: 0.3216 - dense_acc_2: 0.2392 - dense_acc_3: 0.1961 - dense_acc_4: 0.2235 - dense_acc_5: 0.2118 - dense_acc_6: 0.3059 - dense_acc_7: 0.3961 - dense_acc_8: 0.4706 - dense_acc_9: 0.5451 - dense_acc_10: 0.6275 - dense_acc_11: 0.7098 - dense_acc_12: 0.7686 - dense_acc_13: 0.8353 - dense_acc_14: 0.8941 - dense_acc_15: 0.9255 - dense_acc_16: 0.9451 - dense_acc_17: 0.9569 - dense_acc_18: 0.9765 - dense_acc_19: 0.9843 - dense_acc_20: 0.9843 - dense_acc_21: 0.9882 - dense_acc_22: 0.9922 - dense_acc_23: 0.9922 - dense_acc_24: 0.9922 - dense_acc_25: 1.0000 - dense_acc_26: 0.9922 - dense_acc_27: 0.9922 - dense_acc_28: 0.9922 - dense_acc_29: 0.9922 - dense_acc_30: 0.9922 - dense_acc_31: 0.9922 - dense_acc_32: 0.9922 - dense_acc_33: 0.9961 - dense_acc_34: 0.9961 - dense_acc_35: 1.0000 - dense_acc_36: 1.0000 - dense_acc_37: 1.0000 - dense_acc_38: 1.0000 - dense_acc_39: 1.0000 - dense_acc_40: 1.0000 - dense_acc_41: 1.0000 - dense_acc_42: 1.0000 - dense_acc_43: 1.0000 - dense_acc_44: 1.0000 - dense_acc_45: 1.0000\n",
      "Epoch 95/100\n",
      "255/255 [==============================] - 3s 12ms/sample - loss: 37.9513 - dense_loss: 8.4683e-04 - dense_acc: 0.3137 - dense_acc_1: 0.3216 - dense_acc_2: 0.2392 - dense_acc_3: 0.2000 - dense_acc_4: 0.2353 - dense_acc_5: 0.2314 - dense_acc_6: 0.3020 - dense_acc_7: 0.3843 - dense_acc_8: 0.4784 - dense_acc_9: 0.5529 - dense_acc_10: 0.6314 - dense_acc_11: 0.7137 - dense_acc_12: 0.7686 - dense_acc_13: 0.8353 - dense_acc_14: 0.8902 - dense_acc_15: 0.9255 - dense_acc_16: 0.9451 - dense_acc_17: 0.9608 - dense_acc_18: 0.9765 - dense_acc_19: 0.9804 - dense_acc_20: 0.9843 - dense_acc_21: 0.9882 - dense_acc_22: 0.9922 - dense_acc_23: 0.9922 - dense_acc_24: 0.9922 - dense_acc_25: 1.0000 - dense_acc_26: 0.9922 - dense_acc_27: 0.9922 - dense_acc_28: 0.9922 - dense_acc_29: 0.9922 - dense_acc_30: 0.9922 - dense_acc_31: 0.9922 - dense_acc_32: 0.9922 - dense_acc_33: 0.9961 - dense_acc_34: 0.9961 - dense_acc_35: 1.0000 - dense_acc_36: 1.0000 - dense_acc_37: 1.0000 - dense_acc_38: 1.0000 - dense_acc_39: 1.0000 - dense_acc_40: 1.0000 - dense_acc_41: 1.0000 - dense_acc_42: 1.0000 - dense_acc_43: 1.0000 - dense_acc_44: 1.0000 - dense_acc_45: 1.0000\n",
      "Epoch 96/100\n",
      "255/255 [==============================] - 3s 12ms/sample - loss: 37.7713 - dense_loss: 8.3896e-04 - dense_acc: 0.3137 - dense_acc_1: 0.3373 - dense_acc_2: 0.2353 - dense_acc_3: 0.2039 - dense_acc_4: 0.2275 - dense_acc_5: 0.2196 - dense_acc_6: 0.3020 - dense_acc_7: 0.3961 - dense_acc_8: 0.4863 - dense_acc_9: 0.5490 - dense_acc_10: 0.6353 - dense_acc_11: 0.7098 - dense_acc_12: 0.7843 - dense_acc_13: 0.8275 - dense_acc_14: 0.8941 - dense_acc_15: 0.9255 - dense_acc_16: 0.9451 - dense_acc_17: 0.9608 - dense_acc_18: 0.9765 - dense_acc_19: 0.9804 - dense_acc_20: 0.9843 - dense_acc_21: 0.9882 - dense_acc_22: 0.9922 - dense_acc_23: 0.9922 - dense_acc_24: 0.9922 - dense_acc_25: 1.0000 - dense_acc_26: 0.9922 - dense_acc_27: 0.9922 - dense_acc_28: 0.9922 - dense_acc_29: 0.9922 - dense_acc_30: 0.9922 - dense_acc_31: 0.9922 - dense_acc_32: 0.9922 - dense_acc_33: 0.9961 - dense_acc_34: 0.9961 - dense_acc_35: 1.0000 - dense_acc_36: 1.0000 - dense_acc_37: 1.0000 - dense_acc_38: 1.0000 - dense_acc_39: 1.0000 - dense_acc_40: 1.0000 - dense_acc_41: 1.0000 - dense_acc_42: 1.0000 - dense_acc_43: 1.0000 - dense_acc_44: 1.0000 - dense_acc_45: 1.0000\n",
      "Epoch 97/100\n",
      "255/255 [==============================] - 3s 12ms/sample - loss: 37.5898 - dense_loss: 8.3156e-04 - dense_acc: 0.3059 - dense_acc_1: 0.3373 - dense_acc_2: 0.2431 - dense_acc_3: 0.2039 - dense_acc_4: 0.2471 - dense_acc_5: 0.2314 - dense_acc_6: 0.3255 - dense_acc_7: 0.3843 - dense_acc_8: 0.4902 - dense_acc_9: 0.5412 - dense_acc_10: 0.6392 - dense_acc_11: 0.7137 - dense_acc_12: 0.7647 - dense_acc_13: 0.8353 - dense_acc_14: 0.8902 - dense_acc_15: 0.9255 - dense_acc_16: 0.9451 - dense_acc_17: 0.9608 - dense_acc_18: 0.9765 - dense_acc_19: 0.9804 - dense_acc_20: 0.9843 - dense_acc_21: 0.9882 - dense_acc_22: 0.9922 - dense_acc_23: 0.9922 - dense_acc_24: 0.9922 - dense_acc_25: 1.0000 - dense_acc_26: 0.9922 - dense_acc_27: 0.9922 - dense_acc_28: 0.9922 - dense_acc_29: 0.9922 - dense_acc_30: 0.9922 - dense_acc_31: 0.9922 - dense_acc_32: 0.9922 - dense_acc_33: 0.9961 - dense_acc_34: 0.9961 - dense_acc_35: 1.0000 - dense_acc_36: 1.0000 - dense_acc_37: 1.0000 - dense_acc_38: 1.0000 - dense_acc_39: 1.0000 - dense_acc_40: 1.0000 - dense_acc_41: 1.0000 - dense_acc_42: 1.0000 - dense_acc_43: 1.0000 - dense_acc_44: 1.0000 - dense_acc_45: 1.0000\n",
      "Epoch 98/100\n",
      "255/255 [==============================] - 3s 12ms/sample - loss: 37.4646 - dense_loss: 8.3736e-04 - dense_acc: 0.3137 - dense_acc_1: 0.3451 - dense_acc_2: 0.2392 - dense_acc_3: 0.1961 - dense_acc_4: 0.2353 - dense_acc_5: 0.2353 - dense_acc_6: 0.3176 - dense_acc_7: 0.3882 - dense_acc_8: 0.4902 - dense_acc_9: 0.5451 - dense_acc_10: 0.6353 - dense_acc_11: 0.7137 - dense_acc_12: 0.7725 - dense_acc_13: 0.8353 - dense_acc_14: 0.8902 - dense_acc_15: 0.9255 - dense_acc_16: 0.9451 - dense_acc_17: 0.9608 - dense_acc_18: 0.9765 - dense_acc_19: 0.9804 - dense_acc_20: 0.9843 - dense_acc_21: 0.9882 - dense_acc_22: 0.9922 - dense_acc_23: 0.9922 - dense_acc_24: 0.9922 - dense_acc_25: 1.0000 - dense_acc_26: 0.9922 - dense_acc_27: 0.9922 - dense_acc_28: 0.9922 - dense_acc_29: 0.9922 - dense_acc_30: 0.9922 - dense_acc_31: 0.9922 - dense_acc_32: 0.9922 - dense_acc_33: 0.9961 - dense_acc_34: 0.9961 - dense_acc_35: 1.0000 - dense_acc_36: 1.0000 - dense_acc_37: 1.0000 - dense_acc_38: 1.0000 - dense_acc_39: 1.0000 - dense_acc_40: 1.0000 - dense_acc_41: 1.0000 - dense_acc_42: 1.0000 - dense_acc_43: 1.0000 - dense_acc_44: 1.0000 - dense_acc_45: 1.0000\n",
      "Epoch 99/100\n",
      "255/255 [==============================] - 3s 12ms/sample - loss: 37.3306 - dense_loss: 8.4051e-04 - dense_acc: 0.3176 - dense_acc_1: 0.3294 - dense_acc_2: 0.2431 - dense_acc_3: 0.2039 - dense_acc_4: 0.2431 - dense_acc_5: 0.2392 - dense_acc_6: 0.3176 - dense_acc_7: 0.3882 - dense_acc_8: 0.4941 - dense_acc_9: 0.5529 - dense_acc_10: 0.6353 - dense_acc_11: 0.7176 - dense_acc_12: 0.7765 - dense_acc_13: 0.8353 - dense_acc_14: 0.8980 - dense_acc_15: 0.9255 - dense_acc_16: 0.9451 - dense_acc_17: 0.9608 - dense_acc_18: 0.9765 - dense_acc_19: 0.9804 - dense_acc_20: 0.9843 - dense_acc_21: 0.9882 - dense_acc_22: 0.9922 - dense_acc_23: 0.9922 - dense_acc_24: 0.9922 - dense_acc_25: 1.0000 - dense_acc_26: 0.9922 - dense_acc_27: 0.9922 - dense_acc_28: 0.9922 - dense_acc_29: 0.9922 - dense_acc_30: 0.9922 - dense_acc_31: 0.9922 - dense_acc_32: 0.9961 - dense_acc_33: 0.9961 - dense_acc_34: 0.9961 - dense_acc_35: 1.0000 - dense_acc_36: 1.0000 - dense_acc_37: 1.0000 - dense_acc_38: 1.0000 - dense_acc_39: 1.0000 - dense_acc_40: 1.0000 - dense_acc_41: 1.0000 - dense_acc_42: 1.0000 - dense_acc_43: 1.0000 - dense_acc_44: 1.0000 - dense_acc_45: 1.0000\n",
      "Epoch 100/100\n",
      "255/255 [==============================] - 3s 12ms/sample - loss: 37.2356 - dense_loss: 8.4254e-04 - dense_acc: 0.3137 - dense_acc_1: 0.3451 - dense_acc_2: 0.2431 - dense_acc_3: 0.1961 - dense_acc_4: 0.2392 - dense_acc_5: 0.2392 - dense_acc_6: 0.3176 - dense_acc_7: 0.3922 - dense_acc_8: 0.4941 - dense_acc_9: 0.5451 - dense_acc_10: 0.6353 - dense_acc_11: 0.7137 - dense_acc_12: 0.7765 - dense_acc_13: 0.8314 - dense_acc_14: 0.8980 - dense_acc_15: 0.9255 - dense_acc_16: 0.9451 - dense_acc_17: 0.9608 - dense_acc_18: 0.9725 - dense_acc_19: 0.9804 - dense_acc_20: 0.9882 - dense_acc_21: 0.9882 - dense_acc_22: 0.9922 - dense_acc_23: 0.9922 - dense_acc_24: 0.9922 - dense_acc_25: 1.0000 - dense_acc_26: 0.9922 - dense_acc_27: 0.9922 - dense_acc_28: 0.9922 - dense_acc_29: 0.9922 - dense_acc_30: 0.9922 - dense_acc_31: 0.9922 - dense_acc_32: 0.9922 - dense_acc_33: 0.9961 - dense_acc_34: 0.9961 - dense_acc_35: 1.0000 - dense_acc_36: 1.0000 - dense_acc_37: 1.0000 - dense_acc_38: 1.0000 - dense_acc_39: 1.0000 - dense_acc_40: 1.0000 - dense_acc_41: 1.0000 - dense_acc_42: 1.0000 - dense_acc_43: 1.0000 - dense_acc_44: 1.0000 - dense_acc_45: 1.0000\n"
     ]
    },
    {
     "data": {
      "text/plain": [
       "<tensorflow.python.keras.callbacks.History at 0x7f0d928fe208>"
      ]
     },
     "execution_count": 31,
     "metadata": {
      "tags": []
     },
     "output_type": "execute_result"
    }
   ],
   "source": [
    "model.fit([X, a0], list(Y), epochs=100)"
   ]
  },
  {
   "cell_type": "markdown",
   "metadata": {
    "colab_type": "text",
    "id": "nSH36NsyfDr1"
   },
   "source": [
    "<b><i>Inference model for prediction</i></b>"
   ]
  },
  {
   "cell_type": "markdown",
   "metadata": {
    "colab_type": "text",
    "id": "FOg2ymuwfDr4"
   },
   "source": [
    "<img src=\"images/model_predict.png\">\n",
    "\n",
    "\n",
    "Then we have develped a model for prediction which takes the trained LSTM cell as input and predict the caption given the image feature vector. Since the model generates the description in the form of sequences. Certain helper functions are constructed to convert the same to the text description."
   ]
  },
  {
   "cell_type": "code",
   "execution_count": 0,
   "metadata": {
    "colab": {},
    "colab_type": "code",
    "id": "4R7x6hOPsZWl"
   },
   "outputs": [],
   "source": [
    "def inference_model(LSTM_cell, densor, transfer_densor, n_values, Ty=46, n_a = 128):\n",
    "\n",
    "    x0 = Input(shape=(1, n_values))\n",
    "    \n",
    "    a0 = Input(shape=(4096,))\n",
    "    a = transfer_densor(a0)\n",
    "    c = a\n",
    "    x = x0\n",
    "    \n",
    "    outputs = []\n",
    "    \n",
    "    for i in range(Ty):\n",
    "        \n",
    "        a, _, c = LSTM_cell(x, initial_state = [a, c])\n",
    "        \n",
    "        out = densor(a)\n",
    "        \n",
    "        outputs.append(out)\n",
    "        \n",
    "        x = Lambda(one_hot)(out)\n",
    "        \n",
    "    inference_model = Model([x0, a0], outputs)\n",
    "\n",
    "    \n",
    "    return inference_model"
   ]
  },
  {
   "cell_type": "code",
   "execution_count": 33,
   "metadata": {
    "colab": {
     "base_uri": "https://localhost:8080/",
     "height": 34
    },
    "colab_type": "code",
    "id": "SFM8Am55xQk6",
    "outputId": "4806bce0-d4c7-41a0-ea3e-30fb234f4b2f"
   },
   "outputs": [
    {
     "data": {
      "text/plain": [
       "3890"
      ]
     },
     "execution_count": 33,
     "metadata": {
      "tags": []
     },
     "output_type": "execute_result"
    }
   ],
   "source": [
    "vocab_size"
   ]
  },
  {
   "cell_type": "code",
   "execution_count": 0,
   "metadata": {
    "colab": {},
    "colab_type": "code",
    "id": "2C4Fo5AzsZWu"
   },
   "outputs": [],
   "source": [
    "inference_model = inference_model(LSTM_cell, densor, transfer_densor,vocab_size)"
   ]
  },
  {
   "cell_type": "markdown",
   "metadata": {
    "colab_type": "text",
    "id": "O5ZiIWc6fDsW"
   },
   "source": [
    "<b><i>Caption generation</i></b>"
   ]
  },
  {
   "cell_type": "code",
   "execution_count": 0,
   "metadata": {
    "colab": {},
    "colab_type": "code",
    "id": "5-6UoycqsZXO"
   },
   "outputs": [],
   "source": [
    "def predict_and_sample(inference_model, x_initializer, a_initializer):\n",
    "\n",
    "    # Use your inference model to predict an output sequence given x_initializer, a_initializer and c_initializer.\n",
    "    pred = inference_model.predict([x_initializer, a_initializer])\n",
    "\n",
    "    # Convert \"pred\" into an np.array() of indices with the maximum probabilities\n",
    "    indices = np.argmax(np.array(pred), axis = 2)\n",
    "\n",
    "    return indices"
   ]
  },
  {
   "cell_type": "markdown",
   "metadata": {
    "colab_type": "text",
    "id": "FIbvDIlbSvo6"
   },
   "source": [
    "<b><i>VGG16 model for feature extraction</i></b>"
   ]
  },
  {
   "cell_type": "code",
   "execution_count": 36,
   "metadata": {
    "colab": {
     "base_uri": "https://localhost:8080/",
     "height": 52
    },
    "colab_type": "code",
    "id": "SY66XOS8sZW4",
    "outputId": "47d2849c-5a2a-4f89-ed92-73f331aae0fc"
   },
   "outputs": [
    {
     "name": "stdout",
     "output_type": "stream",
     "text": [
      "Downloading data from https://github.com/fchollet/deep-learning-models/releases/download/v0.1/vgg16_weights_tf_dim_ordering_tf_kernels.h5\n",
      "553467904/553467096 [==============================] - 6s 0us/step\n"
     ]
    }
   ],
   "source": [
    "img_model=VGG16(include_top=True, weights='imagenet')"
   ]
  },
  {
   "cell_type": "code",
   "execution_count": 0,
   "metadata": {
    "colab": {},
    "colab_type": "code",
    "id": "D86Zd7f3mn9j"
   },
   "outputs": [],
   "source": [
    "transfer_layer = img_model.get_layer('fc2')"
   ]
  },
  {
   "cell_type": "code",
   "execution_count": 0,
   "metadata": {
    "colab": {},
    "colab_type": "code",
    "id": "ouNBVxe9mrgA"
   },
   "outputs": [],
   "source": [
    "img_model = Model(inputs=img_model.input, outputs=transfer_layer.output)"
   ]
  },
  {
   "cell_type": "code",
   "execution_count": 0,
   "metadata": {
    "colab": {},
    "colab_type": "code",
    "id": "neR1QUlPmzcf"
   },
   "outputs": [],
   "source": [
    "def extract_features(filename):\n",
    "\n",
    "    image = load_img(filename, target_size=(224, 224))\n",
    "    # convert the image pixels to a numpy array\n",
    "    image = img_to_array(image)\n",
    "    # reshape data for the model\n",
    "    image = image.reshape((1, image.shape[0], image.shape[1], image.shape[2]))\n",
    "    # prepare the image for the VGG model\n",
    "    image = preprocess_input(image)\n",
    "    # get features\n",
    "    feature = img_model.predict(image, verbose=0)\n",
    " \n",
    "    return feature"
   ]
  },
  {
   "cell_type": "code",
   "execution_count": 0,
   "metadata": {
    "colab": {},
    "colab_type": "code",
    "id": "T0RfAUiuQobi"
   },
   "outputs": [],
   "source": [
    "def tokens_to_string(self, tokens):\n",
    "    words = [self.index_to_word[token] for token in tokens if token != 0]\n",
    "\n",
    "    text = \" \".join(words)\n",
    "\n",
    "    return text"
   ]
  },
  {
   "cell_type": "markdown",
   "metadata": {
    "colab_type": "text",
    "id": "q1JtUAvITOw5"
   },
   "source": [
    "<b><i>Generator Function</i></b>"
   ]
  },
  {
   "cell_type": "code",
   "execution_count": 0,
   "metadata": {
    "colab": {},
    "colab_type": "code",
    "id": "MiFc78KQRdGA"
   },
   "outputs": [],
   "source": [
    "def generate_caption(feature):\n",
    "  \n",
    "  a0_cap = feature\n",
    "  X_cap = np.zeros((1, vocab_size))\n",
    "  X_cap[0][1] = 1\n",
    "  X_cap = X_cap.reshape(1, 1, vocab_size)\n",
    "  \n",
    "  indices = predict_and_sample(inference_model ,X_cap, a0_cap)\n",
    "  indices = indices.reshape(1,-1).tolist()\n",
    "  text = tokens_to_string(tokenizer, indices[0])\n",
    "  return text"
   ]
  },
  {
   "cell_type": "code",
   "execution_count": 0,
   "metadata": {
    "colab": {},
    "colab_type": "code",
    "id": "-OGy4POE00hE"
   },
   "outputs": [],
   "source": [
    "def show_img(filename):\n",
    "  img=mpimg.imread(img_file)\n",
    "  imgplot = plt.imshow(img)\n",
    "  plt.show()"
   ]
  },
  {
   "cell_type": "code",
   "execution_count": 0,
   "metadata": {
    "colab": {},
    "colab_type": "code",
    "id": "12BPJiSvmwE-"
   },
   "outputs": [],
   "source": [
    "img_file=\"example.jpg\"\n",
    "feature = extract_features(img_file)"
   ]
  },
  {
   "cell_type": "code",
   "execution_count": 45,
   "metadata": {
    "colab": {
     "base_uri": "https://localhost:8080/",
     "height": 351
    },
    "colab_type": "code",
    "id": "WMNBMHJvIN1s",
    "outputId": "bcf73142-aae5-42cc-e141-84630883663e"
   },
   "outputs": [
    {
     "data": {
      "image/png": "[encoded data removed]",
      "text/plain": [
       "<Figure size 576x396 with 1 Axes>"
      ]
     },
     "metadata": {
      "tags": []
     },
     "output_type": "display_data"
    }
   ],
   "source": [
    "show_img(img_file)"
   ]
  },
  {
   "cell_type": "code",
   "execution_count": 48,
   "metadata": {
    "colab": {
     "base_uri": "https://localhost:8080/",
     "height": 34
    },
    "colab_type": "code",
    "id": "z7KcfCWlm2ic",
    "outputId": "6d05e4ef-2cdc-4960-b522-5214f7806212"
   },
   "outputs": [
    {
     "data": {
      "text/plain": [
       "'a man in orange shirt is sitting near the sea'"
      ]
     },
     "execution_count": 48,
     "metadata": {
      "tags": []
     },
     "output_type": "execute_result"
    }
   ],
   "source": [
    "caption = generate_caption(feature)\n",
    "print(caption)"
   ]
  },
  {
   "cell_type": "markdown",
   "metadata": {
    "colab_type": "text",
    "id": "lXVtSIbJIjNq"
   },
   "source": [
    "<b><i>Evaluation of the model</i></b>"
   ]
  },
  {
   "cell_type": "code",
   "execution_count": 0,
   "metadata": {
    "colab": {},
    "colab_type": "code",
    "id": "u3PiybB12Lsn"
   },
   "outputs": [],
   "source": [
    "test_features = load(open('data/dev/dev_features.pkl', 'rb'))"
   ]
  },
  {
   "cell_type": "code",
   "execution_count": 0,
   "metadata": {
    "colab": {},
    "colab_type": "code",
    "id": "PrZp6hBW2L4T"
   },
   "outputs": [],
   "source": [
    "filename='data/dev/dev_descriptions.txt'\n",
    "doc = load_doc(filename)\n",
    "test_descriptions = load_descriptions(doc)"
   ]
  },
  {
   "cell_type": "code",
   "execution_count": 0,
   "metadata": {
    "colab": {},
    "colab_type": "code",
    "id": "2kxxJQW088lc"
   },
   "outputs": [],
   "source": [
    "def evaluate_model(descriptions, photos):\n",
    "  actual, predicted = list(), list()\n",
    "  i=0\n",
    "  for key, desc_list in descriptions.items():\n",
    "    yhat = generate_caption(photos[key])\n",
    "    references = [d.split() for d in desc_list]\n",
    "    actual.append(references)\n",
    "    predicted.append(yhat.split())\n",
    "    i=i+1\n",
    "  print('BLEU-1: %f' % corpus_bleu(actual, predicted, weights=(1.0, 0, 0, 0)))\n",
    "  print('BLEU-2: %f' % corpus_bleu(actual, predicted, weights=(0.5, 0.5, 0, 0)))\n",
    "  print('BLEU-3: %f' % corpus_bleu(actual, predicted, weights=(0.3, 0.3, 0.3, 0)))\n",
    "  print('BLEU-4: %f' % corpus_bleu(actual, predicted, weights=(0.25, 0.25, 0.25, 0.25)))"
   ]
  },
  {
   "cell_type": "code",
   "execution_count": 57,
   "metadata": {
    "colab": {
     "base_uri": "https://localhost:8080/",
     "height": 87
    },
    "colab_type": "code",
    "id": "XsrSkSrU396Q",
    "outputId": "ce6b842e-0334-4ee1-9bbd-dc453e52a784"
   },
   "outputs": [
    {
     "name": "stdout",
     "output_type": "stream",
     "text": [
      "BLEU-1: 0.559334\n",
      "BLEU-2: 0.322646\n",
      "BLEU-3: 0.261209\n",
      "BLEU-4: 0.125673\n"
     ]
    }
   ],
   "source": [
    "evaluate_model(test_descriptions, test_features)"
   ]
  },
  {
   "cell_type": "markdown",
   "metadata": {
    "colab_type": "text",
    "id": "hAHEOgLfMF-m"
   },
   "source": [
    "This is a pretty good model accuracy with only one layer of lstm.  As per the accuracy calculated by other authors like <b> Andrej Karpathy</b>,  on flickr8k dataset, this model performs bad but  this is a good accuracy keeping in mind the model computation complexity. Another author <b>Daniel J L</b> has used 3 layers of lstm and the size of emdedding used was 300 but here we have used just one layer of lstm model and emdedding size of 128 which makes it computatonally less expensive and makes it feasible to train on limited hardware resources."
   ]
  },
  {
   "cell_type": "markdown",
   "metadata": {
    "colab": {},
    "colab_type": "code",
    "id": "bv_RgCPaL7PO"
   },
   "source": [
    "<i><b>References</b></i>:\n",
    "\n",
    " - Junhua Mao et al. - [Deep Captioning with Multimodal Recurrent Neural Networks (m-RNN)](https://arxiv.org/abs/1412.6632)\n",
    " - Oriol Vinyals et al. - [Show and Tell: A Neural Image Caption Generator](https://arxiv.org/abs/1411.4555)\n",
    " - Marc Tanti et al. - [Where to put the Image in an Image Caption Generator](https://arxiv.org/abs/1703.09137)\n",
    " - Andrew_ng deep learning course - [Deep learning Specialization course](https://www.coursera.org/specializations/deep-learning)\n",
    " - Jason Brownlee - [machinelearningmastery.com](https://machinelearningmastery.com/develop-a-deep-learning-caption-generation-model-in-python/) \n",
    " "
   ]
  },
  {
   "cell_type": "code",
   "execution_count": null,
   "metadata": {},
   "outputs": [],
   "source": []
  }
 ],
 "metadata": {
  "accelerator": "GPU",
  "colab": {
   "collapsed_sections": [],
   "name": "captioning_(1).ipynb",
   "provenance": [],
   "version": "0.3.2"
  },
  "kernelspec": {
   "display_name": "Python 3",
   "language": "python",
   "name": "python3"
  },
  "language_info": {
   "codemirror_mode": {
    "name": "ipython",
    "version": 3
   },
   "file_extension": ".py",
   "mimetype": "text/x-python",
   "name": "python",
   "nbconvert_exporter": "python",
   "pygments_lexer": "ipython3",
   "version": "3.5.0"
  }
 },
 "nbformat": 4,
 "nbformat_minor": 1
}
