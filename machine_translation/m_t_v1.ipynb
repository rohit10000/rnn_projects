{
 "cells": [
  {
   "cell_type": "markdown",
   "metadata": {},
   "source": [
    "# Neural Machine Translation using Encoder - Decoder Model in LSTM"
   ]
  },
  {
   "cell_type": "code",
   "execution_count": 1,
   "metadata": {},
   "outputs": [
    {
     "name": "stderr",
     "output_type": "stream",
     "text": [
      "Using TensorFlow backend.\n"
     ]
    }
   ],
   "source": [
    "import string\n",
    "import re\n",
    "from pickle import dump\n",
    "from unicodedata import normalize\n",
    "from numpy import array\n",
    "\n",
    "from pickle import load\n",
    "from numpy.random import rand\n",
    "from numpy.random import shuffle\n",
    "\n",
    "from tensorflow.python.keras.preprocessing.text import Tokenizer\n",
    "\n",
    "from pickle import load\n",
    "from keras.preprocessing.text import Tokenizer\n",
    "from keras.preprocessing.sequence import pad_sequences\n",
    "from keras.utils import to_categorical\n",
    "from keras.utils.vis_utils import plot_model\n",
    "from keras.models import Sequential\n",
    "from keras.models import Model\n",
    "from keras.layers import LSTM, Input\n",
    "from keras.layers import Dense\n",
    "from keras.layers import Embedding\n",
    "from keras.layers import RepeatVector\n",
    "from keras.layers import TimeDistributed\n",
    "from keras.callbacks import ModelCheckpoint\n",
    "\n",
    "\n",
    "from numpy import argmax\n",
    "from keras.preprocessing.text import Tokenizer\n",
    "from keras.preprocessing.sequence import pad_sequences\n",
    "from keras.models import load_model\n",
    "from nltk.translate.bleu_score import corpus_bleu"
   ]
  },
  {
   "cell_type": "code",
   "execution_count": 2,
   "metadata": {},
   "outputs": [],
   "source": [
    "# load a clean dataset\n",
    "def load_clean_sentences(filename):\n",
    "    return load(open(filename, 'rb'))"
   ]
  },
  {
   "cell_type": "code",
   "execution_count": 4,
   "metadata": {},
   "outputs": [],
   "source": [
    "# load datasets\n",
    "dataset = load_clean_sentences('english-french-both.pkl')\n",
    "train = load_clean_sentences('english-french-train.pkl')\n",
    "test = load_clean_sentences('english-french-test.pkl')"
   ]
  },
  {
   "cell_type": "code",
   "execution_count": 5,
   "metadata": {},
   "outputs": [],
   "source": [
    "# fit a tokenizer\n",
    "def create_tokenizer(lines):\n",
    "    tokenizer = Tokenizer()\n",
    "    tokenizer.fit_on_texts(lines)\n",
    "    return tokenizer"
   ]
  },
  {
   "cell_type": "code",
   "execution_count": 6,
   "metadata": {},
   "outputs": [],
   "source": [
    "# max sentence length\n",
    "def max_length(lines):\n",
    "    return max(len(line.split()) for line in lines)"
   ]
  },
  {
   "cell_type": "code",
   "execution_count": 7,
   "metadata": {},
   "outputs": [
    {
     "name": "stdout",
     "output_type": "stream",
     "text": [
      "English Vocabulary Size: 2125\n",
      "English Max Length: 5\n",
      "french Vocabulary Size: 4397\n",
      "french Max Length: 10\n"
     ]
    }
   ],
   "source": [
    "# prepare english tokenizer\n",
    "eng_tokenizer = create_tokenizer(dataset[:, 0])\n",
    "eng_vocab_size = len(eng_tokenizer.word_index) + 1\n",
    "eng_length = max_length(dataset[:, 0])\n",
    "print('English Vocabulary Size: %d' % eng_vocab_size)\n",
    "print('English Max Length: %d' % (eng_length))\n",
    "# prepare german tokenizer\n",
    "fra_tokenizer = create_tokenizer(dataset[:, 1])\n",
    "fra_vocab_size = len(fra_tokenizer.word_index) + 1\n",
    "fra_length = max_length(dataset[:, 1])\n",
    "print('french Vocabulary Size: %d' % fra_vocab_size)\n",
    "print('french Max Length: %d' % (fra_length))"
   ]
  },
  {
   "cell_type": "code",
   "execution_count": 8,
   "metadata": {},
   "outputs": [],
   "source": [
    "eng_tokenizer.index_to_word = dict(zip(eng_tokenizer.word_index.values(), eng_tokenizer.word_index.keys()))\n",
    "fra_tokenizer.index_to_word = dict(zip(fra_tokenizer.word_index.values(), fra_tokenizer.word_index.keys()))"
   ]
  },
  {
   "cell_type": "code",
   "execution_count": 9,
   "metadata": {},
   "outputs": [],
   "source": [
    "# encode and pad sequences\n",
    "def encode_sequences(tokenizer, length, lines):\n",
    "    # integer encode sequences\n",
    "    X = tokenizer.texts_to_sequences(lines)\n",
    "    # pad sequences with 0 values\n",
    "    X = pad_sequences(X, maxlen=length, padding='post')\n",
    "    return X"
   ]
  },
  {
   "cell_type": "code",
   "execution_count": 10,
   "metadata": {},
   "outputs": [],
   "source": [
    "# one hot encode target sequence\n",
    "def encode_output(sequences, vocab_size):\n",
    "    ylist = list()\n",
    "    for sequence in sequences:\n",
    "        encoded = to_categorical(sequence, num_classes=vocab_size)\n",
    "        ylist.append(encoded)\n",
    "    y = array(ylist)\n",
    "    y = y.reshape(sequences.shape[0], sequences.shape[1], vocab_size)\n",
    "    return y"
   ]
  },
  {
   "cell_type": "code",
   "execution_count": 11,
   "metadata": {},
   "outputs": [],
   "source": [
    "# prepare training data\n",
    "trainX = encode_sequences(fra_tokenizer, fra_length, train[:, 1])\n",
    "trainY = encode_sequences(eng_tokenizer, eng_length, train[:, 0])"
   ]
  },
  {
   "cell_type": "code",
   "execution_count": 12,
   "metadata": {},
   "outputs": [],
   "source": [
    "trainY = encode_output(trainY, eng_vocab_size)"
   ]
  },
  {
   "cell_type": "code",
   "execution_count": 13,
   "metadata": {},
   "outputs": [
    {
     "name": "stdout",
     "output_type": "stream",
     "text": [
      "[2185    0    0    0    0    0    0    0    0    0]\n",
      "['i will return' 'je reviendrai']\n"
     ]
    }
   ],
   "source": [
    "print(trainX[9])\n",
    "print(train[0])"
   ]
  },
  {
   "cell_type": "code",
   "execution_count": 14,
   "metadata": {},
   "outputs": [
    {
     "name": "stdout",
     "output_type": "stream",
     "text": [
      "(9000, 10)\n",
      "(9000, 5, 2125)\n"
     ]
    },
    {
     "data": {
      "text/plain": [
       "4397"
      ]
     },
     "execution_count": 14,
     "metadata": {},
     "output_type": "execute_result"
    }
   ],
   "source": [
    "print(trainX.shape)\n",
    "print(trainY.shape)\n",
    "fra_vocab_size"
   ]
  },
  {
   "cell_type": "code",
   "execution_count": 15,
   "metadata": {},
   "outputs": [],
   "source": [
    "# prepare validation data\n",
    "testX = encode_sequences(fra_tokenizer, fra_length, test[:, 1])\n",
    "testY = encode_sequences(eng_tokenizer, eng_length, test[:, 0])\n",
    "testY = encode_output(testY, eng_vocab_size)"
   ]
  },
  {
   "cell_type": "code",
   "execution_count": 16,
   "metadata": {},
   "outputs": [],
   "source": [
    "def define_model(src_vocab, tar_vocab, src_timesteps, tar_timesteps, n_units):\n",
    "    X_input = Input((src_timesteps,))\n",
    "    X = Embedding(src_vocab, n_units, input_length=src_timesteps, mask_zero=True)(X_input)\n",
    "    X = LSTM(n_units)(X)\n",
    "    X = RepeatVector(tar_timesteps)(X)\n",
    "    X = LSTM(n_units, return_sequences=True)(X)\n",
    "    X = TimeDistributed(Dense(tar_vocab, activation='softmax'))(X)\n",
    "    model = Model(inputs = X_input, outputs = X)\n",
    "    \n",
    "    return model"
   ]
  },
  {
   "cell_type": "code",
   "execution_count": 17,
   "metadata": {},
   "outputs": [],
   "source": [
    "# define model\n",
    "model = define_model(fra_vocab_size, eng_vocab_size, fra_length, eng_length, 256)\n",
    "model.compile(optimizer='adam', loss='categorical_crossentropy')"
   ]
  },
  {
   "cell_type": "code",
   "execution_count": 18,
   "metadata": {},
   "outputs": [
    {
     "name": "stdout",
     "output_type": "stream",
     "text": [
      "Train on 9000 samples, validate on 1000 samples\n",
      "Epoch 1/30\n",
      " - 43s - loss: 4.2561 - val_loss: 3.4952\n",
      "\n",
      "Epoch 00001: val_loss improved from inf to 3.49524, saving model to model.h5\n",
      "Epoch 2/30\n",
      " - 40s - loss: 3.3083 - val_loss: 3.3091\n",
      "\n",
      "Epoch 00002: val_loss improved from 3.49524 to 3.30911, saving model to model.h5\n",
      "Epoch 3/30\n",
      " - 42s - loss: 3.1434 - val_loss: 3.2105\n",
      "\n",
      "Epoch 00003: val_loss improved from 3.30911 to 3.21049, saving model to model.h5\n",
      "Epoch 4/30\n",
      " - 43s - loss: 3.0153 - val_loss: 3.1099\n",
      "\n",
      "Epoch 00004: val_loss improved from 3.21049 to 3.10988, saving model to model.h5\n",
      "Epoch 5/30\n",
      " - 41s - loss: 2.8434 - val_loss: 2.9636\n",
      "\n",
      "Epoch 00005: val_loss improved from 3.10988 to 2.96361, saving model to model.h5\n",
      "Epoch 6/30\n",
      " - 39s - loss: 2.6658 - val_loss: 2.8375\n",
      "\n",
      "Epoch 00006: val_loss improved from 2.96361 to 2.83755, saving model to model.h5\n",
      "Epoch 7/30\n",
      " - 39s - loss: 2.5026 - val_loss: 2.7410\n",
      "\n",
      "Epoch 00007: val_loss improved from 2.83755 to 2.74101, saving model to model.h5\n",
      "Epoch 8/30\n",
      " - 39s - loss: 2.3518 - val_loss: 2.6453\n",
      "\n",
      "Epoch 00008: val_loss improved from 2.74101 to 2.64525, saving model to model.h5\n",
      "Epoch 9/30\n",
      " - 39s - loss: 2.1987 - val_loss: 2.5554\n",
      "\n",
      "Epoch 00009: val_loss improved from 2.64525 to 2.55539, saving model to model.h5\n",
      "Epoch 10/30\n",
      " - 39s - loss: 2.0503 - val_loss: 2.4689\n",
      "\n",
      "Epoch 00010: val_loss improved from 2.55539 to 2.46885, saving model to model.h5\n",
      "Epoch 11/30\n",
      " - 38s - loss: 1.9064 - val_loss: 2.4025\n",
      "\n",
      "Epoch 00011: val_loss improved from 2.46885 to 2.40254, saving model to model.h5\n",
      "Epoch 12/30\n",
      " - 42s - loss: 1.7686 - val_loss: 2.3500\n",
      "\n",
      "Epoch 00012: val_loss improved from 2.40254 to 2.35003, saving model to model.h5\n",
      "Epoch 13/30\n",
      " - 41s - loss: 1.6432 - val_loss: 2.2684\n",
      "\n",
      "Epoch 00013: val_loss improved from 2.35003 to 2.26839, saving model to model.h5\n",
      "Epoch 14/30\n",
      " - 42s - loss: 1.5202 - val_loss: 2.2250\n",
      "\n",
      "Epoch 00014: val_loss improved from 2.26839 to 2.22497, saving model to model.h5\n",
      "Epoch 15/30\n",
      " - 42s - loss: 1.4073 - val_loss: 2.1761\n",
      "\n",
      "Epoch 00015: val_loss improved from 2.22497 to 2.17606, saving model to model.h5\n",
      "Epoch 16/30\n",
      " - 45s - loss: 1.3009 - val_loss: 2.1458\n",
      "\n",
      "Epoch 00016: val_loss improved from 2.17606 to 2.14583, saving model to model.h5\n",
      "Epoch 17/30\n",
      " - 45s - loss: 1.2009 - val_loss: 2.1071\n",
      "\n",
      "Epoch 00017: val_loss improved from 2.14583 to 2.10712, saving model to model.h5\n",
      "Epoch 18/30\n",
      " - 44s - loss: 1.1075 - val_loss: 2.0766\n",
      "\n",
      "Epoch 00018: val_loss improved from 2.10712 to 2.07660, saving model to model.h5\n",
      "Epoch 19/30\n",
      " - 42s - loss: 1.0162 - val_loss: 2.0376\n",
      "\n",
      "Epoch 00019: val_loss improved from 2.07660 to 2.03761, saving model to model.h5\n",
      "Epoch 20/30\n",
      " - 49s - loss: 0.9303 - val_loss: 2.0316\n",
      "\n",
      "Epoch 00020: val_loss improved from 2.03761 to 2.03157, saving model to model.h5\n",
      "Epoch 21/30\n",
      " - 50s - loss: 0.8520 - val_loss: 2.0044\n",
      "\n",
      "Epoch 00021: val_loss improved from 2.03157 to 2.00445, saving model to model.h5\n",
      "Epoch 22/30\n",
      " - 47s - loss: 0.7796 - val_loss: 1.9798\n",
      "\n",
      "Epoch 00022: val_loss improved from 2.00445 to 1.97979, saving model to model.h5\n",
      "Epoch 23/30\n",
      " - 53s - loss: 0.7118 - val_loss: 1.9464\n",
      "\n",
      "Epoch 00023: val_loss improved from 1.97979 to 1.94644, saving model to model.h5\n",
      "Epoch 24/30\n",
      " - 47s - loss: 0.6476 - val_loss: 1.9386\n",
      "\n",
      "Epoch 00024: val_loss improved from 1.94644 to 1.93858, saving model to model.h5\n",
      "Epoch 25/30\n",
      " - 46s - loss: 0.5894 - val_loss: 1.9176\n",
      "\n",
      "Epoch 00025: val_loss improved from 1.93858 to 1.91765, saving model to model.h5\n",
      "Epoch 26/30\n",
      " - 46s - loss: 0.5376 - val_loss: 1.9145\n",
      "\n",
      "Epoch 00026: val_loss improved from 1.91765 to 1.91453, saving model to model.h5\n",
      "Epoch 27/30\n",
      " - 47s - loss: 0.4889 - val_loss: 1.9153\n",
      "\n",
      "Epoch 00027: val_loss did not improve from 1.91453\n",
      "Epoch 28/30\n",
      " - 47s - loss: 0.4441 - val_loss: 1.8946\n",
      "\n",
      "Epoch 00028: val_loss improved from 1.91453 to 1.89457, saving model to model.h5\n",
      "Epoch 29/30\n",
      " - 47s - loss: 0.4044 - val_loss: 1.8916\n",
      "\n",
      "Epoch 00029: val_loss improved from 1.89457 to 1.89160, saving model to model.h5\n",
      "Epoch 30/30\n",
      " - 50s - loss: 0.3688 - val_loss: 1.8870\n",
      "\n",
      "Epoch 00030: val_loss improved from 1.89160 to 1.88702, saving model to model.h5\n"
     ]
    },
    {
     "data": {
      "text/plain": [
       "<keras.callbacks.History at 0xc2d63a1cf8>"
      ]
     },
     "execution_count": 18,
     "metadata": {},
     "output_type": "execute_result"
    }
   ],
   "source": [
    "# fit model\n",
    "filename = 'model.h5'\n",
    "checkpoint = ModelCheckpoint(filename, monitor='val_loss', verbose=1, save_best_only=True, mode='min')\n",
    "model.fit(trainX, trainY, epochs=30, batch_size=64, validation_data=(testX, testY), callbacks=[checkpoint], verbose=2)"
   ]
  },
  {
   "cell_type": "markdown",
   "metadata": {},
   "source": [
    "model.load_weights('model.h5')"
   ]
  },
  {
   "cell_type": "code",
   "execution_count": 19,
   "metadata": {},
   "outputs": [],
   "source": [
    "def word_for_id(integer, tokenizer):\n",
    "    for word, index in tokenizer.word_index.items():\n",
    "        if index == integer:\n",
    "            return word\n",
    "    return None"
   ]
  },
  {
   "cell_type": "code",
   "execution_count": 20,
   "metadata": {},
   "outputs": [],
   "source": [
    "# generate target given source sequence\n",
    "def predict_sequence(model, tokenizer, source):\n",
    "    prediction = model.predict(source, verbose=0)[0]\n",
    "    integers = [argmax(vector) for vector in prediction]\n",
    "    target = list()\n",
    "    for i in integers:\n",
    "        word = word_for_id(i, tokenizer)\n",
    "        if word is None:\n",
    "            break\n",
    "        target.append(word)\n",
    "    return ' '.join(target)"
   ]
  },
  {
   "cell_type": "code",
   "execution_count": 21,
   "metadata": {},
   "outputs": [],
   "source": [
    "def tokens_to_string(self, tokens):\n",
    "    words = [self.index_to_word[token] for token in tokens if token != 0]\n",
    "\n",
    "    text = \" \".join(words)\n",
    "\n",
    "    return text"
   ]
  },
  {
   "cell_type": "code",
   "execution_count": 22,
   "metadata": {},
   "outputs": [],
   "source": [
    "def print_trans(sources, model, tokenizer):\n",
    "    for i, source in enumerate(sources):\n",
    "        source_ = source.reshape((1, source.shape[0]))\n",
    "        translation = predict_sequence(model, tokenizer, source_)\n",
    "        print(tokens_to_string(fra_tokenizer, list(source)),\"==>\",translation)"
   ]
  },
  {
   "cell_type": "code",
   "execution_count": 23,
   "metadata": {},
   "outputs": [
    {
     "name": "stdout",
     "output_type": "stream",
     "text": [
      "cest gros ==> its stupid\n",
      "je vous ai contrariees ==> ive upset you\n",
      "viens bientot ==> come soon\n",
      "jai arrete de fumer ==> i feel smoking\n",
      "attendeznous ==> take yourself\n",
      "estce un elan ==> is it a wolf\n",
      "vous vous souvenez ==> you you remember\n",
      "cest amusant ==> thats funny\n",
      "elle marche ==> it works\n",
      "viens vite ==> come quickly\n"
     ]
    }
   ],
   "source": [
    "example1 = testX[0:10, :]\n",
    "print_trans(example1, model, eng_tokenizer)"
   ]
  },
  {
   "cell_type": "code",
   "execution_count": 24,
   "metadata": {},
   "outputs": [],
   "source": [
    "# evaluate the skill of the model\n",
    "def evaluate_model(model, tokenizer, sources, raw_dataset):\n",
    "    actual, predicted = list(), list()\n",
    "    for i, source in enumerate(sources):\n",
    "        # translate encoded source text\n",
    "        source = source.reshape((1, source.shape[0]))\n",
    "        translation = predict_sequence(model, tokenizer, source)\n",
    "        raw_target, raw_src = raw_dataset[i]\n",
    "        actual.append(raw_target.split())\n",
    "        predicted.append(translation.split())\n",
    "    # calculate BLEU score\n",
    "    print('BLEU-1: %f' % corpus_bleu(actual, predicted, weights=(1.0, 0, 0, 0)))\n",
    "    print('BLEU-2: %f' % corpus_bleu(actual, predicted, weights=(0.5, 0.5, 0, 0)))\n",
    "    print('BLEU-3: %f' % corpus_bleu(actual, predicted, weights=(0.3, 0.3, 0.3, 0)))\n",
    "    print('BLEU-4: %f' % corpus_bleu(actual, predicted, weights=(0.25, 0.25, 0.25, 0.25)))"
   ]
  },
  {
   "cell_type": "code",
   "execution_count": 25,
   "metadata": {},
   "outputs": [
    {
     "name": "stdout",
     "output_type": "stream",
     "text": [
      "train\n"
     ]
    },
    {
     "name": "stderr",
     "output_type": "stream",
     "text": [
      "C:\\Python3.5\\lib\\site-packages\\nltk\\translate\\bleu_score.py:523: UserWarning: \n",
      "The hypothesis contains 0 counts of 2-gram overlaps.\n",
      "Therefore the BLEU score evaluates to 0, independently of\n",
      "how many N-gram overlaps of lower order it contains.\n",
      "Consider using lower n-gram order or use SmoothingFunction()\n",
      "  warnings.warn(_msg)\n",
      "C:\\Python3.5\\lib\\site-packages\\nltk\\translate\\bleu_score.py:523: UserWarning: \n",
      "The hypothesis contains 0 counts of 3-gram overlaps.\n",
      "Therefore the BLEU score evaluates to 0, independently of\n",
      "how many N-gram overlaps of lower order it contains.\n",
      "Consider using lower n-gram order or use SmoothingFunction()\n",
      "  warnings.warn(_msg)\n",
      "C:\\Python3.5\\lib\\site-packages\\nltk\\translate\\bleu_score.py:523: UserWarning: \n",
      "The hypothesis contains 0 counts of 4-gram overlaps.\n",
      "Therefore the BLEU score evaluates to 0, independently of\n",
      "how many N-gram overlaps of lower order it contains.\n",
      "Consider using lower n-gram order or use SmoothingFunction()\n",
      "  warnings.warn(_msg)\n"
     ]
    },
    {
     "name": "stdout",
     "output_type": "stream",
     "text": [
      "BLEU-1: 0.087014\n",
      "BLEU-2: 0.000000\n",
      "BLEU-3: 0.000000\n",
      "BLEU-4: 0.000000\n",
      "test\n",
      "BLEU-1: 0.083169\n",
      "BLEU-2: 0.000000\n",
      "BLEU-3: 0.000000\n",
      "BLEU-4: 0.000000\n"
     ]
    }
   ],
   "source": [
    "# test on some training sequences\n",
    "print('train')\n",
    "evaluate_model(model, eng_tokenizer, trainX, train)\n",
    "# test on some test sequences\n",
    "print('test')\n",
    "evaluate_model(model, eng_tokenizer, testX, test)"
   ]
  },
  {
   "cell_type": "code",
   "execution_count": null,
   "metadata": {},
   "outputs": [],
   "source": []
  }
 ],
 "metadata": {
  "kernelspec": {
   "display_name": "Python 3",
   "language": "python",
   "name": "python3"
  },
  "language_info": {
   "codemirror_mode": {
    "name": "ipython",
    "version": 3
   },
   "file_extension": ".py",
   "mimetype": "text/x-python",
   "name": "python",
   "nbconvert_exporter": "python",
   "pygments_lexer": "ipython3",
   "version": "3.5.0"
  }
 },
 "nbformat": 4,
 "nbformat_minor": 2
}
